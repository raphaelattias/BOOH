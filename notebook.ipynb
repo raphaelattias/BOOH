{
 "cells": [
  {
   "cell_type": "code",
   "execution_count": 1,
   "metadata": {},
   "outputs": [],
   "source": [
    "new_column_names = {\n",
    "    'Age at delivery': 'Age',\n",
    "    'Marital status (0 = unmarried, 1 = married)': 'MaritalStatus',\n",
    "    'Ethnicity (0 = not hispanic/latino, 1 = hispanic/latino)': 'Ethnicity',\n",
    "    'Race (1 = American Indian, 2 = Asian, 3 = Black/African American, 4 = Caucasian/White, 5 = Pacific Islander, 6 = Mixed, 7 = Other': 'Race',\n",
    "    'Primary Language': 'PrimaryLanguage',\n",
    "    'Translation Service Utilized (0 = none, 1 = yes)': 'TranslationService',\n",
    "    'PCP on file (0 = none, 1 = yes)': 'PCPonFile',\n",
    "    'Insurance Coverage (0 = none, 1 = Medicaid/Medicare, 2 = Other)': 'InsuranceCoverage',\n",
    "    'Substance Use (0 = none, 1 = any ICD in ICD chart)': 'SubstanceUse',\n",
    "    'Educational Attainment (0 = none listed, 1 = less than high school, 2 = high school graduate, 3 = some college, 4 = Bachelor and above': 'Education',\n",
    "    'Employment Status (0 = not listed, 1 = unemployed, 2 = employed)': 'Employment',\n",
    "    'History of Prenatal Care (0 = none, if yes list how many visits) ': 'PrenatalCareHistory',\n",
    "    'Maternal Pathologies (0 = none, If present list ICD)': 'MaternalPathologies',\n",
    "    'Pregnancy Complications (0 = none, If present list ICD)': 'PregnancyComplications',\n",
    "    'Parity (0 = nulliparous, 1 = 1 prior child, etc.)': 'Parity'\n",
    "}\n",
    "\n",
    "# Rename the columns"
   ]
  },
  {
   "cell_type": "code",
   "execution_count": 2,
   "metadata": {},
   "outputs": [],
   "source": [
    "import pandas as pd\n",
    "\n",
    "# read xlsx file\n",
    "\n",
    "df_out_of_hospital = pd.read_excel('data.xlsx', sheet_name='UOHB Maternal Characteristics')\n",
    "df_in_hospital = pd.read_excel('data.xlsx', sheet_name='IHB Maternal Characteristics')\n",
    "\n",
    "# rename column to \"Pregnancy Complications\"\n",
    "df_out_of_hospital.rename(columns=new_column_names, inplace=True)\n",
    "df_in_hospital.rename(columns=new_column_names, inplace=True)\n",
    "\n",
    "df_out_of_hospital['PregnancyComplicationsCount'] = df_out_of_hospital['PregnancyComplications'].apply(lambda x: len(str(x).split(',')) if x else 0)\n",
    "df_in_hospital['PregnancyComplicationsCount'] = df_in_hospital['PregnancyComplications'].apply(lambda x: len(str(x).split(',')) if x else 0)\n",
    "\n",
    "df_out_of_hospital['PregnancyComplications'] = df_out_of_hospital['PregnancyComplications'].apply(lambda x: 1 if x else 0)\n",
    "df_in_hospital['PregnancyComplications'] = df_in_hospital['PregnancyComplications'].apply(lambda x: 1 if x else 0)"
   ]
  },
  {
   "cell_type": "code",
   "execution_count": 3,
   "metadata": {},
   "outputs": [],
   "source": [
    "import pandas as pd\n",
    "\n",
    "# read xlsx file\n",
    "\n",
    "df_baby_out_of_hospital = pd.read_excel('data.xlsx', sheet_name='UOHB Neonates Characteristics')\n",
    "df_baby_in_hospital = pd.read_excel('data.xlsx', sheet_name='IHB Neonates Characteristics')\n",
    "\n",
    "# rename column to \"Pregnancy Complications\"\n",
    "#df_baby_out_of_hospital.rename(columns=new_column_names, inplace=True)\n",
    "#df_baby_in_hospital.rename(columns=new_column_names, inplace=True)\n",
    "\n",
    "df = pd.concat([df_out_of_hospital, df_in_hospital], keys=['Out of Hospital', 'In Hospital'])\n",
    "df.reset_index(inplace=True)\n",
    "df.rename(columns={'level_0': 'OutofHospital'}, inplace=True)\n",
    "df['OutofHospital'] = df['OutofHospital'].apply(lambda x: 1 if x == 'Out of Hospital' else 0)\n"
   ]
  },
  {
   "cell_type": "code",
   "execution_count": 4,
   "metadata": {},
   "outputs": [],
   "source": [
    "df = pd.concat([df_in_hospital, df_out_of_hospital], keys=['Out of Hospital', 'In Hospital'])\n",
    "df.reset_index(inplace=True)\n",
    "df.rename(columns={'level_0': 'OutofHospital'}, inplace=True)\n",
    "#df.Parity = df.Parity.apply(lambda x: f\"{x} prior children\" if x > 1 else f\"No prior child\")\n",
    "df['OutofHospital'] = df['OutofHospital'].apply(lambda x: 1 if x == 'Out of Hospital' else 0)\n",
    "mapping_dictionaries = {\n",
    "    'MaritalStatus': {\n",
    "        0: 'unmarried',\n",
    "        1: 'married'\n",
    "    },\n",
    "    'Ethnicity': {\n",
    "        0: 'not hispanic/latino',\n",
    "        1: 'hispanic/latino'\n",
    "    },\n",
    "    'Race': {\n",
    "        1: 'American Indian',\n",
    "        2: 'Asian',\n",
    "        3: 'Black/African American',\n",
    "        4: 'Caucasian/White',\n",
    "        5: 'Pacific Islander',\n",
    "        6: 'Mixed',\n",
    "        7: 'Other'\n",
    "    },\n",
    "    'TranslationService': {\n",
    "        0: 'none',\n",
    "        1: 'yes'\n",
    "    },\n",
    "    'PCPonFile': {\n",
    "        0: 'none',\n",
    "        1: 'yes'\n",
    "    },\n",
    "    'InsuranceCoverage': {\n",
    "        0: 'none',\n",
    "        1: 'Medicaid/Medicare',\n",
    "        2: 'Other'\n",
    "    },\n",
    "    'SubstanceUse': {\n",
    "        0: 'none',\n",
    "        1: 'any ICD in ICD chart'\n",
    "    },\n",
    "    'Education': {\n",
    "        0: 'none listed',\n",
    "        1: 'less than high school',\n",
    "        2: 'high school graduate',\n",
    "        3: 'some college',\n",
    "        4: 'Bachelor and above'\n",
    "    },\n",
    "    'Employment': {\n",
    "        0: 'not listed',\n",
    "        1: 'unemployed',\n",
    "        2: 'employed'\n",
    "    },\n",
    "}\n",
    "\n",
    "# Replacing numerical values with categories for each column in the DataFrame\n",
    "for column, mapping in mapping_dictionaries.items():\n",
    "    df[column] = df[column].replace(mapping)\n",
    "\n",
    "df.Race.replace({0: \"Other\"}, inplace=True)"
   ]
  },
  {
   "cell_type": "code",
   "execution_count": 5,
   "metadata": {},
   "outputs": [
    {
     "data": {
      "text/html": [
       "<div>\n",
       "<style scoped>\n",
       "    .dataframe tbody tr th:only-of-type {\n",
       "        vertical-align: middle;\n",
       "    }\n",
       "\n",
       "    .dataframe tbody tr th {\n",
       "        vertical-align: top;\n",
       "    }\n",
       "\n",
       "    .dataframe thead th {\n",
       "        text-align: right;\n",
       "    }\n",
       "</style>\n",
       "<table border=\"1\" class=\"dataframe\">\n",
       "  <thead>\n",
       "    <tr style=\"text-align: right;\">\n",
       "      <th></th>\n",
       "      <th>OutofHospital</th>\n",
       "      <th>level_1</th>\n",
       "      <th>Age</th>\n",
       "      <th>MaritalStatus</th>\n",
       "      <th>Ethnicity</th>\n",
       "      <th>Race</th>\n",
       "      <th>PrimaryLanguage</th>\n",
       "      <th>TranslationService</th>\n",
       "      <th>PCPonFile</th>\n",
       "      <th>InsuranceCoverage</th>\n",
       "      <th>SubstanceUse</th>\n",
       "      <th>Education</th>\n",
       "      <th>Employment</th>\n",
       "      <th>PrenatalCareHistory</th>\n",
       "      <th>MaternalPathologies</th>\n",
       "      <th>PregnancyComplications</th>\n",
       "      <th>Parity</th>\n",
       "      <th>PregnancyComplicationsCount</th>\n",
       "    </tr>\n",
       "  </thead>\n",
       "  <tbody>\n",
       "    <tr>\n",
       "      <th>0</th>\n",
       "      <td>1</td>\n",
       "      <td>0</td>\n",
       "      <td>34</td>\n",
       "      <td>unmarried</td>\n",
       "      <td>hispanic/latino</td>\n",
       "      <td>Other</td>\n",
       "      <td>Spanish</td>\n",
       "      <td>yes</td>\n",
       "      <td>none</td>\n",
       "      <td>none</td>\n",
       "      <td>none</td>\n",
       "      <td>none listed</td>\n",
       "      <td>unemployed</td>\n",
       "      <td>Yes, unknown number of visits</td>\n",
       "      <td>O13.9</td>\n",
       "      <td>1</td>\n",
       "      <td>2</td>\n",
       "      <td>2</td>\n",
       "    </tr>\n",
       "    <tr>\n",
       "      <th>1</th>\n",
       "      <td>1</td>\n",
       "      <td>1</td>\n",
       "      <td>29</td>\n",
       "      <td>married</td>\n",
       "      <td>not hispanic/latino</td>\n",
       "      <td>Black/African American</td>\n",
       "      <td>Urdu</td>\n",
       "      <td>none</td>\n",
       "      <td>yes</td>\n",
       "      <td>Medicaid/Medicare</td>\n",
       "      <td>none</td>\n",
       "      <td>none listed</td>\n",
       "      <td>unemployed</td>\n",
       "      <td>Yes, unknown number of visits</td>\n",
       "      <td>E66.9</td>\n",
       "      <td>0</td>\n",
       "      <td>4</td>\n",
       "      <td>0</td>\n",
       "    </tr>\n",
       "    <tr>\n",
       "      <th>2</th>\n",
       "      <td>1</td>\n",
       "      <td>2</td>\n",
       "      <td>30</td>\n",
       "      <td>unmarried</td>\n",
       "      <td>hispanic/latino</td>\n",
       "      <td>Other</td>\n",
       "      <td>Spanish</td>\n",
       "      <td>yes</td>\n",
       "      <td>yes</td>\n",
       "      <td>none</td>\n",
       "      <td>none</td>\n",
       "      <td>none listed</td>\n",
       "      <td>unemployed</td>\n",
       "      <td>8</td>\n",
       "      <td>J45, E11.9, I10</td>\n",
       "      <td>0</td>\n",
       "      <td>3</td>\n",
       "      <td>0</td>\n",
       "    </tr>\n",
       "    <tr>\n",
       "      <th>3</th>\n",
       "      <td>1</td>\n",
       "      <td>3</td>\n",
       "      <td>19</td>\n",
       "      <td>unmarried</td>\n",
       "      <td>hispanic/latino</td>\n",
       "      <td>Other</td>\n",
       "      <td>English</td>\n",
       "      <td>none</td>\n",
       "      <td>yes</td>\n",
       "      <td>Other</td>\n",
       "      <td>none</td>\n",
       "      <td>none listed</td>\n",
       "      <td>unemployed</td>\n",
       "      <td>13</td>\n",
       "      <td>O26.613, K83.1, A74.9, O09.899, Z28.39, O99.019</td>\n",
       "      <td>0</td>\n",
       "      <td>0</td>\n",
       "      <td>0</td>\n",
       "    </tr>\n",
       "    <tr>\n",
       "      <th>4</th>\n",
       "      <td>1</td>\n",
       "      <td>4</td>\n",
       "      <td>24</td>\n",
       "      <td>unmarried</td>\n",
       "      <td>hispanic/latino</td>\n",
       "      <td>Other</td>\n",
       "      <td>English</td>\n",
       "      <td>none</td>\n",
       "      <td>none</td>\n",
       "      <td>Medicaid/Medicare</td>\n",
       "      <td>none</td>\n",
       "      <td>none listed</td>\n",
       "      <td>unemployed</td>\n",
       "      <td>9</td>\n",
       "      <td>O23.40, Z86.50, E66.9</td>\n",
       "      <td>1</td>\n",
       "      <td>1</td>\n",
       "      <td>1</td>\n",
       "    </tr>\n",
       "    <tr>\n",
       "      <th>...</th>\n",
       "      <td>...</td>\n",
       "      <td>...</td>\n",
       "      <td>...</td>\n",
       "      <td>...</td>\n",
       "      <td>...</td>\n",
       "      <td>...</td>\n",
       "      <td>...</td>\n",
       "      <td>...</td>\n",
       "      <td>...</td>\n",
       "      <td>...</td>\n",
       "      <td>...</td>\n",
       "      <td>...</td>\n",
       "      <td>...</td>\n",
       "      <td>...</td>\n",
       "      <td>...</td>\n",
       "      <td>...</td>\n",
       "      <td>...</td>\n",
       "      <td>...</td>\n",
       "    </tr>\n",
       "    <tr>\n",
       "      <th>133</th>\n",
       "      <td>0</td>\n",
       "      <td>61</td>\n",
       "      <td>36</td>\n",
       "      <td>unmarried</td>\n",
       "      <td>not hispanic/latino</td>\n",
       "      <td>Black/African American</td>\n",
       "      <td>English</td>\n",
       "      <td>none</td>\n",
       "      <td>yes</td>\n",
       "      <td>Medicaid/Medicare</td>\n",
       "      <td>none</td>\n",
       "      <td>none listed</td>\n",
       "      <td>employed</td>\n",
       "      <td>0</td>\n",
       "      <td>0</td>\n",
       "      <td>0</td>\n",
       "      <td>6</td>\n",
       "      <td>0</td>\n",
       "    </tr>\n",
       "    <tr>\n",
       "      <th>134</th>\n",
       "      <td>0</td>\n",
       "      <td>62</td>\n",
       "      <td>38</td>\n",
       "      <td>unmarried</td>\n",
       "      <td>not hispanic/latino</td>\n",
       "      <td>Black/African American</td>\n",
       "      <td>English</td>\n",
       "      <td>none</td>\n",
       "      <td>yes</td>\n",
       "      <td>Medicaid/Medicare</td>\n",
       "      <td>none</td>\n",
       "      <td>none listed</td>\n",
       "      <td>unemployed</td>\n",
       "      <td>7</td>\n",
       "      <td>0</td>\n",
       "      <td>1</td>\n",
       "      <td>3</td>\n",
       "      <td>1</td>\n",
       "    </tr>\n",
       "    <tr>\n",
       "      <th>135</th>\n",
       "      <td>0</td>\n",
       "      <td>63</td>\n",
       "      <td>33</td>\n",
       "      <td>unmarried</td>\n",
       "      <td>not hispanic/latino</td>\n",
       "      <td>Black/African American</td>\n",
       "      <td>English</td>\n",
       "      <td>none</td>\n",
       "      <td>yes</td>\n",
       "      <td>Medicaid/Medicare</td>\n",
       "      <td>none</td>\n",
       "      <td>high school graduate</td>\n",
       "      <td>employed</td>\n",
       "      <td>5</td>\n",
       "      <td>F32.A J45.909 A59.9</td>\n",
       "      <td>1</td>\n",
       "      <td>3</td>\n",
       "      <td>1</td>\n",
       "    </tr>\n",
       "    <tr>\n",
       "      <th>136</th>\n",
       "      <td>0</td>\n",
       "      <td>64</td>\n",
       "      <td>27</td>\n",
       "      <td>married</td>\n",
       "      <td>not hispanic/latino</td>\n",
       "      <td>Asian</td>\n",
       "      <td>Spanish</td>\n",
       "      <td>none</td>\n",
       "      <td>none</td>\n",
       "      <td>none</td>\n",
       "      <td>none</td>\n",
       "      <td>none listed</td>\n",
       "      <td>unemployed</td>\n",
       "      <td>6</td>\n",
       "      <td>H90.2</td>\n",
       "      <td>0</td>\n",
       "      <td>3</td>\n",
       "      <td>0</td>\n",
       "    </tr>\n",
       "    <tr>\n",
       "      <th>137</th>\n",
       "      <td>0</td>\n",
       "      <td>65</td>\n",
       "      <td>29</td>\n",
       "      <td>unmarried</td>\n",
       "      <td>not hispanic/latino</td>\n",
       "      <td>Black/African American</td>\n",
       "      <td>English</td>\n",
       "      <td>none</td>\n",
       "      <td>none</td>\n",
       "      <td>none</td>\n",
       "      <td>F14.10</td>\n",
       "      <td>none listed</td>\n",
       "      <td>unemployed</td>\n",
       "      <td>0</td>\n",
       "      <td>F259</td>\n",
       "      <td>1</td>\n",
       "      <td>0</td>\n",
       "      <td>1</td>\n",
       "    </tr>\n",
       "  </tbody>\n",
       "</table>\n",
       "<p>138 rows × 18 columns</p>\n",
       "</div>"
      ],
      "text/plain": [
       "     OutofHospital  level_1  Age MaritalStatus            Ethnicity  \\\n",
       "0                1        0   34     unmarried      hispanic/latino   \n",
       "1                1        1   29       married  not hispanic/latino   \n",
       "2                1        2   30     unmarried      hispanic/latino   \n",
       "3                1        3   19     unmarried      hispanic/latino   \n",
       "4                1        4   24     unmarried      hispanic/latino   \n",
       "..             ...      ...  ...           ...                  ...   \n",
       "133              0       61   36     unmarried  not hispanic/latino   \n",
       "134              0       62   38     unmarried  not hispanic/latino   \n",
       "135              0       63   33     unmarried  not hispanic/latino   \n",
       "136              0       64   27       married  not hispanic/latino   \n",
       "137              0       65   29     unmarried  not hispanic/latino   \n",
       "\n",
       "                       Race PrimaryLanguage TranslationService PCPonFile  \\\n",
       "0                     Other         Spanish                yes      none   \n",
       "1    Black/African American            Urdu               none       yes   \n",
       "2                     Other         Spanish                yes       yes   \n",
       "3                     Other         English               none       yes   \n",
       "4                     Other         English               none      none   \n",
       "..                      ...             ...                ...       ...   \n",
       "133  Black/African American         English               none       yes   \n",
       "134  Black/African American         English               none       yes   \n",
       "135  Black/African American         English               none       yes   \n",
       "136                   Asian         Spanish               none      none   \n",
       "137  Black/African American         English               none      none   \n",
       "\n",
       "     InsuranceCoverage SubstanceUse             Education  Employment  \\\n",
       "0                 none         none           none listed  unemployed   \n",
       "1    Medicaid/Medicare         none           none listed  unemployed   \n",
       "2                 none         none           none listed  unemployed   \n",
       "3                Other         none           none listed  unemployed   \n",
       "4    Medicaid/Medicare         none           none listed  unemployed   \n",
       "..                 ...          ...                   ...         ...   \n",
       "133  Medicaid/Medicare         none           none listed    employed   \n",
       "134  Medicaid/Medicare         none           none listed  unemployed   \n",
       "135  Medicaid/Medicare         none  high school graduate    employed   \n",
       "136               none         none           none listed  unemployed   \n",
       "137               none       F14.10           none listed  unemployed   \n",
       "\n",
       "               PrenatalCareHistory  \\\n",
       "0    Yes, unknown number of visits   \n",
       "1    Yes, unknown number of visits   \n",
       "2                                8   \n",
       "3                               13   \n",
       "4                                9   \n",
       "..                             ...   \n",
       "133                              0   \n",
       "134                              7   \n",
       "135                              5   \n",
       "136                              6   \n",
       "137                              0   \n",
       "\n",
       "                                 MaternalPathologies  PregnancyComplications  \\\n",
       "0                                              O13.9                       1   \n",
       "1                                              E66.9                       0   \n",
       "2                                    J45, E11.9, I10                       0   \n",
       "3    O26.613, K83.1, A74.9, O09.899, Z28.39, O99.019                       0   \n",
       "4                              O23.40, Z86.50, E66.9                       1   \n",
       "..                                               ...                     ...   \n",
       "133                                                0                       0   \n",
       "134                                                0                       1   \n",
       "135                             F32.A J45.909 A59.9                        1   \n",
       "136                                            H90.2                       0   \n",
       "137                                             F259                       1   \n",
       "\n",
       "     Parity  PregnancyComplicationsCount  \n",
       "0         2                            2  \n",
       "1         4                            0  \n",
       "2         3                            0  \n",
       "3         0                            0  \n",
       "4         1                            1  \n",
       "..      ...                          ...  \n",
       "133       6                            0  \n",
       "134       3                            1  \n",
       "135       3                            1  \n",
       "136       3                            0  \n",
       "137       0                            1  \n",
       "\n",
       "[138 rows x 18 columns]"
      ]
     },
     "execution_count": 5,
     "metadata": {},
     "output_type": "execute_result"
    }
   ],
   "source": [
    "df"
   ]
  },
  {
   "attachments": {},
   "cell_type": "markdown",
   "metadata": {},
   "source": [
    "## Chi-Square Test of Independence\n",
    "\n",
    "This test is used to determine if there is a significant association between two categorical variables. In our case, we can create a Rx2 contingency table where one axis represents the location of birth (in hospital or out of hospital) and the other axis represents whether there was a birth complication (yes or no). Then, we can apply the Chi-Square Test to determine if the occurrence of birth complications is independent of the location of birth."
   ]
  },
  {
   "cell_type": "code",
   "execution_count": 2,
   "metadata": {},
   "outputs": [
    {
     "ename": "NameError",
     "evalue": "name 'df' is not defined",
     "output_type": "error",
     "traceback": [
      "\u001b[0;31m---------------------------------------------------------------------------\u001b[0m",
      "\u001b[0;31mNameError\u001b[0m                                 Traceback (most recent call last)",
      "Cell \u001b[0;32mIn[2], line 11\u001b[0m\n\u001b[1;32m      8\u001b[0m results \u001b[39m=\u001b[39m {}\n\u001b[1;32m      9\u001b[0m \u001b[39mfor\u001b[39;00m variable \u001b[39min\u001b[39;00m variables:\n\u001b[1;32m     10\u001b[0m     \u001b[39m# Create a contingency table\u001b[39;00m\n\u001b[0;32m---> 11\u001b[0m     contingency_table \u001b[39m=\u001b[39m pd\u001b[39m.\u001b[39mcrosstab(df[\u001b[39m'\u001b[39m\u001b[39mOutofHospital\u001b[39m\u001b[39m'\u001b[39m], df[variable])\n\u001b[1;32m     13\u001b[0m     \u001b[39m# Perform the Chi-Square Test of Independence\u001b[39;00m\n\u001b[1;32m     14\u001b[0m     chi2, p, dof, expected \u001b[39m=\u001b[39m chi2_contingency(contingency_table)\n",
      "\u001b[0;31mNameError\u001b[0m: name 'df' is not defined"
     ]
    }
   ],
   "source": [
    "import pandas as pd\n",
    "from scipy.stats import chi2_contingency, fisher_exact\n",
    "\n",
    "# List of variables to check for association with 'OutofHospital'\n",
    "variables = [\"Race\", \"Age\", \"PrimaryLanguage\", \"Ethnicity\", \"Education\", \"Employment\", \"PregnancyComplications\"]\n",
    "\n",
    "# Loop through each variable and perform the Chi-Square Test\n",
    "results = {}\n",
    "for variable in variables:\n",
    "    # Create a contingency table\n",
    "    contingency_table = pd.crosstab(df['OutofHospital'], df[variable])\n",
    "    \n",
    "    # Perform the Chi-Square Test of Independence\n",
    "    chi2, p, dof, expected = chi2_contingency(contingency_table)\n",
    "    \n",
    "    # Store the results\n",
    "    results[variable] = {'Chi-Square Value': chi2, 'P-Value': p, 'Degrees of Freedom': dof, 'Expected Frequencies Table': expected}\n",
    "\n",
    "# Output the results in a beautiful way\n",
    "print(\"{:<25} {:<20} {:<20} {:<20}\".format(\"Variable\", \"Chi-Square Value\", \"P-Value\", \"Degrees of Freedom\"))\n",
    "for variable, result in results.items():\n",
    "    print(\"{:<25} {:<20} {:<20} {:<20}\".format(variable, result['Chi-Square Value'], result['P-Value'], result['Degrees of Freedom']))\n"
   ]
  },
  {
   "attachments": {},
   "cell_type": "markdown",
   "metadata": {},
   "source": [
    "### Interpretation:\n",
    "\n",
    "* Chi-Square Value: A larger value indicates a greater difference between the observed counts and what would be expected if the variables were independent.\n",
    "\n",
    "* P-Value: Tells you whether or not the association is statistically significant. Typically, if the p-value is less than 0.05, we might conclude that there is a significant association between the variables.\n",
    "\n",
    "* Degrees of Freedom: This is equal to (number of rows - 1) x (number of columns - 1) in the contingency table. It helps in determining the critical value for the chi-square distribution.\n",
    "\n",
    "For interpretation, we would usually focus on the P-Value. If it's below a significance level (commonly 0.05), it suggests that the observed distribution is significantly different from what you'd expect if the variables were independent, indicating an association.\n",
    "\n",
    "For the variable `Race`, `Ethnicity` and `PrimaryLanguage`, the very low p-value indicates that there is a statistically significant association between race and whether the birth occurred in or out of the hospital. This suggests that race and the language might play a role in the choice or circumstances of the birth location.\n",
    "\n",
    "For the variable `PregnancyComplications`, the p-value is much greater than 0.05, suggesting that there is no statistically significant association between pregnancy complications and birth location. Pregnancy complications do not appear to be a determining factor in whether a birth occurs in or out of the hospital.\n"
   ]
  },
  {
   "cell_type": "code",
   "execution_count": 7,
   "metadata": {},
   "outputs": [
    {
     "data": {
      "application/vnd.plotly.v1+json": {
       "config": {
        "plotlyServerURL": "https://plot.ly"
       },
       "data": [
        {
         "alignmentgroup": "True",
         "bingroup": "x",
         "hovertemplate": "Out of Hospital=1<br>Primary Language=%{x}<br>count=%{y}<extra></extra>",
         "legendgroup": "1",
         "marker": {
          "color": "#636efa",
          "pattern": {
           "shape": ""
          }
         },
         "name": "1",
         "nbinsx": 10,
         "offsetgroup": "1",
         "orientation": "v",
         "showlegend": true,
         "type": "histogram",
         "x": [
          "Spanish",
          "Urdu",
          "Spanish",
          "English",
          "English",
          "Spanish",
          "English",
          "English",
          "Spanish",
          "Spanish",
          "English",
          "Spanish",
          "English",
          "English",
          "English",
          "English",
          "Spanish",
          "English",
          "Spanish",
          "Portugese",
          "Spanish",
          "English",
          "English",
          "Bengali",
          "Spanish",
          "Spanish",
          "English",
          "English",
          "Spanish",
          "English",
          "Spanish",
          "Spanish",
          "English",
          "English",
          "Spanish",
          "Spanish",
          "English",
          "Spanish",
          "Spanish",
          "Spanish",
          "Portugese",
          "Spanish",
          "English",
          "Haitian Creole",
          "Spanish",
          "French Creole",
          "Haitian Creole",
          "English",
          "English",
          "Spanish",
          "French",
          "English",
          "English",
          "Spanish",
          "English",
          "Spanish",
          "English",
          "Spanish",
          "English",
          "English",
          "Portuguese",
          "Spanish",
          "English",
          "English",
          "Spanish",
          "English",
          "Portuguese",
          "Spanish",
          "Spanish",
          "Portuguese",
          "English",
          "Spanish"
         ],
         "xaxis": "x",
         "yaxis": "y"
        },
        {
         "alignmentgroup": "True",
         "bingroup": "x",
         "hovertemplate": "Out of Hospital=0<br>Primary Language=%{x}<br>count=%{y}<extra></extra>",
         "legendgroup": "0",
         "marker": {
          "color": "#EF553B",
          "pattern": {
           "shape": ""
          }
         },
         "name": "0",
         "nbinsx": 10,
         "offsetgroup": "0",
         "orientation": "v",
         "showlegend": true,
         "type": "histogram",
         "x": [
          "English",
          "Spanish",
          "English",
          "English",
          "English",
          "English",
          "English",
          "English",
          "Haitian Creole",
          "English",
          "Spanish",
          "English",
          "English",
          "Spanish",
          "English",
          "English",
          "English",
          "English",
          "Spanish",
          "English",
          "Haitian Creole",
          "English",
          "English",
          "English",
          "English",
          "English",
          "English",
          "English",
          "English",
          "English",
          "English",
          "English",
          "English",
          "English",
          "English",
          "English",
          "Spanish",
          "English",
          "English",
          "English",
          "English",
          "Spanish",
          "English",
          "Spanish",
          "English",
          "English",
          "Spanish",
          "English",
          "English",
          "English",
          "English",
          "Spanish",
          "English",
          "English",
          "English",
          "Spanish",
          "Arabic",
          "Portuguese",
          "Haitian Creole",
          "English",
          "English",
          "English",
          "English",
          "English",
          "Spanish",
          "English"
         ],
         "xaxis": "x",
         "yaxis": "y"
        }
       ],
       "layout": {
        "barmode": "group",
        "legend": {
         "title": {
          "text": "Out of Hospital"
         },
         "tracegroupgap": 0
        },
        "template": {
         "data": {
          "bar": [
           {
            "error_x": {
             "color": "#2a3f5f"
            },
            "error_y": {
             "color": "#2a3f5f"
            },
            "marker": {
             "line": {
              "color": "#E5ECF6",
              "width": 0.5
             },
             "pattern": {
              "fillmode": "overlay",
              "size": 10,
              "solidity": 0.2
             }
            },
            "type": "bar"
           }
          ],
          "barpolar": [
           {
            "marker": {
             "line": {
              "color": "#E5ECF6",
              "width": 0.5
             },
             "pattern": {
              "fillmode": "overlay",
              "size": 10,
              "solidity": 0.2
             }
            },
            "type": "barpolar"
           }
          ],
          "carpet": [
           {
            "aaxis": {
             "endlinecolor": "#2a3f5f",
             "gridcolor": "white",
             "linecolor": "white",
             "minorgridcolor": "white",
             "startlinecolor": "#2a3f5f"
            },
            "baxis": {
             "endlinecolor": "#2a3f5f",
             "gridcolor": "white",
             "linecolor": "white",
             "minorgridcolor": "white",
             "startlinecolor": "#2a3f5f"
            },
            "type": "carpet"
           }
          ],
          "choropleth": [
           {
            "colorbar": {
             "outlinewidth": 0,
             "ticks": ""
            },
            "type": "choropleth"
           }
          ],
          "contour": [
           {
            "colorbar": {
             "outlinewidth": 0,
             "ticks": ""
            },
            "colorscale": [
             [
              0,
              "#0d0887"
             ],
             [
              0.1111111111111111,
              "#46039f"
             ],
             [
              0.2222222222222222,
              "#7201a8"
             ],
             [
              0.3333333333333333,
              "#9c179e"
             ],
             [
              0.4444444444444444,
              "#bd3786"
             ],
             [
              0.5555555555555556,
              "#d8576b"
             ],
             [
              0.6666666666666666,
              "#ed7953"
             ],
             [
              0.7777777777777778,
              "#fb9f3a"
             ],
             [
              0.8888888888888888,
              "#fdca26"
             ],
             [
              1,
              "#f0f921"
             ]
            ],
            "type": "contour"
           }
          ],
          "contourcarpet": [
           {
            "colorbar": {
             "outlinewidth": 0,
             "ticks": ""
            },
            "type": "contourcarpet"
           }
          ],
          "heatmap": [
           {
            "colorbar": {
             "outlinewidth": 0,
             "ticks": ""
            },
            "colorscale": [
             [
              0,
              "#0d0887"
             ],
             [
              0.1111111111111111,
              "#46039f"
             ],
             [
              0.2222222222222222,
              "#7201a8"
             ],
             [
              0.3333333333333333,
              "#9c179e"
             ],
             [
              0.4444444444444444,
              "#bd3786"
             ],
             [
              0.5555555555555556,
              "#d8576b"
             ],
             [
              0.6666666666666666,
              "#ed7953"
             ],
             [
              0.7777777777777778,
              "#fb9f3a"
             ],
             [
              0.8888888888888888,
              "#fdca26"
             ],
             [
              1,
              "#f0f921"
             ]
            ],
            "type": "heatmap"
           }
          ],
          "heatmapgl": [
           {
            "colorbar": {
             "outlinewidth": 0,
             "ticks": ""
            },
            "colorscale": [
             [
              0,
              "#0d0887"
             ],
             [
              0.1111111111111111,
              "#46039f"
             ],
             [
              0.2222222222222222,
              "#7201a8"
             ],
             [
              0.3333333333333333,
              "#9c179e"
             ],
             [
              0.4444444444444444,
              "#bd3786"
             ],
             [
              0.5555555555555556,
              "#d8576b"
             ],
             [
              0.6666666666666666,
              "#ed7953"
             ],
             [
              0.7777777777777778,
              "#fb9f3a"
             ],
             [
              0.8888888888888888,
              "#fdca26"
             ],
             [
              1,
              "#f0f921"
             ]
            ],
            "type": "heatmapgl"
           }
          ],
          "histogram": [
           {
            "marker": {
             "pattern": {
              "fillmode": "overlay",
              "size": 10,
              "solidity": 0.2
             }
            },
            "type": "histogram"
           }
          ],
          "histogram2d": [
           {
            "colorbar": {
             "outlinewidth": 0,
             "ticks": ""
            },
            "colorscale": [
             [
              0,
              "#0d0887"
             ],
             [
              0.1111111111111111,
              "#46039f"
             ],
             [
              0.2222222222222222,
              "#7201a8"
             ],
             [
              0.3333333333333333,
              "#9c179e"
             ],
             [
              0.4444444444444444,
              "#bd3786"
             ],
             [
              0.5555555555555556,
              "#d8576b"
             ],
             [
              0.6666666666666666,
              "#ed7953"
             ],
             [
              0.7777777777777778,
              "#fb9f3a"
             ],
             [
              0.8888888888888888,
              "#fdca26"
             ],
             [
              1,
              "#f0f921"
             ]
            ],
            "type": "histogram2d"
           }
          ],
          "histogram2dcontour": [
           {
            "colorbar": {
             "outlinewidth": 0,
             "ticks": ""
            },
            "colorscale": [
             [
              0,
              "#0d0887"
             ],
             [
              0.1111111111111111,
              "#46039f"
             ],
             [
              0.2222222222222222,
              "#7201a8"
             ],
             [
              0.3333333333333333,
              "#9c179e"
             ],
             [
              0.4444444444444444,
              "#bd3786"
             ],
             [
              0.5555555555555556,
              "#d8576b"
             ],
             [
              0.6666666666666666,
              "#ed7953"
             ],
             [
              0.7777777777777778,
              "#fb9f3a"
             ],
             [
              0.8888888888888888,
              "#fdca26"
             ],
             [
              1,
              "#f0f921"
             ]
            ],
            "type": "histogram2dcontour"
           }
          ],
          "mesh3d": [
           {
            "colorbar": {
             "outlinewidth": 0,
             "ticks": ""
            },
            "type": "mesh3d"
           }
          ],
          "parcoords": [
           {
            "line": {
             "colorbar": {
              "outlinewidth": 0,
              "ticks": ""
             }
            },
            "type": "parcoords"
           }
          ],
          "pie": [
           {
            "automargin": true,
            "type": "pie"
           }
          ],
          "scatter": [
           {
            "fillpattern": {
             "fillmode": "overlay",
             "size": 10,
             "solidity": 0.2
            },
            "type": "scatter"
           }
          ],
          "scatter3d": [
           {
            "line": {
             "colorbar": {
              "outlinewidth": 0,
              "ticks": ""
             }
            },
            "marker": {
             "colorbar": {
              "outlinewidth": 0,
              "ticks": ""
             }
            },
            "type": "scatter3d"
           }
          ],
          "scattercarpet": [
           {
            "marker": {
             "colorbar": {
              "outlinewidth": 0,
              "ticks": ""
             }
            },
            "type": "scattercarpet"
           }
          ],
          "scattergeo": [
           {
            "marker": {
             "colorbar": {
              "outlinewidth": 0,
              "ticks": ""
             }
            },
            "type": "scattergeo"
           }
          ],
          "scattergl": [
           {
            "marker": {
             "colorbar": {
              "outlinewidth": 0,
              "ticks": ""
             }
            },
            "type": "scattergl"
           }
          ],
          "scattermapbox": [
           {
            "marker": {
             "colorbar": {
              "outlinewidth": 0,
              "ticks": ""
             }
            },
            "type": "scattermapbox"
           }
          ],
          "scatterpolar": [
           {
            "marker": {
             "colorbar": {
              "outlinewidth": 0,
              "ticks": ""
             }
            },
            "type": "scatterpolar"
           }
          ],
          "scatterpolargl": [
           {
            "marker": {
             "colorbar": {
              "outlinewidth": 0,
              "ticks": ""
             }
            },
            "type": "scatterpolargl"
           }
          ],
          "scatterternary": [
           {
            "marker": {
             "colorbar": {
              "outlinewidth": 0,
              "ticks": ""
             }
            },
            "type": "scatterternary"
           }
          ],
          "surface": [
           {
            "colorbar": {
             "outlinewidth": 0,
             "ticks": ""
            },
            "colorscale": [
             [
              0,
              "#0d0887"
             ],
             [
              0.1111111111111111,
              "#46039f"
             ],
             [
              0.2222222222222222,
              "#7201a8"
             ],
             [
              0.3333333333333333,
              "#9c179e"
             ],
             [
              0.4444444444444444,
              "#bd3786"
             ],
             [
              0.5555555555555556,
              "#d8576b"
             ],
             [
              0.6666666666666666,
              "#ed7953"
             ],
             [
              0.7777777777777778,
              "#fb9f3a"
             ],
             [
              0.8888888888888888,
              "#fdca26"
             ],
             [
              1,
              "#f0f921"
             ]
            ],
            "type": "surface"
           }
          ],
          "table": [
           {
            "cells": {
             "fill": {
              "color": "#EBF0F8"
             },
             "line": {
              "color": "white"
             }
            },
            "header": {
             "fill": {
              "color": "#C8D4E3"
             },
             "line": {
              "color": "white"
             }
            },
            "type": "table"
           }
          ]
         },
         "layout": {
          "annotationdefaults": {
           "arrowcolor": "#2a3f5f",
           "arrowhead": 0,
           "arrowwidth": 1
          },
          "autotypenumbers": "strict",
          "coloraxis": {
           "colorbar": {
            "outlinewidth": 0,
            "ticks": ""
           }
          },
          "colorscale": {
           "diverging": [
            [
             0,
             "#8e0152"
            ],
            [
             0.1,
             "#c51b7d"
            ],
            [
             0.2,
             "#de77ae"
            ],
            [
             0.3,
             "#f1b6da"
            ],
            [
             0.4,
             "#fde0ef"
            ],
            [
             0.5,
             "#f7f7f7"
            ],
            [
             0.6,
             "#e6f5d0"
            ],
            [
             0.7,
             "#b8e186"
            ],
            [
             0.8,
             "#7fbc41"
            ],
            [
             0.9,
             "#4d9221"
            ],
            [
             1,
             "#276419"
            ]
           ],
           "sequential": [
            [
             0,
             "#0d0887"
            ],
            [
             0.1111111111111111,
             "#46039f"
            ],
            [
             0.2222222222222222,
             "#7201a8"
            ],
            [
             0.3333333333333333,
             "#9c179e"
            ],
            [
             0.4444444444444444,
             "#bd3786"
            ],
            [
             0.5555555555555556,
             "#d8576b"
            ],
            [
             0.6666666666666666,
             "#ed7953"
            ],
            [
             0.7777777777777778,
             "#fb9f3a"
            ],
            [
             0.8888888888888888,
             "#fdca26"
            ],
            [
             1,
             "#f0f921"
            ]
           ],
           "sequentialminus": [
            [
             0,
             "#0d0887"
            ],
            [
             0.1111111111111111,
             "#46039f"
            ],
            [
             0.2222222222222222,
             "#7201a8"
            ],
            [
             0.3333333333333333,
             "#9c179e"
            ],
            [
             0.4444444444444444,
             "#bd3786"
            ],
            [
             0.5555555555555556,
             "#d8576b"
            ],
            [
             0.6666666666666666,
             "#ed7953"
            ],
            [
             0.7777777777777778,
             "#fb9f3a"
            ],
            [
             0.8888888888888888,
             "#fdca26"
            ],
            [
             1,
             "#f0f921"
            ]
           ]
          },
          "colorway": [
           "#636efa",
           "#EF553B",
           "#00cc96",
           "#ab63fa",
           "#FFA15A",
           "#19d3f3",
           "#FF6692",
           "#B6E880",
           "#FF97FF",
           "#FECB52"
          ],
          "font": {
           "color": "#2a3f5f"
          },
          "geo": {
           "bgcolor": "white",
           "lakecolor": "white",
           "landcolor": "#E5ECF6",
           "showlakes": true,
           "showland": true,
           "subunitcolor": "white"
          },
          "hoverlabel": {
           "align": "left"
          },
          "hovermode": "closest",
          "mapbox": {
           "style": "light"
          },
          "paper_bgcolor": "white",
          "plot_bgcolor": "#E5ECF6",
          "polar": {
           "angularaxis": {
            "gridcolor": "white",
            "linecolor": "white",
            "ticks": ""
           },
           "bgcolor": "#E5ECF6",
           "radialaxis": {
            "gridcolor": "white",
            "linecolor": "white",
            "ticks": ""
           }
          },
          "scene": {
           "xaxis": {
            "backgroundcolor": "#E5ECF6",
            "gridcolor": "white",
            "gridwidth": 2,
            "linecolor": "white",
            "showbackground": true,
            "ticks": "",
            "zerolinecolor": "white"
           },
           "yaxis": {
            "backgroundcolor": "#E5ECF6",
            "gridcolor": "white",
            "gridwidth": 2,
            "linecolor": "white",
            "showbackground": true,
            "ticks": "",
            "zerolinecolor": "white"
           },
           "zaxis": {
            "backgroundcolor": "#E5ECF6",
            "gridcolor": "white",
            "gridwidth": 2,
            "linecolor": "white",
            "showbackground": true,
            "ticks": "",
            "zerolinecolor": "white"
           }
          },
          "shapedefaults": {
           "line": {
            "color": "#2a3f5f"
           }
          },
          "ternary": {
           "aaxis": {
            "gridcolor": "white",
            "linecolor": "white",
            "ticks": ""
           },
           "baxis": {
            "gridcolor": "white",
            "linecolor": "white",
            "ticks": ""
           },
           "bgcolor": "#E5ECF6",
           "caxis": {
            "gridcolor": "white",
            "linecolor": "white",
            "ticks": ""
           }
          },
          "title": {
           "x": 0.05
          },
          "xaxis": {
           "automargin": true,
           "gridcolor": "white",
           "linecolor": "white",
           "ticks": "",
           "title": {
            "standoff": 15
           },
           "zerolinecolor": "white",
           "zerolinewidth": 2
          },
          "yaxis": {
           "automargin": true,
           "gridcolor": "white",
           "linecolor": "white",
           "ticks": "",
           "title": {
            "standoff": 15
           },
           "zerolinecolor": "white",
           "zerolinewidth": 2
          }
         }
        },
        "title": {
         "text": "Number of Births In and Out of Hospital by Primary Language"
        },
        "xaxis": {
         "anchor": "y",
         "domain": [
          0,
          1
         ],
         "title": {
          "text": "Primary Language"
         }
        },
        "yaxis": {
         "anchor": "x",
         "domain": [
          0,
          1
         ],
         "title": {
          "text": "count"
         }
        }
       }
      }
     },
     "metadata": {},
     "output_type": "display_data"
    },
    {
     "data": {
      "application/vnd.plotly.v1+json": {
       "config": {
        "plotlyServerURL": "https://plot.ly"
       },
       "data": [
        {
         "alignmentgroup": "True",
         "bingroup": "x",
         "hovertemplate": "Out of Hospital=1<br>Ethnicity=%{x}<br>count=%{y}<extra></extra>",
         "legendgroup": "1",
         "marker": {
          "color": "#636efa",
          "pattern": {
           "shape": ""
          }
         },
         "name": "1",
         "nbinsx": 2,
         "offsetgroup": "1",
         "orientation": "v",
         "showlegend": true,
         "type": "histogram",
         "x": [
          "hispanic/latino",
          "not hispanic/latino",
          "hispanic/latino",
          "hispanic/latino",
          "hispanic/latino",
          "hispanic/latino",
          "not hispanic/latino",
          "not hispanic/latino",
          "hispanic/latino",
          "hispanic/latino",
          "not hispanic/latino",
          "hispanic/latino",
          "hispanic/latino",
          "not hispanic/latino",
          "hispanic/latino",
          "not hispanic/latino",
          "hispanic/latino",
          "not hispanic/latino",
          "hispanic/latino",
          "not hispanic/latino",
          "hispanic/latino",
          "not hispanic/latino",
          "not hispanic/latino",
          "not hispanic/latino",
          "hispanic/latino",
          "hispanic/latino",
          "hispanic/latino",
          "not hispanic/latino",
          "hispanic/latino",
          "not hispanic/latino",
          "hispanic/latino",
          "hispanic/latino",
          "hispanic/latino",
          "not hispanic/latino",
          "hispanic/latino",
          "hispanic/latino",
          "not hispanic/latino",
          "hispanic/latino",
          "not hispanic/latino",
          "hispanic/latino",
          "hispanic/latino",
          "hispanic/latino",
          "hispanic/latino",
          "not hispanic/latino",
          "hispanic/latino",
          "not hispanic/latino",
          "not hispanic/latino",
          "hispanic/latino",
          "not hispanic/latino",
          "hispanic/latino",
          "not hispanic/latino",
          "hispanic/latino",
          "not hispanic/latino",
          "hispanic/latino",
          "not hispanic/latino",
          "hispanic/latino",
          "not hispanic/latino",
          "hispanic/latino",
          "not hispanic/latino",
          "not hispanic/latino",
          "hispanic/latino",
          "hispanic/latino",
          "not hispanic/latino",
          "hispanic/latino",
          "hispanic/latino",
          "hispanic/latino",
          "hispanic/latino",
          "hispanic/latino",
          "hispanic/latino",
          "hispanic/latino",
          "not hispanic/latino",
          "hispanic/latino"
         ],
         "xaxis": "x",
         "yaxis": "y"
        },
        {
         "alignmentgroup": "True",
         "bingroup": "x",
         "hovertemplate": "Out of Hospital=0<br>Ethnicity=%{x}<br>count=%{y}<extra></extra>",
         "legendgroup": "0",
         "marker": {
          "color": "#EF553B",
          "pattern": {
           "shape": ""
          }
         },
         "name": "0",
         "nbinsx": 2,
         "offsetgroup": "0",
         "orientation": "v",
         "showlegend": true,
         "type": "histogram",
         "x": [
          "not hispanic/latino",
          "hispanic/latino",
          "not hispanic/latino",
          "not hispanic/latino",
          "not hispanic/latino",
          "not hispanic/latino",
          "not hispanic/latino",
          "not hispanic/latino",
          "not hispanic/latino",
          "hispanic/latino",
          "hispanic/latino",
          "hispanic/latino",
          "not hispanic/latino",
          "hispanic/latino",
          "not hispanic/latino",
          "hispanic/latino",
          "not hispanic/latino",
          "not hispanic/latino",
          "hispanic/latino",
          "not hispanic/latino",
          "not hispanic/latino",
          "not hispanic/latino",
          "not hispanic/latino",
          "not hispanic/latino",
          "not hispanic/latino",
          "not hispanic/latino",
          "not hispanic/latino",
          "hispanic/latino",
          "not hispanic/latino",
          "not hispanic/latino",
          "not hispanic/latino",
          "not hispanic/latino",
          "not hispanic/latino",
          "not hispanic/latino",
          "not hispanic/latino",
          "not hispanic/latino",
          "hispanic/latino",
          "hispanic/latino",
          "not hispanic/latino",
          "not hispanic/latino",
          "not hispanic/latino",
          "hispanic/latino",
          "not hispanic/latino",
          "hispanic/latino",
          "not hispanic/latino",
          "not hispanic/latino",
          "hispanic/latino",
          "not hispanic/latino",
          "not hispanic/latino",
          "not hispanic/latino",
          "not hispanic/latino",
          "hispanic/latino",
          "not hispanic/latino",
          "hispanic/latino",
          "not hispanic/latino",
          "hispanic/latino",
          "not hispanic/latino",
          "hispanic/latino",
          "not hispanic/latino",
          "not hispanic/latino",
          "not hispanic/latino",
          "not hispanic/latino",
          "not hispanic/latino",
          "not hispanic/latino",
          "not hispanic/latino",
          "not hispanic/latino"
         ],
         "xaxis": "x",
         "yaxis": "y"
        }
       ],
       "layout": {
        "barmode": "group",
        "legend": {
         "title": {
          "text": "Out of Hospital"
         },
         "tracegroupgap": 0
        },
        "template": {
         "data": {
          "bar": [
           {
            "error_x": {
             "color": "#2a3f5f"
            },
            "error_y": {
             "color": "#2a3f5f"
            },
            "marker": {
             "line": {
              "color": "#E5ECF6",
              "width": 0.5
             },
             "pattern": {
              "fillmode": "overlay",
              "size": 10,
              "solidity": 0.2
             }
            },
            "type": "bar"
           }
          ],
          "barpolar": [
           {
            "marker": {
             "line": {
              "color": "#E5ECF6",
              "width": 0.5
             },
             "pattern": {
              "fillmode": "overlay",
              "size": 10,
              "solidity": 0.2
             }
            },
            "type": "barpolar"
           }
          ],
          "carpet": [
           {
            "aaxis": {
             "endlinecolor": "#2a3f5f",
             "gridcolor": "white",
             "linecolor": "white",
             "minorgridcolor": "white",
             "startlinecolor": "#2a3f5f"
            },
            "baxis": {
             "endlinecolor": "#2a3f5f",
             "gridcolor": "white",
             "linecolor": "white",
             "minorgridcolor": "white",
             "startlinecolor": "#2a3f5f"
            },
            "type": "carpet"
           }
          ],
          "choropleth": [
           {
            "colorbar": {
             "outlinewidth": 0,
             "ticks": ""
            },
            "type": "choropleth"
           }
          ],
          "contour": [
           {
            "colorbar": {
             "outlinewidth": 0,
             "ticks": ""
            },
            "colorscale": [
             [
              0,
              "#0d0887"
             ],
             [
              0.1111111111111111,
              "#46039f"
             ],
             [
              0.2222222222222222,
              "#7201a8"
             ],
             [
              0.3333333333333333,
              "#9c179e"
             ],
             [
              0.4444444444444444,
              "#bd3786"
             ],
             [
              0.5555555555555556,
              "#d8576b"
             ],
             [
              0.6666666666666666,
              "#ed7953"
             ],
             [
              0.7777777777777778,
              "#fb9f3a"
             ],
             [
              0.8888888888888888,
              "#fdca26"
             ],
             [
              1,
              "#f0f921"
             ]
            ],
            "type": "contour"
           }
          ],
          "contourcarpet": [
           {
            "colorbar": {
             "outlinewidth": 0,
             "ticks": ""
            },
            "type": "contourcarpet"
           }
          ],
          "heatmap": [
           {
            "colorbar": {
             "outlinewidth": 0,
             "ticks": ""
            },
            "colorscale": [
             [
              0,
              "#0d0887"
             ],
             [
              0.1111111111111111,
              "#46039f"
             ],
             [
              0.2222222222222222,
              "#7201a8"
             ],
             [
              0.3333333333333333,
              "#9c179e"
             ],
             [
              0.4444444444444444,
              "#bd3786"
             ],
             [
              0.5555555555555556,
              "#d8576b"
             ],
             [
              0.6666666666666666,
              "#ed7953"
             ],
             [
              0.7777777777777778,
              "#fb9f3a"
             ],
             [
              0.8888888888888888,
              "#fdca26"
             ],
             [
              1,
              "#f0f921"
             ]
            ],
            "type": "heatmap"
           }
          ],
          "heatmapgl": [
           {
            "colorbar": {
             "outlinewidth": 0,
             "ticks": ""
            },
            "colorscale": [
             [
              0,
              "#0d0887"
             ],
             [
              0.1111111111111111,
              "#46039f"
             ],
             [
              0.2222222222222222,
              "#7201a8"
             ],
             [
              0.3333333333333333,
              "#9c179e"
             ],
             [
              0.4444444444444444,
              "#bd3786"
             ],
             [
              0.5555555555555556,
              "#d8576b"
             ],
             [
              0.6666666666666666,
              "#ed7953"
             ],
             [
              0.7777777777777778,
              "#fb9f3a"
             ],
             [
              0.8888888888888888,
              "#fdca26"
             ],
             [
              1,
              "#f0f921"
             ]
            ],
            "type": "heatmapgl"
           }
          ],
          "histogram": [
           {
            "marker": {
             "pattern": {
              "fillmode": "overlay",
              "size": 10,
              "solidity": 0.2
             }
            },
            "type": "histogram"
           }
          ],
          "histogram2d": [
           {
            "colorbar": {
             "outlinewidth": 0,
             "ticks": ""
            },
            "colorscale": [
             [
              0,
              "#0d0887"
             ],
             [
              0.1111111111111111,
              "#46039f"
             ],
             [
              0.2222222222222222,
              "#7201a8"
             ],
             [
              0.3333333333333333,
              "#9c179e"
             ],
             [
              0.4444444444444444,
              "#bd3786"
             ],
             [
              0.5555555555555556,
              "#d8576b"
             ],
             [
              0.6666666666666666,
              "#ed7953"
             ],
             [
              0.7777777777777778,
              "#fb9f3a"
             ],
             [
              0.8888888888888888,
              "#fdca26"
             ],
             [
              1,
              "#f0f921"
             ]
            ],
            "type": "histogram2d"
           }
          ],
          "histogram2dcontour": [
           {
            "colorbar": {
             "outlinewidth": 0,
             "ticks": ""
            },
            "colorscale": [
             [
              0,
              "#0d0887"
             ],
             [
              0.1111111111111111,
              "#46039f"
             ],
             [
              0.2222222222222222,
              "#7201a8"
             ],
             [
              0.3333333333333333,
              "#9c179e"
             ],
             [
              0.4444444444444444,
              "#bd3786"
             ],
             [
              0.5555555555555556,
              "#d8576b"
             ],
             [
              0.6666666666666666,
              "#ed7953"
             ],
             [
              0.7777777777777778,
              "#fb9f3a"
             ],
             [
              0.8888888888888888,
              "#fdca26"
             ],
             [
              1,
              "#f0f921"
             ]
            ],
            "type": "histogram2dcontour"
           }
          ],
          "mesh3d": [
           {
            "colorbar": {
             "outlinewidth": 0,
             "ticks": ""
            },
            "type": "mesh3d"
           }
          ],
          "parcoords": [
           {
            "line": {
             "colorbar": {
              "outlinewidth": 0,
              "ticks": ""
             }
            },
            "type": "parcoords"
           }
          ],
          "pie": [
           {
            "automargin": true,
            "type": "pie"
           }
          ],
          "scatter": [
           {
            "fillpattern": {
             "fillmode": "overlay",
             "size": 10,
             "solidity": 0.2
            },
            "type": "scatter"
           }
          ],
          "scatter3d": [
           {
            "line": {
             "colorbar": {
              "outlinewidth": 0,
              "ticks": ""
             }
            },
            "marker": {
             "colorbar": {
              "outlinewidth": 0,
              "ticks": ""
             }
            },
            "type": "scatter3d"
           }
          ],
          "scattercarpet": [
           {
            "marker": {
             "colorbar": {
              "outlinewidth": 0,
              "ticks": ""
             }
            },
            "type": "scattercarpet"
           }
          ],
          "scattergeo": [
           {
            "marker": {
             "colorbar": {
              "outlinewidth": 0,
              "ticks": ""
             }
            },
            "type": "scattergeo"
           }
          ],
          "scattergl": [
           {
            "marker": {
             "colorbar": {
              "outlinewidth": 0,
              "ticks": ""
             }
            },
            "type": "scattergl"
           }
          ],
          "scattermapbox": [
           {
            "marker": {
             "colorbar": {
              "outlinewidth": 0,
              "ticks": ""
             }
            },
            "type": "scattermapbox"
           }
          ],
          "scatterpolar": [
           {
            "marker": {
             "colorbar": {
              "outlinewidth": 0,
              "ticks": ""
             }
            },
            "type": "scatterpolar"
           }
          ],
          "scatterpolargl": [
           {
            "marker": {
             "colorbar": {
              "outlinewidth": 0,
              "ticks": ""
             }
            },
            "type": "scatterpolargl"
           }
          ],
          "scatterternary": [
           {
            "marker": {
             "colorbar": {
              "outlinewidth": 0,
              "ticks": ""
             }
            },
            "type": "scatterternary"
           }
          ],
          "surface": [
           {
            "colorbar": {
             "outlinewidth": 0,
             "ticks": ""
            },
            "colorscale": [
             [
              0,
              "#0d0887"
             ],
             [
              0.1111111111111111,
              "#46039f"
             ],
             [
              0.2222222222222222,
              "#7201a8"
             ],
             [
              0.3333333333333333,
              "#9c179e"
             ],
             [
              0.4444444444444444,
              "#bd3786"
             ],
             [
              0.5555555555555556,
              "#d8576b"
             ],
             [
              0.6666666666666666,
              "#ed7953"
             ],
             [
              0.7777777777777778,
              "#fb9f3a"
             ],
             [
              0.8888888888888888,
              "#fdca26"
             ],
             [
              1,
              "#f0f921"
             ]
            ],
            "type": "surface"
           }
          ],
          "table": [
           {
            "cells": {
             "fill": {
              "color": "#EBF0F8"
             },
             "line": {
              "color": "white"
             }
            },
            "header": {
             "fill": {
              "color": "#C8D4E3"
             },
             "line": {
              "color": "white"
             }
            },
            "type": "table"
           }
          ]
         },
         "layout": {
          "annotationdefaults": {
           "arrowcolor": "#2a3f5f",
           "arrowhead": 0,
           "arrowwidth": 1
          },
          "autotypenumbers": "strict",
          "coloraxis": {
           "colorbar": {
            "outlinewidth": 0,
            "ticks": ""
           }
          },
          "colorscale": {
           "diverging": [
            [
             0,
             "#8e0152"
            ],
            [
             0.1,
             "#c51b7d"
            ],
            [
             0.2,
             "#de77ae"
            ],
            [
             0.3,
             "#f1b6da"
            ],
            [
             0.4,
             "#fde0ef"
            ],
            [
             0.5,
             "#f7f7f7"
            ],
            [
             0.6,
             "#e6f5d0"
            ],
            [
             0.7,
             "#b8e186"
            ],
            [
             0.8,
             "#7fbc41"
            ],
            [
             0.9,
             "#4d9221"
            ],
            [
             1,
             "#276419"
            ]
           ],
           "sequential": [
            [
             0,
             "#0d0887"
            ],
            [
             0.1111111111111111,
             "#46039f"
            ],
            [
             0.2222222222222222,
             "#7201a8"
            ],
            [
             0.3333333333333333,
             "#9c179e"
            ],
            [
             0.4444444444444444,
             "#bd3786"
            ],
            [
             0.5555555555555556,
             "#d8576b"
            ],
            [
             0.6666666666666666,
             "#ed7953"
            ],
            [
             0.7777777777777778,
             "#fb9f3a"
            ],
            [
             0.8888888888888888,
             "#fdca26"
            ],
            [
             1,
             "#f0f921"
            ]
           ],
           "sequentialminus": [
            [
             0,
             "#0d0887"
            ],
            [
             0.1111111111111111,
             "#46039f"
            ],
            [
             0.2222222222222222,
             "#7201a8"
            ],
            [
             0.3333333333333333,
             "#9c179e"
            ],
            [
             0.4444444444444444,
             "#bd3786"
            ],
            [
             0.5555555555555556,
             "#d8576b"
            ],
            [
             0.6666666666666666,
             "#ed7953"
            ],
            [
             0.7777777777777778,
             "#fb9f3a"
            ],
            [
             0.8888888888888888,
             "#fdca26"
            ],
            [
             1,
             "#f0f921"
            ]
           ]
          },
          "colorway": [
           "#636efa",
           "#EF553B",
           "#00cc96",
           "#ab63fa",
           "#FFA15A",
           "#19d3f3",
           "#FF6692",
           "#B6E880",
           "#FF97FF",
           "#FECB52"
          ],
          "font": {
           "color": "#2a3f5f"
          },
          "geo": {
           "bgcolor": "white",
           "lakecolor": "white",
           "landcolor": "#E5ECF6",
           "showlakes": true,
           "showland": true,
           "subunitcolor": "white"
          },
          "hoverlabel": {
           "align": "left"
          },
          "hovermode": "closest",
          "mapbox": {
           "style": "light"
          },
          "paper_bgcolor": "white",
          "plot_bgcolor": "#E5ECF6",
          "polar": {
           "angularaxis": {
            "gridcolor": "white",
            "linecolor": "white",
            "ticks": ""
           },
           "bgcolor": "#E5ECF6",
           "radialaxis": {
            "gridcolor": "white",
            "linecolor": "white",
            "ticks": ""
           }
          },
          "scene": {
           "xaxis": {
            "backgroundcolor": "#E5ECF6",
            "gridcolor": "white",
            "gridwidth": 2,
            "linecolor": "white",
            "showbackground": true,
            "ticks": "",
            "zerolinecolor": "white"
           },
           "yaxis": {
            "backgroundcolor": "#E5ECF6",
            "gridcolor": "white",
            "gridwidth": 2,
            "linecolor": "white",
            "showbackground": true,
            "ticks": "",
            "zerolinecolor": "white"
           },
           "zaxis": {
            "backgroundcolor": "#E5ECF6",
            "gridcolor": "white",
            "gridwidth": 2,
            "linecolor": "white",
            "showbackground": true,
            "ticks": "",
            "zerolinecolor": "white"
           }
          },
          "shapedefaults": {
           "line": {
            "color": "#2a3f5f"
           }
          },
          "ternary": {
           "aaxis": {
            "gridcolor": "white",
            "linecolor": "white",
            "ticks": ""
           },
           "baxis": {
            "gridcolor": "white",
            "linecolor": "white",
            "ticks": ""
           },
           "bgcolor": "#E5ECF6",
           "caxis": {
            "gridcolor": "white",
            "linecolor": "white",
            "ticks": ""
           }
          },
          "title": {
           "x": 0.05
          },
          "xaxis": {
           "automargin": true,
           "gridcolor": "white",
           "linecolor": "white",
           "ticks": "",
           "title": {
            "standoff": 15
           },
           "zerolinecolor": "white",
           "zerolinewidth": 2
          },
          "yaxis": {
           "automargin": true,
           "gridcolor": "white",
           "linecolor": "white",
           "ticks": "",
           "title": {
            "standoff": 15
           },
           "zerolinecolor": "white",
           "zerolinewidth": 2
          }
         }
        },
        "title": {
         "text": "Number of Births In and Out of Hospital by Ethnicity"
        },
        "xaxis": {
         "anchor": "y",
         "domain": [
          0,
          1
         ],
         "title": {
          "text": "Ethnicity"
         }
        },
        "yaxis": {
         "anchor": "x",
         "domain": [
          0,
          1
         ],
         "title": {
          "text": "count"
         }
        }
       }
      }
     },
     "metadata": {},
     "output_type": "display_data"
    }
   ],
   "source": [
    "import pandas as pd\n",
    "import plotly.express as px\n",
    "\n",
    "# Assuming your dataframe is named df, and has columns 'OutofHospital', 'PrimaryLanguage' and 'Ethnicity'\n",
    "\n",
    "# Plot for PrimaryLanguage\n",
    "fig1 = px.histogram(df, x=\"PrimaryLanguage\", color=\"OutofHospital\",\n",
    "                    barmode=\"group\", nbins=len(df[\"PrimaryLanguage\"].unique()),\n",
    "                    labels={\"PrimaryLanguage\": \"Primary Language\", \"OutofHospital\": \"Out of Hospital\"},\n",
    "                    title=\"Number of Births In and Out of Hospital by Primary Language\")\n",
    "\n",
    "fig1.show()\n",
    "\n",
    "\n",
    "# Plot for Ethnicity\n",
    "fig2 = px.histogram(df, x=\"Ethnicity\", color=\"OutofHospital\",\n",
    "                    barmode=\"group\", nbins=len(df[\"Ethnicity\"].unique()),\n",
    "                    labels={\"Ethnicity\": \"Ethnicity\", \"OutofHospital\": \"Out of Hospital\"},\n",
    "                    title=\"Number of Births In and Out of Hospital by Ethnicity\",\n",
    ")\n",
    "\n",
    "fig2.show()\n",
    "\n",
    "# export plotly figures to html\n",
    "import plotly.io as pio\n",
    "pio.write_html(fig1, file='fig1.html', auto_open=False)\n",
    "pio.write_html(fig2, file='fig2.html', auto_open=False)\n"
   ]
  },
  {
   "cell_type": "code",
   "execution_count": 1,
   "metadata": {},
   "outputs": [
    {
     "ename": "NameError",
     "evalue": "name 'df' is not defined",
     "output_type": "error",
     "traceback": [
      "\u001b[0;31m---------------------------------------------------------------------------\u001b[0m",
      "\u001b[0;31mNameError\u001b[0m                                 Traceback (most recent call last)",
      "Cell \u001b[0;32mIn[1], line 30\u001b[0m\n\u001b[1;32m     28\u001b[0m \u001b[39m# Add traces for each variable\u001b[39;00m\n\u001b[1;32m     29\u001b[0m \u001b[39mfor\u001b[39;00m var \u001b[39min\u001b[39;00m variables:\n\u001b[0;32m---> 30\u001b[0m     trace1, trace2 \u001b[39m=\u001b[39m create_trace(var)\n\u001b[1;32m     31\u001b[0m     fig\u001b[39m.\u001b[39madd_trace(trace1)\n\u001b[1;32m     32\u001b[0m     fig\u001b[39m.\u001b[39madd_trace(trace2)\n",
      "Cell \u001b[0;32mIn[1], line 12\u001b[0m, in \u001b[0;36mcreate_trace\u001b[0;34m(variable)\u001b[0m\n\u001b[1;32m     11\u001b[0m \u001b[39mdef\u001b[39;00m \u001b[39mcreate_trace\u001b[39m(variable):\n\u001b[0;32m---> 12\u001b[0m     count_data \u001b[39m=\u001b[39m df\u001b[39m.\u001b[39mgroupby([variable, \u001b[39m'\u001b[39m\u001b[39mOutofHospital\u001b[39m\u001b[39m'\u001b[39m])\u001b[39m.\u001b[39msize()\u001b[39m.\u001b[39mreset_index(name\u001b[39m=\u001b[39m\u001b[39m'\u001b[39m\u001b[39mcount\u001b[39m\u001b[39m'\u001b[39m)\n\u001b[1;32m     13\u001b[0m     \u001b[39mreturn\u001b[39;00m {\n\u001b[1;32m     14\u001b[0m         \u001b[39m'\u001b[39m\u001b[39mx\u001b[39m\u001b[39m'\u001b[39m: count_data[count_data[\u001b[39m'\u001b[39m\u001b[39mOutofHospital\u001b[39m\u001b[39m'\u001b[39m] \u001b[39m==\u001b[39m \u001b[39m1\u001b[39m][variable],\n\u001b[1;32m     15\u001b[0m         \u001b[39m'\u001b[39m\u001b[39my\u001b[39m\u001b[39m'\u001b[39m: count_data[count_data[\u001b[39m'\u001b[39m\u001b[39mOutofHospital\u001b[39m\u001b[39m'\u001b[39m] \u001b[39m==\u001b[39m \u001b[39m1\u001b[39m][\u001b[39m'\u001b[39m\u001b[39mcount\u001b[39m\u001b[39m'\u001b[39m],\n\u001b[0;32m   (...)\u001b[0m\n\u001b[1;32m     22\u001b[0m         \u001b[39m'\u001b[39m\u001b[39mtype\u001b[39m\u001b[39m'\u001b[39m: \u001b[39m'\u001b[39m\u001b[39mbar\u001b[39m\u001b[39m'\u001b[39m\n\u001b[1;32m     23\u001b[0m     }\n",
      "\u001b[0;31mNameError\u001b[0m: name 'df' is not defined"
     ]
    }
   ],
   "source": [
    "import pandas as pd\n",
    "import plotly.graph_objects as go\n",
    "import plotly.io as pio\n",
    "\n",
    "# Assuming your dataframe is named df, and has columns 'OutofHospital', 'Race', 'Age', 'PrimaryLanguage', 'Ethnicity', 'Education', 'Employment', 'PregnancyComplications', 'Parity'\n",
    "\n",
    "# List of variables to plot\n",
    "variables = [\"Race\", \"Age\", \"PrimaryLanguage\", \"Ethnicity\", \"Education\", \"Employment\", \"PregnancyComplications\", \"PregnancyComplicationsCount\"]\n",
    "\n",
    "# Function to create bar chart for a specific variable\n",
    "def create_trace(variable):\n",
    "    count_data = df.groupby([variable, 'OutofHospital']).size().reset_index(name='count')\n",
    "    return {\n",
    "        'x': count_data[count_data['OutofHospital'] == 1][variable],\n",
    "        'y': count_data[count_data['OutofHospital'] == 1]['count'],\n",
    "        'name': 'Out of Hospital',\n",
    "        'type': 'bar'\n",
    "    }, {\n",
    "        'x': count_data[count_data['OutofHospital'] == 0][variable],\n",
    "        'y': count_data[count_data['OutofHospital'] == 0]['count'],\n",
    "        'name': 'In Hospital',\n",
    "        'type': 'bar'\n",
    "    }\n",
    "\n",
    "# Create figure\n",
    "fig = go.Figure()\n",
    "\n",
    "# Add traces for each variable\n",
    "for var in variables:\n",
    "    trace1, trace2 = create_trace(var)\n",
    "    fig.add_trace(trace1)\n",
    "    fig.add_trace(trace2)\n",
    "\n",
    "# Create a dropdown menu\n",
    "buttons = []\n",
    "for i, var in enumerate(variables):\n",
    "    visibility = [False] * len(variables) * 2\n",
    "    visibility[i*2] = True\n",
    "    visibility[i*2 + 1] = True\n",
    "    buttons.append(dict(label=var,\n",
    "                        method=\"update\",\n",
    "                        args=[{\"visible\": visibility},\n",
    "                              {\"title\": f\"Number of Births In and Out of Hospital by {var}\",\n",
    "                               \"xaxis\": {\"title\": var},\n",
    "                               \"yaxis\": {\"title\": \"Number of Births\"}}]))\n",
    "\n",
    "# Update layout with dropdown\n",
    "fig.update_layout(\n",
    "    updatemenus=[\n",
    "        go.layout.Updatemenu(\n",
    "            active=3,  # Set default view to 'Ethnicity'\n",
    "            buttons=buttons,\n",
    "            direction=\"down\",\n",
    "            pad={\"r\": 10, \"t\": 10},\n",
    "            showactive=True,\n",
    "            x=0.7,\n",
    "            xanchor=\"left\",\n",
    "            y=1.3,\n",
    "            yanchor=\"top\"\n",
    "        ),\n",
    "    ],\n",
    "    barmode=\"group\"\n",
    ")\n",
    "\n",
    "# Set initial title\n",
    "fig.update_layout(title=f\"Number of Births In and Out of Hospital by Ethnicity\")\n",
    "\n",
    "# Set initial visibility\n",
    "visibility = [False] * len(variables) * 2\n",
    "visibility[3*2] = True\n",
    "visibility[3*2 + 1] = True\n",
    "fig.update_traces(visible=False)\n",
    "fig.data[3*2].visible = True\n",
    "fig.data[3*2 + 1].visible = True\n",
    "\n",
    "# Show figure\n",
    "fig.show()\n",
    "\n",
    "# Write to HTML\n",
    "pio.write_html(fig, file='fig.html', auto_open=False)"
   ]
  },
  {
   "cell_type": "code",
   "execution_count": 9,
   "metadata": {},
   "outputs": [
    {
     "data": {
      "application/vnd.plotly.v1+json": {
       "config": {
        "plotlyServerURL": "https://plot.ly"
       },
       "data": [
        {
         "alignmentgroup": "True",
         "bingroup": "x",
         "hovertemplate": "Number of Pregnancy Complications=%{x}<br>count=%{y}<extra></extra>",
         "legendgroup": "",
         "marker": {
          "color": "#636efa",
          "pattern": {
           "shape": ""
          }
         },
         "name": "",
         "nbinsx": 10,
         "offsetgroup": "",
         "orientation": "v",
         "showlegend": false,
         "type": "histogram",
         "x": [
          2,
          0,
          0,
          0,
          1,
          0,
          0,
          0,
          3,
          3,
          0,
          0,
          1,
          1,
          1,
          3,
          0,
          2,
          1,
          3,
          1,
          2,
          1,
          1,
          0,
          0,
          1,
          1,
          0,
          2,
          0,
          1,
          1,
          0,
          0,
          0,
          0,
          1,
          0,
          1,
          1,
          1,
          0,
          0,
          4,
          1,
          1,
          3,
          1,
          1,
          1,
          1,
          1,
          1,
          1,
          1,
          1,
          1,
          1,
          1,
          1,
          1,
          1,
          1,
          1,
          1,
          1,
          1,
          1,
          0,
          1,
          1,
          0,
          4,
          2,
          1,
          1,
          1,
          0,
          2,
          2,
          1,
          5,
          3,
          0,
          2,
          1,
          2,
          2,
          2,
          0,
          1,
          2,
          0,
          0,
          0,
          2,
          1,
          1,
          0,
          1,
          4,
          1,
          2,
          1,
          1,
          4,
          2,
          2,
          1,
          0,
          1,
          1,
          1,
          0,
          1,
          1,
          0,
          1,
          0,
          1,
          1,
          1,
          1,
          0,
          1,
          1,
          1,
          1,
          0,
          0,
          1,
          1,
          0,
          1,
          1,
          0,
          1
         ],
         "xaxis": "x",
         "yaxis": "y"
        }
       ],
       "layout": {
        "barmode": "relative",
        "legend": {
         "tracegroupgap": 0
        },
        "template": {
         "data": {
          "bar": [
           {
            "error_x": {
             "color": "#2a3f5f"
            },
            "error_y": {
             "color": "#2a3f5f"
            },
            "marker": {
             "line": {
              "color": "#E5ECF6",
              "width": 0.5
             },
             "pattern": {
              "fillmode": "overlay",
              "size": 10,
              "solidity": 0.2
             }
            },
            "type": "bar"
           }
          ],
          "barpolar": [
           {
            "marker": {
             "line": {
              "color": "#E5ECF6",
              "width": 0.5
             },
             "pattern": {
              "fillmode": "overlay",
              "size": 10,
              "solidity": 0.2
             }
            },
            "type": "barpolar"
           }
          ],
          "carpet": [
           {
            "aaxis": {
             "endlinecolor": "#2a3f5f",
             "gridcolor": "white",
             "linecolor": "white",
             "minorgridcolor": "white",
             "startlinecolor": "#2a3f5f"
            },
            "baxis": {
             "endlinecolor": "#2a3f5f",
             "gridcolor": "white",
             "linecolor": "white",
             "minorgridcolor": "white",
             "startlinecolor": "#2a3f5f"
            },
            "type": "carpet"
           }
          ],
          "choropleth": [
           {
            "colorbar": {
             "outlinewidth": 0,
             "ticks": ""
            },
            "type": "choropleth"
           }
          ],
          "contour": [
           {
            "colorbar": {
             "outlinewidth": 0,
             "ticks": ""
            },
            "colorscale": [
             [
              0,
              "#0d0887"
             ],
             [
              0.1111111111111111,
              "#46039f"
             ],
             [
              0.2222222222222222,
              "#7201a8"
             ],
             [
              0.3333333333333333,
              "#9c179e"
             ],
             [
              0.4444444444444444,
              "#bd3786"
             ],
             [
              0.5555555555555556,
              "#d8576b"
             ],
             [
              0.6666666666666666,
              "#ed7953"
             ],
             [
              0.7777777777777778,
              "#fb9f3a"
             ],
             [
              0.8888888888888888,
              "#fdca26"
             ],
             [
              1,
              "#f0f921"
             ]
            ],
            "type": "contour"
           }
          ],
          "contourcarpet": [
           {
            "colorbar": {
             "outlinewidth": 0,
             "ticks": ""
            },
            "type": "contourcarpet"
           }
          ],
          "heatmap": [
           {
            "colorbar": {
             "outlinewidth": 0,
             "ticks": ""
            },
            "colorscale": [
             [
              0,
              "#0d0887"
             ],
             [
              0.1111111111111111,
              "#46039f"
             ],
             [
              0.2222222222222222,
              "#7201a8"
             ],
             [
              0.3333333333333333,
              "#9c179e"
             ],
             [
              0.4444444444444444,
              "#bd3786"
             ],
             [
              0.5555555555555556,
              "#d8576b"
             ],
             [
              0.6666666666666666,
              "#ed7953"
             ],
             [
              0.7777777777777778,
              "#fb9f3a"
             ],
             [
              0.8888888888888888,
              "#fdca26"
             ],
             [
              1,
              "#f0f921"
             ]
            ],
            "type": "heatmap"
           }
          ],
          "heatmapgl": [
           {
            "colorbar": {
             "outlinewidth": 0,
             "ticks": ""
            },
            "colorscale": [
             [
              0,
              "#0d0887"
             ],
             [
              0.1111111111111111,
              "#46039f"
             ],
             [
              0.2222222222222222,
              "#7201a8"
             ],
             [
              0.3333333333333333,
              "#9c179e"
             ],
             [
              0.4444444444444444,
              "#bd3786"
             ],
             [
              0.5555555555555556,
              "#d8576b"
             ],
             [
              0.6666666666666666,
              "#ed7953"
             ],
             [
              0.7777777777777778,
              "#fb9f3a"
             ],
             [
              0.8888888888888888,
              "#fdca26"
             ],
             [
              1,
              "#f0f921"
             ]
            ],
            "type": "heatmapgl"
           }
          ],
          "histogram": [
           {
            "marker": {
             "pattern": {
              "fillmode": "overlay",
              "size": 10,
              "solidity": 0.2
             }
            },
            "type": "histogram"
           }
          ],
          "histogram2d": [
           {
            "colorbar": {
             "outlinewidth": 0,
             "ticks": ""
            },
            "colorscale": [
             [
              0,
              "#0d0887"
             ],
             [
              0.1111111111111111,
              "#46039f"
             ],
             [
              0.2222222222222222,
              "#7201a8"
             ],
             [
              0.3333333333333333,
              "#9c179e"
             ],
             [
              0.4444444444444444,
              "#bd3786"
             ],
             [
              0.5555555555555556,
              "#d8576b"
             ],
             [
              0.6666666666666666,
              "#ed7953"
             ],
             [
              0.7777777777777778,
              "#fb9f3a"
             ],
             [
              0.8888888888888888,
              "#fdca26"
             ],
             [
              1,
              "#f0f921"
             ]
            ],
            "type": "histogram2d"
           }
          ],
          "histogram2dcontour": [
           {
            "colorbar": {
             "outlinewidth": 0,
             "ticks": ""
            },
            "colorscale": [
             [
              0,
              "#0d0887"
             ],
             [
              0.1111111111111111,
              "#46039f"
             ],
             [
              0.2222222222222222,
              "#7201a8"
             ],
             [
              0.3333333333333333,
              "#9c179e"
             ],
             [
              0.4444444444444444,
              "#bd3786"
             ],
             [
              0.5555555555555556,
              "#d8576b"
             ],
             [
              0.6666666666666666,
              "#ed7953"
             ],
             [
              0.7777777777777778,
              "#fb9f3a"
             ],
             [
              0.8888888888888888,
              "#fdca26"
             ],
             [
              1,
              "#f0f921"
             ]
            ],
            "type": "histogram2dcontour"
           }
          ],
          "mesh3d": [
           {
            "colorbar": {
             "outlinewidth": 0,
             "ticks": ""
            },
            "type": "mesh3d"
           }
          ],
          "parcoords": [
           {
            "line": {
             "colorbar": {
              "outlinewidth": 0,
              "ticks": ""
             }
            },
            "type": "parcoords"
           }
          ],
          "pie": [
           {
            "automargin": true,
            "type": "pie"
           }
          ],
          "scatter": [
           {
            "fillpattern": {
             "fillmode": "overlay",
             "size": 10,
             "solidity": 0.2
            },
            "type": "scatter"
           }
          ],
          "scatter3d": [
           {
            "line": {
             "colorbar": {
              "outlinewidth": 0,
              "ticks": ""
             }
            },
            "marker": {
             "colorbar": {
              "outlinewidth": 0,
              "ticks": ""
             }
            },
            "type": "scatter3d"
           }
          ],
          "scattercarpet": [
           {
            "marker": {
             "colorbar": {
              "outlinewidth": 0,
              "ticks": ""
             }
            },
            "type": "scattercarpet"
           }
          ],
          "scattergeo": [
           {
            "marker": {
             "colorbar": {
              "outlinewidth": 0,
              "ticks": ""
             }
            },
            "type": "scattergeo"
           }
          ],
          "scattergl": [
           {
            "marker": {
             "colorbar": {
              "outlinewidth": 0,
              "ticks": ""
             }
            },
            "type": "scattergl"
           }
          ],
          "scattermapbox": [
           {
            "marker": {
             "colorbar": {
              "outlinewidth": 0,
              "ticks": ""
             }
            },
            "type": "scattermapbox"
           }
          ],
          "scatterpolar": [
           {
            "marker": {
             "colorbar": {
              "outlinewidth": 0,
              "ticks": ""
             }
            },
            "type": "scatterpolar"
           }
          ],
          "scatterpolargl": [
           {
            "marker": {
             "colorbar": {
              "outlinewidth": 0,
              "ticks": ""
             }
            },
            "type": "scatterpolargl"
           }
          ],
          "scatterternary": [
           {
            "marker": {
             "colorbar": {
              "outlinewidth": 0,
              "ticks": ""
             }
            },
            "type": "scatterternary"
           }
          ],
          "surface": [
           {
            "colorbar": {
             "outlinewidth": 0,
             "ticks": ""
            },
            "colorscale": [
             [
              0,
              "#0d0887"
             ],
             [
              0.1111111111111111,
              "#46039f"
             ],
             [
              0.2222222222222222,
              "#7201a8"
             ],
             [
              0.3333333333333333,
              "#9c179e"
             ],
             [
              0.4444444444444444,
              "#bd3786"
             ],
             [
              0.5555555555555556,
              "#d8576b"
             ],
             [
              0.6666666666666666,
              "#ed7953"
             ],
             [
              0.7777777777777778,
              "#fb9f3a"
             ],
             [
              0.8888888888888888,
              "#fdca26"
             ],
             [
              1,
              "#f0f921"
             ]
            ],
            "type": "surface"
           }
          ],
          "table": [
           {
            "cells": {
             "fill": {
              "color": "#EBF0F8"
             },
             "line": {
              "color": "white"
             }
            },
            "header": {
             "fill": {
              "color": "#C8D4E3"
             },
             "line": {
              "color": "white"
             }
            },
            "type": "table"
           }
          ]
         },
         "layout": {
          "annotationdefaults": {
           "arrowcolor": "#2a3f5f",
           "arrowhead": 0,
           "arrowwidth": 1
          },
          "autotypenumbers": "strict",
          "coloraxis": {
           "colorbar": {
            "outlinewidth": 0,
            "ticks": ""
           }
          },
          "colorscale": {
           "diverging": [
            [
             0,
             "#8e0152"
            ],
            [
             0.1,
             "#c51b7d"
            ],
            [
             0.2,
             "#de77ae"
            ],
            [
             0.3,
             "#f1b6da"
            ],
            [
             0.4,
             "#fde0ef"
            ],
            [
             0.5,
             "#f7f7f7"
            ],
            [
             0.6,
             "#e6f5d0"
            ],
            [
             0.7,
             "#b8e186"
            ],
            [
             0.8,
             "#7fbc41"
            ],
            [
             0.9,
             "#4d9221"
            ],
            [
             1,
             "#276419"
            ]
           ],
           "sequential": [
            [
             0,
             "#0d0887"
            ],
            [
             0.1111111111111111,
             "#46039f"
            ],
            [
             0.2222222222222222,
             "#7201a8"
            ],
            [
             0.3333333333333333,
             "#9c179e"
            ],
            [
             0.4444444444444444,
             "#bd3786"
            ],
            [
             0.5555555555555556,
             "#d8576b"
            ],
            [
             0.6666666666666666,
             "#ed7953"
            ],
            [
             0.7777777777777778,
             "#fb9f3a"
            ],
            [
             0.8888888888888888,
             "#fdca26"
            ],
            [
             1,
             "#f0f921"
            ]
           ],
           "sequentialminus": [
            [
             0,
             "#0d0887"
            ],
            [
             0.1111111111111111,
             "#46039f"
            ],
            [
             0.2222222222222222,
             "#7201a8"
            ],
            [
             0.3333333333333333,
             "#9c179e"
            ],
            [
             0.4444444444444444,
             "#bd3786"
            ],
            [
             0.5555555555555556,
             "#d8576b"
            ],
            [
             0.6666666666666666,
             "#ed7953"
            ],
            [
             0.7777777777777778,
             "#fb9f3a"
            ],
            [
             0.8888888888888888,
             "#fdca26"
            ],
            [
             1,
             "#f0f921"
            ]
           ]
          },
          "colorway": [
           "#636efa",
           "#EF553B",
           "#00cc96",
           "#ab63fa",
           "#FFA15A",
           "#19d3f3",
           "#FF6692",
           "#B6E880",
           "#FF97FF",
           "#FECB52"
          ],
          "font": {
           "color": "#2a3f5f"
          },
          "geo": {
           "bgcolor": "white",
           "lakecolor": "white",
           "landcolor": "#E5ECF6",
           "showlakes": true,
           "showland": true,
           "subunitcolor": "white"
          },
          "hoverlabel": {
           "align": "left"
          },
          "hovermode": "closest",
          "mapbox": {
           "style": "light"
          },
          "paper_bgcolor": "white",
          "plot_bgcolor": "#E5ECF6",
          "polar": {
           "angularaxis": {
            "gridcolor": "white",
            "linecolor": "white",
            "ticks": ""
           },
           "bgcolor": "#E5ECF6",
           "radialaxis": {
            "gridcolor": "white",
            "linecolor": "white",
            "ticks": ""
           }
          },
          "scene": {
           "xaxis": {
            "backgroundcolor": "#E5ECF6",
            "gridcolor": "white",
            "gridwidth": 2,
            "linecolor": "white",
            "showbackground": true,
            "ticks": "",
            "zerolinecolor": "white"
           },
           "yaxis": {
            "backgroundcolor": "#E5ECF6",
            "gridcolor": "white",
            "gridwidth": 2,
            "linecolor": "white",
            "showbackground": true,
            "ticks": "",
            "zerolinecolor": "white"
           },
           "zaxis": {
            "backgroundcolor": "#E5ECF6",
            "gridcolor": "white",
            "gridwidth": 2,
            "linecolor": "white",
            "showbackground": true,
            "ticks": "",
            "zerolinecolor": "white"
           }
          },
          "shapedefaults": {
           "line": {
            "color": "#2a3f5f"
           }
          },
          "ternary": {
           "aaxis": {
            "gridcolor": "white",
            "linecolor": "white",
            "ticks": ""
           },
           "baxis": {
            "gridcolor": "white",
            "linecolor": "white",
            "ticks": ""
           },
           "bgcolor": "#E5ECF6",
           "caxis": {
            "gridcolor": "white",
            "linecolor": "white",
            "ticks": ""
           }
          },
          "title": {
           "x": 0.05
          },
          "xaxis": {
           "automargin": true,
           "gridcolor": "white",
           "linecolor": "white",
           "ticks": "",
           "title": {
            "standoff": 15
           },
           "zerolinecolor": "white",
           "zerolinewidth": 2
          },
          "yaxis": {
           "automargin": true,
           "gridcolor": "white",
           "linecolor": "white",
           "ticks": "",
           "title": {
            "standoff": 15
           },
           "zerolinecolor": "white",
           "zerolinewidth": 2
          }
         }
        },
        "title": {
         "text": "Histogram of Number of Pregnancy Complications"
        },
        "xaxis": {
         "anchor": "y",
         "domain": [
          0,
          1
         ],
         "title": {
          "text": "Number of Pregnancy Complications"
         }
        },
        "yaxis": {
         "anchor": "x",
         "domain": [
          0,
          1
         ],
         "title": {
          "text": "count"
         }
        }
       }
      }
     },
     "metadata": {},
     "output_type": "display_data"
    }
   ],
   "source": [
    "# Plot an histogram on the target variable\n",
    "import plotly.express as px\n",
    "\n",
    "fig = px.histogram(df, x=\"PregnancyComplicationsCount\", nbins=10,\n",
    "                    labels={\"PregnancyComplicationsCount\": \"Number of Pregnancy Complications\"},\n",
    "                    title=\"Histogram of Number of Pregnancy Complications\")\n",
    "\n",
    "fig.show()\n",
    "\n",
    "# Write to HTML\n",
    "pio.write_html(fig, file='histogram.html', auto_open=False)\n"
   ]
  },
  {
   "attachments": {},
   "cell_type": "markdown",
   "metadata": {},
   "source": [
    "## Logistic Regresion"
   ]
  },
  {
   "attachments": {},
   "cell_type": "markdown",
   "metadata": {},
   "source": [
    "Logistic regression is a statistical model that uses a logistic function to model a binary dependent variable. In the context of predicting whether a baby is born in or out of a hospital, it provides a method to estimate the probability of an event (birth location) given a set of related variables, such as race, age, primary language, ethnicity, and education of the parent. Features are assigned coefficients, which reflect the strength and direction of their relationship with the outcome. A positive coefficient suggests that as the feature value increases, the likelihood of the event (in this case, a baby being born out of hospital) also increases, while a negative coefficient suggests the opposite. Thus, logistic regression allows us to identify and quantify the influence of various factors on the outcome, providing insights into relevant and correlated features."
   ]
  },
  {
   "cell_type": "code",
   "execution_count": null,
   "metadata": {},
   "outputs": [
    {
     "name": "stdout",
     "output_type": "stream",
     "text": [
      "Feature Importances:\n",
      "                            Feature  Coefficient\n",
      "0           PrimaryLanguage_English    -0.716497\n",
      "1              Race_Caucasian/White    -0.589510\n",
      "2     Ethnicity_not hispanic/latino    -0.479872\n",
      "3             Employment_unemployed     0.472605\n",
      "4    PrimaryLanguage_Haitian Creole    -0.446886\n",
      "5           PrimaryLanguage_Bengali     0.408865\n",
      "6              PrimaryLanguage_Urdu     0.385484\n",
      "7           PrimaryLanguage_Spanish     0.374652\n",
      "8    Education_high school graduate     0.291967\n",
      "9         PrimaryLanguage_Portugese     0.246905\n",
      "10           PrimaryLanguage_French     0.244259\n",
      "11  Education_less than high school     0.237993\n",
      "12                       Race_Other     0.235588\n",
      "13            Education_none listed    -0.221615\n",
      "14            Employment_not listed     0.213527\n",
      "15                           Parity    -0.213189\n",
      "16                       Race_Asian    -0.212959\n",
      "17      PregnancyComplicationsCount    -0.194228\n",
      "18           Education_some college     0.192872\n",
      "19                              Age     0.165217\n",
      "20       PrimaryLanguage_Portuguese     0.125218\n",
      "21      Race_Black/African American    -0.064077\n",
      "22    PrimaryLanguage_French Creole     0.000000\n",
      "Accuracy: 0.68\n",
      "Precision: 0.73\n",
      "Recall: 0.69\n",
      "F1 Score: 0.71\n"
     ]
    }
   ],
   "source": [
    "import pandas as pd\n",
    "import numpy as np\n",
    "from sklearn.model_selection import train_test_split\n",
    "from sklearn.linear_model import LogisticRegression\n",
    "from sklearn.preprocessing import OneHotEncoder, StandardScaler\n",
    "\n",
    "# Load data\n",
    "# Assuming that the dataframe is already loaded in variable df\n",
    "\n",
    "# Preprocessing\n",
    "# Select variables of interest\n",
    "variables_of_interest = [\"Race\", \"Age\", \"PrimaryLanguage\", \"Ethnicity\", \"Education\", \"Employment\", \"Parity\", \"PregnancyComplicationsCount\"]\n",
    "X = df[variables_of_interest]\n",
    "\n",
    "# One hot encoding for categorical variables\n",
    "categorical_vars = [\"Race\", \"PrimaryLanguage\", \"Ethnicity\", \"Education\", \"Employment\"]\n",
    "one_hot_encoder = OneHotEncoder(drop='first')\n",
    "one_hot_encoded = one_hot_encoder.fit_transform(X[categorical_vars])\n",
    "encoded_features = one_hot_encoder.get_feature_names_out(categorical_vars)\n",
    "encoded_df = pd.DataFrame(one_hot_encoded.toarray(), columns=encoded_features)\n",
    "\n",
    "# Combine the one-hot-encoded variables with the numeric variables\n",
    "X = pd.concat([X.drop(categorical_vars, axis=1), encoded_df], axis=1)\n",
    "\n",
    "# Standardize numerical features\n",
    "scaler = StandardScaler()\n",
    "X[['Age']] = scaler.fit_transform(X[['Age']])\n",
    "X['Parity'] = scaler.fit_transform(X[['Parity']])\n",
    "X['PregnancyComplicationsCount'] = scaler.fit_transform(X[['PregnancyComplicationsCount']])\n",
    "\n",
    "# Target variable\n",
    "y = df['OutofHospital']\n",
    "\n",
    "# Split the data into training and testing sets\n",
    "X_train, X_test, y_train, y_test = train_test_split(X, y, test_size=0.2, random_state=42)\n",
    "\n",
    "# Logistic regression|\n",
    "log_reg = LogisticRegression(max_iter=1000)\n",
    "log_reg.fit(X_train, y_train)\n",
    "\n",
    "# Evaluate feature importance\n",
    "feature_importance = pd.DataFrame({\"Feature\": X.columns, \"Coefficient\": log_reg.coef_[0]})\n",
    "feature_importance = feature_importance.sort_values(by=\"Coefficient\", key=abs, ascending=False).reset_index(drop=True)\n",
    "\n",
    "print(\"Feature Importances:\")\n",
    "print(feature_importance)\n",
    "\n",
    "from sklearn.metrics import accuracy_score, precision_score, recall_score, f1_score, confusion_matrix\n",
    "\n",
    "# Predictions on the test set\n",
    "y_pred = log_reg.predict(X_test)\n",
    "\n",
    "# Calculate metrics\n",
    "accuracy = accuracy_score(y_test, y_pred)\n",
    "precision = precision_score(y_test, y_pred)\n",
    "recall = recall_score(y_test, y_pred)\n",
    "f1 = f1_score(y_test, y_pred)\n",
    "conf_matrix = confusion_matrix(y_test, y_pred)\n",
    "\n",
    "# Print metrics\n",
    "print(f'Accuracy: {accuracy:.2f}')\n",
    "print(f'Precision: {precision:.2f}')\n",
    "print(f'Recall: {recall:.2f}')\n",
    "print(f'F1 Score: {f1:.2f}')\n"
   ]
  },
  {
   "attachments": {},
   "cell_type": "markdown",
   "metadata": {},
   "source": [
    "The logistic regression model reveals a variety of key insights about the influences on whether a baby is born inside or outside of a hospital. The most influential feature is whether the primary language is English, with a negative coefficient of -0.716497. This suggests that when English is the primary language, it is less likely for the baby to be born outside of a hospital. Similar trends are seen with the race of being Caucasian/White and the ethnicity of not being Hispanic/Latino, which also have negative coefficients, indicating these groups are less likely to have out-of-hospital births. On the other hand, certain features increase the likelihood of out-of-hospital birth. For example, if the individual is unemployed, the probability of the birth taking place outside of a hospital increases.\n",
    "\n",
    "From the model, it can be observed that certain features increase the probability of a baby being born outside of a hospital. Individuals who are unemployed (coefficient of 0.472605) have an increased likelihood of giving birth outside a hospital. Also, people whose primary language is either Bengali, Urdu, or Spanish also show a higher tendency to have out-of-hospital births, as indicated by the positive coefficients of these variables. Similarly, having an education level of a high school graduate or less than high school, also increases the chances of out-of-hospital births. **These features suggest that socio-economic factors, language, and education level significantly influence the location of birth, with lower socio-economic status and non-English primary languages increasing the likelihood of out-of-hospital births.**\n",
    "\n",
    "\n",
    "\n",
    "\n",
    "\n",
    "\n",
    "The accuracy of the model, at 0.68, indicates a moderate ability to correctly classify whether a birth takes place in or out of the hospital based on the available features. The F1 score, a balance of precision and recall, is 0.71, which suggests a reasonably balanced model."
   ]
  },
  {
   "cell_type": "code",
   "execution_count": null,
   "metadata": {},
   "outputs": [
    {
     "data": {
      "application/vnd.plotly.v1+json": {
       "config": {
        "plotlyServerURL": "https://plot.ly"
       },
       "data": [
        {
         "alignmentgroup": "True",
         "hovertemplate": "Coefficient=%{marker.color}<br>Feature=%{y}<extra></extra>",
         "legendgroup": "",
         "marker": {
          "color": [
           -0.7164972503782862,
           -0.5895102173469531,
           -0.47987156511982926,
           -0.4468858293883701,
           -0.22161519057550877,
           -0.21318899624502272,
           -0.2129585095719838,
           -0.1942282480277618,
           -0.06407710210297406,
           0,
           0.12521840778758275,
           0.16521736495965747,
           0.19287188306501124,
           0.21352713491754347,
           0.23558832680682956,
           0.23799268856502864,
           0.2442587949645211,
           0.24690453852904345,
           0.2919670358984836,
           0.37465156513772313,
           0.38548420263875316,
           0.408865130064292,
           0.4726048799852592
          ],
          "coloraxis": "coloraxis",
          "pattern": {
           "shape": ""
          }
         },
         "name": "",
         "offsetgroup": "",
         "orientation": "h",
         "showlegend": false,
         "textposition": "auto",
         "type": "bar",
         "x": [
          -0.7164972503782862,
          -0.5895102173469531,
          -0.47987156511982926,
          -0.4468858293883701,
          -0.22161519057550877,
          -0.21318899624502272,
          -0.2129585095719838,
          -0.1942282480277618,
          -0.06407710210297406,
          0,
          0.12521840778758275,
          0.16521736495965747,
          0.19287188306501124,
          0.21352713491754347,
          0.23558832680682956,
          0.23799268856502864,
          0.2442587949645211,
          0.24690453852904345,
          0.2919670358984836,
          0.37465156513772313,
          0.38548420263875316,
          0.408865130064292,
          0.4726048799852592
         ],
         "xaxis": "x",
         "y": [
          "PrimaryLanguage_English",
          "Race_Caucasian/White",
          "Ethnicity_not hispanic/latino",
          "PrimaryLanguage_Haitian Creole",
          "Education_none listed",
          "Parity",
          "Race_Asian",
          "PregnancyComplicationsCount",
          "Race_Black/African American",
          "PrimaryLanguage_French Creole",
          "PrimaryLanguage_Portuguese",
          "Age",
          "Education_some college",
          "Employment_not listed",
          "Race_Other",
          "Education_less than high school",
          "PrimaryLanguage_French",
          "PrimaryLanguage_Portugese",
          "Education_high school graduate",
          "PrimaryLanguage_Spanish",
          "PrimaryLanguage_Urdu",
          "PrimaryLanguage_Bengali",
          "Employment_unemployed"
         ],
         "yaxis": "y"
        }
       ],
       "layout": {
        "barmode": "relative",
        "coloraxis": {
         "colorbar": {
          "title": {
           "text": "Coefficient"
          }
         },
         "colorscale": [
          [
           0,
           "rgb(103,0,31)"
          ],
          [
           0.1,
           "rgb(178,24,43)"
          ],
          [
           0.2,
           "rgb(214,96,77)"
          ],
          [
           0.3,
           "rgb(244,165,130)"
          ],
          [
           0.4,
           "rgb(253,219,199)"
          ],
          [
           0.5,
           "rgb(247,247,247)"
          ],
          [
           0.6,
           "rgb(209,229,240)"
          ],
          [
           0.7,
           "rgb(146,197,222)"
          ],
          [
           0.8,
           "rgb(67,147,195)"
          ],
          [
           0.9,
           "rgb(33,102,172)"
          ],
          [
           1,
           "rgb(5,48,97)"
          ]
         ]
        },
        "height": 800,
        "legend": {
         "tracegroupgap": 0
        },
        "template": {
         "data": {
          "bar": [
           {
            "error_x": {
             "color": "#2a3f5f"
            },
            "error_y": {
             "color": "#2a3f5f"
            },
            "marker": {
             "line": {
              "color": "#E5ECF6",
              "width": 0.5
             },
             "pattern": {
              "fillmode": "overlay",
              "size": 10,
              "solidity": 0.2
             }
            },
            "type": "bar"
           }
          ],
          "barpolar": [
           {
            "marker": {
             "line": {
              "color": "#E5ECF6",
              "width": 0.5
             },
             "pattern": {
              "fillmode": "overlay",
              "size": 10,
              "solidity": 0.2
             }
            },
            "type": "barpolar"
           }
          ],
          "carpet": [
           {
            "aaxis": {
             "endlinecolor": "#2a3f5f",
             "gridcolor": "white",
             "linecolor": "white",
             "minorgridcolor": "white",
             "startlinecolor": "#2a3f5f"
            },
            "baxis": {
             "endlinecolor": "#2a3f5f",
             "gridcolor": "white",
             "linecolor": "white",
             "minorgridcolor": "white",
             "startlinecolor": "#2a3f5f"
            },
            "type": "carpet"
           }
          ],
          "choropleth": [
           {
            "colorbar": {
             "outlinewidth": 0,
             "ticks": ""
            },
            "type": "choropleth"
           }
          ],
          "contour": [
           {
            "colorbar": {
             "outlinewidth": 0,
             "ticks": ""
            },
            "colorscale": [
             [
              0,
              "#0d0887"
             ],
             [
              0.1111111111111111,
              "#46039f"
             ],
             [
              0.2222222222222222,
              "#7201a8"
             ],
             [
              0.3333333333333333,
              "#9c179e"
             ],
             [
              0.4444444444444444,
              "#bd3786"
             ],
             [
              0.5555555555555556,
              "#d8576b"
             ],
             [
              0.6666666666666666,
              "#ed7953"
             ],
             [
              0.7777777777777778,
              "#fb9f3a"
             ],
             [
              0.8888888888888888,
              "#fdca26"
             ],
             [
              1,
              "#f0f921"
             ]
            ],
            "type": "contour"
           }
          ],
          "contourcarpet": [
           {
            "colorbar": {
             "outlinewidth": 0,
             "ticks": ""
            },
            "type": "contourcarpet"
           }
          ],
          "heatmap": [
           {
            "colorbar": {
             "outlinewidth": 0,
             "ticks": ""
            },
            "colorscale": [
             [
              0,
              "#0d0887"
             ],
             [
              0.1111111111111111,
              "#46039f"
             ],
             [
              0.2222222222222222,
              "#7201a8"
             ],
             [
              0.3333333333333333,
              "#9c179e"
             ],
             [
              0.4444444444444444,
              "#bd3786"
             ],
             [
              0.5555555555555556,
              "#d8576b"
             ],
             [
              0.6666666666666666,
              "#ed7953"
             ],
             [
              0.7777777777777778,
              "#fb9f3a"
             ],
             [
              0.8888888888888888,
              "#fdca26"
             ],
             [
              1,
              "#f0f921"
             ]
            ],
            "type": "heatmap"
           }
          ],
          "heatmapgl": [
           {
            "colorbar": {
             "outlinewidth": 0,
             "ticks": ""
            },
            "colorscale": [
             [
              0,
              "#0d0887"
             ],
             [
              0.1111111111111111,
              "#46039f"
             ],
             [
              0.2222222222222222,
              "#7201a8"
             ],
             [
              0.3333333333333333,
              "#9c179e"
             ],
             [
              0.4444444444444444,
              "#bd3786"
             ],
             [
              0.5555555555555556,
              "#d8576b"
             ],
             [
              0.6666666666666666,
              "#ed7953"
             ],
             [
              0.7777777777777778,
              "#fb9f3a"
             ],
             [
              0.8888888888888888,
              "#fdca26"
             ],
             [
              1,
              "#f0f921"
             ]
            ],
            "type": "heatmapgl"
           }
          ],
          "histogram": [
           {
            "marker": {
             "pattern": {
              "fillmode": "overlay",
              "size": 10,
              "solidity": 0.2
             }
            },
            "type": "histogram"
           }
          ],
          "histogram2d": [
           {
            "colorbar": {
             "outlinewidth": 0,
             "ticks": ""
            },
            "colorscale": [
             [
              0,
              "#0d0887"
             ],
             [
              0.1111111111111111,
              "#46039f"
             ],
             [
              0.2222222222222222,
              "#7201a8"
             ],
             [
              0.3333333333333333,
              "#9c179e"
             ],
             [
              0.4444444444444444,
              "#bd3786"
             ],
             [
              0.5555555555555556,
              "#d8576b"
             ],
             [
              0.6666666666666666,
              "#ed7953"
             ],
             [
              0.7777777777777778,
              "#fb9f3a"
             ],
             [
              0.8888888888888888,
              "#fdca26"
             ],
             [
              1,
              "#f0f921"
             ]
            ],
            "type": "histogram2d"
           }
          ],
          "histogram2dcontour": [
           {
            "colorbar": {
             "outlinewidth": 0,
             "ticks": ""
            },
            "colorscale": [
             [
              0,
              "#0d0887"
             ],
             [
              0.1111111111111111,
              "#46039f"
             ],
             [
              0.2222222222222222,
              "#7201a8"
             ],
             [
              0.3333333333333333,
              "#9c179e"
             ],
             [
              0.4444444444444444,
              "#bd3786"
             ],
             [
              0.5555555555555556,
              "#d8576b"
             ],
             [
              0.6666666666666666,
              "#ed7953"
             ],
             [
              0.7777777777777778,
              "#fb9f3a"
             ],
             [
              0.8888888888888888,
              "#fdca26"
             ],
             [
              1,
              "#f0f921"
             ]
            ],
            "type": "histogram2dcontour"
           }
          ],
          "mesh3d": [
           {
            "colorbar": {
             "outlinewidth": 0,
             "ticks": ""
            },
            "type": "mesh3d"
           }
          ],
          "parcoords": [
           {
            "line": {
             "colorbar": {
              "outlinewidth": 0,
              "ticks": ""
             }
            },
            "type": "parcoords"
           }
          ],
          "pie": [
           {
            "automargin": true,
            "type": "pie"
           }
          ],
          "scatter": [
           {
            "fillpattern": {
             "fillmode": "overlay",
             "size": 10,
             "solidity": 0.2
            },
            "type": "scatter"
           }
          ],
          "scatter3d": [
           {
            "line": {
             "colorbar": {
              "outlinewidth": 0,
              "ticks": ""
             }
            },
            "marker": {
             "colorbar": {
              "outlinewidth": 0,
              "ticks": ""
             }
            },
            "type": "scatter3d"
           }
          ],
          "scattercarpet": [
           {
            "marker": {
             "colorbar": {
              "outlinewidth": 0,
              "ticks": ""
             }
            },
            "type": "scattercarpet"
           }
          ],
          "scattergeo": [
           {
            "marker": {
             "colorbar": {
              "outlinewidth": 0,
              "ticks": ""
             }
            },
            "type": "scattergeo"
           }
          ],
          "scattergl": [
           {
            "marker": {
             "colorbar": {
              "outlinewidth": 0,
              "ticks": ""
             }
            },
            "type": "scattergl"
           }
          ],
          "scattermapbox": [
           {
            "marker": {
             "colorbar": {
              "outlinewidth": 0,
              "ticks": ""
             }
            },
            "type": "scattermapbox"
           }
          ],
          "scatterpolar": [
           {
            "marker": {
             "colorbar": {
              "outlinewidth": 0,
              "ticks": ""
             }
            },
            "type": "scatterpolar"
           }
          ],
          "scatterpolargl": [
           {
            "marker": {
             "colorbar": {
              "outlinewidth": 0,
              "ticks": ""
             }
            },
            "type": "scatterpolargl"
           }
          ],
          "scatterternary": [
           {
            "marker": {
             "colorbar": {
              "outlinewidth": 0,
              "ticks": ""
             }
            },
            "type": "scatterternary"
           }
          ],
          "surface": [
           {
            "colorbar": {
             "outlinewidth": 0,
             "ticks": ""
            },
            "colorscale": [
             [
              0,
              "#0d0887"
             ],
             [
              0.1111111111111111,
              "#46039f"
             ],
             [
              0.2222222222222222,
              "#7201a8"
             ],
             [
              0.3333333333333333,
              "#9c179e"
             ],
             [
              0.4444444444444444,
              "#bd3786"
             ],
             [
              0.5555555555555556,
              "#d8576b"
             ],
             [
              0.6666666666666666,
              "#ed7953"
             ],
             [
              0.7777777777777778,
              "#fb9f3a"
             ],
             [
              0.8888888888888888,
              "#fdca26"
             ],
             [
              1,
              "#f0f921"
             ]
            ],
            "type": "surface"
           }
          ],
          "table": [
           {
            "cells": {
             "fill": {
              "color": "#EBF0F8"
             },
             "line": {
              "color": "white"
             }
            },
            "header": {
             "fill": {
              "color": "#C8D4E3"
             },
             "line": {
              "color": "white"
             }
            },
            "type": "table"
           }
          ]
         },
         "layout": {
          "annotationdefaults": {
           "arrowcolor": "#2a3f5f",
           "arrowhead": 0,
           "arrowwidth": 1
          },
          "autotypenumbers": "strict",
          "coloraxis": {
           "colorbar": {
            "outlinewidth": 0,
            "ticks": ""
           }
          },
          "colorscale": {
           "diverging": [
            [
             0,
             "#8e0152"
            ],
            [
             0.1,
             "#c51b7d"
            ],
            [
             0.2,
             "#de77ae"
            ],
            [
             0.3,
             "#f1b6da"
            ],
            [
             0.4,
             "#fde0ef"
            ],
            [
             0.5,
             "#f7f7f7"
            ],
            [
             0.6,
             "#e6f5d0"
            ],
            [
             0.7,
             "#b8e186"
            ],
            [
             0.8,
             "#7fbc41"
            ],
            [
             0.9,
             "#4d9221"
            ],
            [
             1,
             "#276419"
            ]
           ],
           "sequential": [
            [
             0,
             "#0d0887"
            ],
            [
             0.1111111111111111,
             "#46039f"
            ],
            [
             0.2222222222222222,
             "#7201a8"
            ],
            [
             0.3333333333333333,
             "#9c179e"
            ],
            [
             0.4444444444444444,
             "#bd3786"
            ],
            [
             0.5555555555555556,
             "#d8576b"
            ],
            [
             0.6666666666666666,
             "#ed7953"
            ],
            [
             0.7777777777777778,
             "#fb9f3a"
            ],
            [
             0.8888888888888888,
             "#fdca26"
            ],
            [
             1,
             "#f0f921"
            ]
           ],
           "sequentialminus": [
            [
             0,
             "#0d0887"
            ],
            [
             0.1111111111111111,
             "#46039f"
            ],
            [
             0.2222222222222222,
             "#7201a8"
            ],
            [
             0.3333333333333333,
             "#9c179e"
            ],
            [
             0.4444444444444444,
             "#bd3786"
            ],
            [
             0.5555555555555556,
             "#d8576b"
            ],
            [
             0.6666666666666666,
             "#ed7953"
            ],
            [
             0.7777777777777778,
             "#fb9f3a"
            ],
            [
             0.8888888888888888,
             "#fdca26"
            ],
            [
             1,
             "#f0f921"
            ]
           ]
          },
          "colorway": [
           "#636efa",
           "#EF553B",
           "#00cc96",
           "#ab63fa",
           "#FFA15A",
           "#19d3f3",
           "#FF6692",
           "#B6E880",
           "#FF97FF",
           "#FECB52"
          ],
          "font": {
           "color": "#2a3f5f"
          },
          "geo": {
           "bgcolor": "white",
           "lakecolor": "white",
           "landcolor": "#E5ECF6",
           "showlakes": true,
           "showland": true,
           "subunitcolor": "white"
          },
          "hoverlabel": {
           "align": "left"
          },
          "hovermode": "closest",
          "mapbox": {
           "style": "light"
          },
          "paper_bgcolor": "white",
          "plot_bgcolor": "#E5ECF6",
          "polar": {
           "angularaxis": {
            "gridcolor": "white",
            "linecolor": "white",
            "ticks": ""
           },
           "bgcolor": "#E5ECF6",
           "radialaxis": {
            "gridcolor": "white",
            "linecolor": "white",
            "ticks": ""
           }
          },
          "scene": {
           "xaxis": {
            "backgroundcolor": "#E5ECF6",
            "gridcolor": "white",
            "gridwidth": 2,
            "linecolor": "white",
            "showbackground": true,
            "ticks": "",
            "zerolinecolor": "white"
           },
           "yaxis": {
            "backgroundcolor": "#E5ECF6",
            "gridcolor": "white",
            "gridwidth": 2,
            "linecolor": "white",
            "showbackground": true,
            "ticks": "",
            "zerolinecolor": "white"
           },
           "zaxis": {
            "backgroundcolor": "#E5ECF6",
            "gridcolor": "white",
            "gridwidth": 2,
            "linecolor": "white",
            "showbackground": true,
            "ticks": "",
            "zerolinecolor": "white"
           }
          },
          "shapedefaults": {
           "line": {
            "color": "#2a3f5f"
           }
          },
          "ternary": {
           "aaxis": {
            "gridcolor": "white",
            "linecolor": "white",
            "ticks": ""
           },
           "baxis": {
            "gridcolor": "white",
            "linecolor": "white",
            "ticks": ""
           },
           "bgcolor": "#E5ECF6",
           "caxis": {
            "gridcolor": "white",
            "linecolor": "white",
            "ticks": ""
           }
          },
          "title": {
           "x": 0.05
          },
          "xaxis": {
           "automargin": true,
           "gridcolor": "white",
           "linecolor": "white",
           "ticks": "",
           "title": {
            "standoff": 15
           },
           "zerolinecolor": "white",
           "zerolinewidth": 2
          },
          "yaxis": {
           "automargin": true,
           "gridcolor": "white",
           "linecolor": "white",
           "ticks": "",
           "title": {
            "standoff": 15
           },
           "zerolinecolor": "white",
           "zerolinewidth": 2
          }
         }
        },
        "title": {
         "text": "Feature Importances"
        },
        "xaxis": {
         "anchor": "y",
         "domain": [
          0,
          1
         ],
         "title": {
          "text": "Coefficient"
         }
        },
        "yaxis": {
         "anchor": "x",
         "domain": [
          0,
          1
         ],
         "title": {
          "text": "Feature"
         }
        }
       }
      }
     },
     "metadata": {},
     "output_type": "display_data"
    }
   ],
   "source": [
    "import plotly.express as px\n",
    "\n",
    "# Feature Importance\n",
    "feature_importance = pd.DataFrame({\"Feature\": X.columns, \"Coefficient\": log_reg.coef_[0]})\n",
    "feature_importance = feature_importance.sort_values(by=\"Coefficient\")\n",
    "\n",
    "fig = px.bar(feature_importance, x='Coefficient', y='Feature', orientation='h',\n",
    "             title='Feature Importances',\n",
    "             labels={'Coefficient':'Coefficient', 'Feature':'Feature'},\n",
    "             color='Coefficient',\n",
    "             color_continuous_scale=px.colors.diverging.RdBu,\n",
    "             height=800)\n",
    "\n",
    "fig.show()\n",
    "\n",
    "# export to html\n",
    "pio.write_html(fig, file='feature_importance.html', auto_open=False)\n",
    "\n"
   ]
  },
  {
   "cell_type": "code",
   "execution_count": 17,
   "metadata": {},
   "outputs": [
    {
     "data": {
      "text/html": [
       "<div>\n",
       "<style scoped>\n",
       "    .dataframe tbody tr th:only-of-type {\n",
       "        vertical-align: middle;\n",
       "    }\n",
       "\n",
       "    .dataframe tbody tr th {\n",
       "        vertical-align: top;\n",
       "    }\n",
       "\n",
       "    .dataframe thead th {\n",
       "        text-align: right;\n",
       "    }\n",
       "</style>\n",
       "<table border=\"1\" class=\"dataframe\">\n",
       "  <thead>\n",
       "    <tr style=\"text-align: right;\">\n",
       "      <th></th>\n",
       "      <th>PrimaryLanguage</th>\n",
       "    </tr>\n",
       "  </thead>\n",
       "  <tbody>\n",
       "    <tr>\n",
       "      <th>0</th>\n",
       "      <td>Spanish</td>\n",
       "    </tr>\n",
       "    <tr>\n",
       "      <th>1</th>\n",
       "      <td>Urdu</td>\n",
       "    </tr>\n",
       "    <tr>\n",
       "      <th>2</th>\n",
       "      <td>Spanish</td>\n",
       "    </tr>\n",
       "    <tr>\n",
       "      <th>3</th>\n",
       "      <td>English</td>\n",
       "    </tr>\n",
       "    <tr>\n",
       "      <th>4</th>\n",
       "      <td>English</td>\n",
       "    </tr>\n",
       "    <tr>\n",
       "      <th>...</th>\n",
       "      <td>...</td>\n",
       "    </tr>\n",
       "    <tr>\n",
       "      <th>133</th>\n",
       "      <td>English</td>\n",
       "    </tr>\n",
       "    <tr>\n",
       "      <th>134</th>\n",
       "      <td>English</td>\n",
       "    </tr>\n",
       "    <tr>\n",
       "      <th>135</th>\n",
       "      <td>English</td>\n",
       "    </tr>\n",
       "    <tr>\n",
       "      <th>136</th>\n",
       "      <td>Spanish</td>\n",
       "    </tr>\n",
       "    <tr>\n",
       "      <th>137</th>\n",
       "      <td>English</td>\n",
       "    </tr>\n",
       "  </tbody>\n",
       "</table>\n",
       "<p>138 rows × 1 columns</p>\n",
       "</div>"
      ],
      "text/plain": [
       "    PrimaryLanguage\n",
       "0           Spanish\n",
       "1              Urdu\n",
       "2           Spanish\n",
       "3           English\n",
       "4           English\n",
       "..              ...\n",
       "133         English\n",
       "134         English\n",
       "135         English\n",
       "136         Spanish\n",
       "137         English\n",
       "\n",
       "[138 rows x 1 columns]"
      ]
     },
     "execution_count": 17,
     "metadata": {},
     "output_type": "execute_result"
    }
   ],
   "source": [
    "df[variables_of_interest]"
   ]
  },
  {
   "cell_type": "code",
   "execution_count": 61,
   "metadata": {},
   "outputs": [
    {
     "name": "stdout",
     "output_type": "stream",
     "text": [
      "Optimization terminated successfully.\n",
      "         Current function value: 0.597334\n",
      "         Iterations 5\n",
      "                           Logit Regression Results                           \n",
      "==============================================================================\n",
      "Dep. Variable:          OutofHospital   No. Observations:                  138\n",
      "Model:                          Logit   Df Residuals:                      128\n",
      "Method:                           MLE   Df Model:                            9\n",
      "Date:                Sun, 25 Jun 2023   Pseudo R-squ.:                  0.1371\n",
      "Time:                        16:25:07   Log-Likelihood:                -82.432\n",
      "converged:                       True   LL-Null:                       -95.524\n",
      "Covariance Type:            nonrobust   LLR p-value:                  0.001906\n",
      "===================================================================================================\n",
      "                                      coef    std err          z      P>|z|      [0.025      0.975]\n",
      "---------------------------------------------------------------------------------------------------\n",
      "const                               0.9407      0.971      0.969      0.333      -0.962       2.844\n",
      "PregnancyComplications             -0.3991      0.433     -0.921      0.357      -1.249       0.450\n",
      "Parity                             -0.1405      0.121     -1.158      0.247      -0.378       0.097\n",
      "Education_high school graduate      1.1348      0.942      1.205      0.228      -0.711       2.981\n",
      "Education_less than high school     0.8113      1.082      0.749      0.454      -1.310       2.933\n",
      "Education_none listed              -0.0934      0.855     -0.109      0.913      -1.769       1.583\n",
      "Education_some college              0.4408      1.649      0.267      0.789      -2.792       3.673\n",
      "Ethnicity_not hispanic/latino      -1.5900      0.396     -4.011      0.000      -2.367      -0.813\n",
      "Employment_not listed               0.3878      0.609      0.637      0.524      -0.806       1.581\n",
      "Employment_unemployed               0.6188      0.498      1.242      0.214      -0.357       1.595\n",
      "===================================================================================================\n"
     ]
    }
   ],
   "source": [
    "from sklearn.calibration import LabelEncoder\n",
    "import statsmodels.api as sm\n",
    "\n",
    "# Select variables of interest\n",
    "variables_of_interest = [ \"Education\",\"Ethnicity\", \"Employment\", \"PregnancyComplications\", \"Parity\"] \n",
    "X = df[variables_of_interest]\n",
    "X = pd.get_dummies(df[variables_of_interest], drop_first=True, dtype=float)\n",
    "y = df['OutofHospital']\n",
    "\n",
    "# Fit the model\n",
    "logit_model = sm.Logit(y, sm.add_constant(X))\n",
    "result = logit_model.fit()\n",
    "\n",
    "# Print the summary, including standard errors\n",
    "print(result.summary())"
   ]
  },
  {
   "cell_type": "code",
   "execution_count": null,
   "metadata": {},
   "outputs": [],
   "source": []
  }
 ],
 "metadata": {
  "kernelspec": {
   "display_name": ".venv",
   "language": "python",
   "name": "python3"
  },
  "language_info": {
   "codemirror_mode": {
    "name": "ipython",
    "version": 3
   },
   "file_extension": ".py",
   "mimetype": "text/x-python",
   "name": "python",
   "nbconvert_exporter": "python",
   "pygments_lexer": "ipython3",
   "version": "3.11.3"
  },
  "orig_nbformat": 4
 },
 "nbformat": 4,
 "nbformat_minor": 2
}
