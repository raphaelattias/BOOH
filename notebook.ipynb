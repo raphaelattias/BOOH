{
 "cells": [
  {
   "cell_type": "code",
   "execution_count": 1,
   "metadata": {},
   "outputs": [],
   "source": [
    "new_column_names = {\n",
    "    'Age at delivery': 'Age',\n",
    "    'Marital status (0 = unmarried, 1 = married)': 'MaritalStatus',\n",
    "    'Ethnicity (0 = not hispanic/latino, 1 = hispanic/latino)': 'Ethnicity',\n",
    "    'Race (1 = American Indian, 2 = Asian, 3 = Black/African American, 4 = Caucasian/White, 5 = Pacific Islander, 6 = Mixed, 7 = Other': 'Race',\n",
    "    'Primary Language': 'PrimaryLanguage',\n",
    "    'Translation Service Utilized (0 = none, 1 = yes)': 'TranslationService',\n",
    "    'PCP on file (0 = none, 1 = yes)': 'PCPonFile',\n",
    "    'Insurance Coverage (0 = none, 1 = Medicaid/Medicare, 2 = Other)': 'InsuranceCoverage',\n",
    "    'Substance Use (0 = none, 1 = any ICD in ICD chart)': 'SubstanceUse',\n",
    "    'Educational Attainment (0 = none listed, 1 = less than high school, 2 = high school graduate, 3 = some college, 4 = Bachelor and above': 'Education',\n",
    "    'Employment Status (0 = not listed, 1 = unemployed, 2 = employed)': 'Employment',\n",
    "    'History of Prenatal Care (0 = none, if yes list how many visits) ': 'PrenatalCareHistory',\n",
    "    'Maternal Pathologies (0 = none, If present list ICD)': 'MaternalPathologies',\n",
    "    'Pregnancy Complications (0 = none, If present list ICD)': 'PregnancyComplications',\n",
    "    'Parity (0 = nulliparous, 1 = 1 prior child, etc.)': 'Parity'\n",
    "}\n",
    "\n",
    "# Rename the columns"
   ]
  },
  {
   "cell_type": "code",
   "execution_count": 2,
   "metadata": {},
   "outputs": [],
   "source": [
    "import pandas as pd\n",
    "\n",
    "# read xlsx file\n",
    "\n",
    "df_out_of_hospital = pd.read_excel('data.xlsx', sheet_name='UOHB Maternal Characteristics')\n",
    "df_in_hospital = pd.read_excel('data.xlsx', sheet_name='IHB Maternal Characteristics')\n",
    "\n",
    "# rename column to \"Pregnancy Complications\"\n",
    "df_out_of_hospital.rename(columns=new_column_names, inplace=True)\n",
    "df_in_hospital.rename(columns=new_column_names, inplace=True)\n",
    "\n",
    "df_out_of_hospital['PregnancyComplications'] = df_out_of_hospital['PregnancyComplications'].apply(lambda x: 1 if x else 0)\n",
    "df_in_hospital['PregnancyComplications'] = df_in_hospital['PregnancyComplications'].apply(lambda x: 1 if x else 0)"
   ]
  },
  {
   "cell_type": "code",
   "execution_count": 26,
   "metadata": {},
   "outputs": [],
   "source": [
    "df = pd.concat([df_in_hospital, df_out_of_hospital], keys=['Out of Hospital', 'In Hospital'])\n",
    "df.reset_index(inplace=True)\n",
    "df.rename(columns={'level_0': 'OutofHospital'}, inplace=True)\n",
    "df.Parity = df.Parity.apply(lambda x: f\"{x} prior children\" if x > 1 else f\"No prior child\")\n",
    "df['OutofHospital'] = df['OutofHospital'].apply(lambda x: 1 if x == 'Out of Hospital' else 0)\n",
    "mapping_dictionaries = {\n",
    "    'MaritalStatus': {\n",
    "        0: 'unmarried',\n",
    "        1: 'married'\n",
    "    },\n",
    "    'Ethnicity': {\n",
    "        0: 'not hispanic/latino',\n",
    "        1: 'hispanic/latino'\n",
    "    },\n",
    "    'Race': {\n",
    "        1: 'American Indian',\n",
    "        2: 'Asian',\n",
    "        3: 'Black/African American',\n",
    "        4: 'Caucasian/White',\n",
    "        5: 'Pacific Islander',\n",
    "        6: 'Mixed',\n",
    "        7: 'Other'\n",
    "    },\n",
    "    'TranslationService': {\n",
    "        0: 'none',\n",
    "        1: 'yes'\n",
    "    },\n",
    "    'PCPonFile': {\n",
    "        0: 'none',\n",
    "        1: 'yes'\n",
    "    },\n",
    "    'InsuranceCoverage': {\n",
    "        0: 'none',\n",
    "        1: 'Medicaid/Medicare',\n",
    "        2: 'Other'\n",
    "    },\n",
    "    'SubstanceUse': {\n",
    "        0: 'none',\n",
    "        1: 'any ICD in ICD chart'\n",
    "    },\n",
    "    'Education': {\n",
    "        0: 'none listed',\n",
    "        1: 'less than high school',\n",
    "        2: 'high school graduate',\n",
    "        3: 'some college',\n",
    "        4: 'Bachelor and above'\n",
    "    },\n",
    "    'Employment': {\n",
    "        0: 'not listed',\n",
    "        1: 'unemployed',\n",
    "        2: 'employed'\n",
    "    },\n",
    "}\n",
    "\n",
    "# Replacing numerical values with categories for each column in the DataFrame\n",
    "for column, mapping in mapping_dictionaries.items():\n",
    "    df[column] = df[column].replace(mapping)\n",
    "\n",
    "df.Race.replace({0: \"Other\"}, inplace=True)"
   ]
  },
  {
   "cell_type": "code",
   "execution_count": 4,
   "metadata": {},
   "outputs": [
    {
     "data": {
      "text/html": [
       "<div>\n",
       "<style scoped>\n",
       "    .dataframe tbody tr th:only-of-type {\n",
       "        vertical-align: middle;\n",
       "    }\n",
       "\n",
       "    .dataframe tbody tr th {\n",
       "        vertical-align: top;\n",
       "    }\n",
       "\n",
       "    .dataframe thead th {\n",
       "        text-align: right;\n",
       "    }\n",
       "</style>\n",
       "<table border=\"1\" class=\"dataframe\">\n",
       "  <thead>\n",
       "    <tr style=\"text-align: right;\">\n",
       "      <th></th>\n",
       "      <th>OutofHospital</th>\n",
       "      <th>level_1</th>\n",
       "      <th>Age</th>\n",
       "      <th>MaritalStatus</th>\n",
       "      <th>Ethnicity</th>\n",
       "      <th>Race</th>\n",
       "      <th>PrimaryLanguage</th>\n",
       "      <th>TranslationService</th>\n",
       "      <th>PCPonFile</th>\n",
       "      <th>InsuranceCoverage</th>\n",
       "      <th>SubstanceUse</th>\n",
       "      <th>Education</th>\n",
       "      <th>Employment</th>\n",
       "      <th>PrenatalCareHistory</th>\n",
       "      <th>MaternalPathologies</th>\n",
       "      <th>PregnancyComplications</th>\n",
       "      <th>Parity</th>\n",
       "    </tr>\n",
       "  </thead>\n",
       "  <tbody>\n",
       "    <tr>\n",
       "      <th>0</th>\n",
       "      <td>0</td>\n",
       "      <td>0</td>\n",
       "      <td>34</td>\n",
       "      <td>unmarried</td>\n",
       "      <td>hispanic/latino</td>\n",
       "      <td>Other</td>\n",
       "      <td>Spanish</td>\n",
       "      <td>yes</td>\n",
       "      <td>none</td>\n",
       "      <td>none</td>\n",
       "      <td>none</td>\n",
       "      <td>none listed</td>\n",
       "      <td>unemployed</td>\n",
       "      <td>Yes, unknown number of visits</td>\n",
       "      <td>O13.9</td>\n",
       "      <td>1</td>\n",
       "      <td>2 prior children</td>\n",
       "    </tr>\n",
       "    <tr>\n",
       "      <th>1</th>\n",
       "      <td>0</td>\n",
       "      <td>1</td>\n",
       "      <td>29</td>\n",
       "      <td>married</td>\n",
       "      <td>not hispanic/latino</td>\n",
       "      <td>Black/African American</td>\n",
       "      <td>Urdu</td>\n",
       "      <td>none</td>\n",
       "      <td>yes</td>\n",
       "      <td>Medicaid/Medicare</td>\n",
       "      <td>none</td>\n",
       "      <td>none listed</td>\n",
       "      <td>unemployed</td>\n",
       "      <td>Yes, unknown number of visits</td>\n",
       "      <td>E66.9</td>\n",
       "      <td>0</td>\n",
       "      <td>4 prior children</td>\n",
       "    </tr>\n",
       "    <tr>\n",
       "      <th>2</th>\n",
       "      <td>0</td>\n",
       "      <td>2</td>\n",
       "      <td>30</td>\n",
       "      <td>unmarried</td>\n",
       "      <td>hispanic/latino</td>\n",
       "      <td>Other</td>\n",
       "      <td>Spanish</td>\n",
       "      <td>yes</td>\n",
       "      <td>yes</td>\n",
       "      <td>none</td>\n",
       "      <td>none</td>\n",
       "      <td>none listed</td>\n",
       "      <td>unemployed</td>\n",
       "      <td>8</td>\n",
       "      <td>J45, E11.9, I10</td>\n",
       "      <td>0</td>\n",
       "      <td>3 prior children</td>\n",
       "    </tr>\n",
       "    <tr>\n",
       "      <th>3</th>\n",
       "      <td>0</td>\n",
       "      <td>3</td>\n",
       "      <td>19</td>\n",
       "      <td>unmarried</td>\n",
       "      <td>hispanic/latino</td>\n",
       "      <td>Other</td>\n",
       "      <td>English</td>\n",
       "      <td>none</td>\n",
       "      <td>yes</td>\n",
       "      <td>Other</td>\n",
       "      <td>none</td>\n",
       "      <td>none listed</td>\n",
       "      <td>unemployed</td>\n",
       "      <td>13</td>\n",
       "      <td>O26.613, K83.1, A74.9, O09.899, Z28.39, O99.019</td>\n",
       "      <td>0</td>\n",
       "      <td>No prior child</td>\n",
       "    </tr>\n",
       "    <tr>\n",
       "      <th>4</th>\n",
       "      <td>0</td>\n",
       "      <td>4</td>\n",
       "      <td>24</td>\n",
       "      <td>unmarried</td>\n",
       "      <td>hispanic/latino</td>\n",
       "      <td>Other</td>\n",
       "      <td>English</td>\n",
       "      <td>none</td>\n",
       "      <td>none</td>\n",
       "      <td>Medicaid/Medicare</td>\n",
       "      <td>none</td>\n",
       "      <td>none listed</td>\n",
       "      <td>unemployed</td>\n",
       "      <td>9</td>\n",
       "      <td>O23.40, Z86.50, E66.9</td>\n",
       "      <td>1</td>\n",
       "      <td>No prior child</td>\n",
       "    </tr>\n",
       "    <tr>\n",
       "      <th>...</th>\n",
       "      <td>...</td>\n",
       "      <td>...</td>\n",
       "      <td>...</td>\n",
       "      <td>...</td>\n",
       "      <td>...</td>\n",
       "      <td>...</td>\n",
       "      <td>...</td>\n",
       "      <td>...</td>\n",
       "      <td>...</td>\n",
       "      <td>...</td>\n",
       "      <td>...</td>\n",
       "      <td>...</td>\n",
       "      <td>...</td>\n",
       "      <td>...</td>\n",
       "      <td>...</td>\n",
       "      <td>...</td>\n",
       "      <td>...</td>\n",
       "    </tr>\n",
       "    <tr>\n",
       "      <th>133</th>\n",
       "      <td>1</td>\n",
       "      <td>61</td>\n",
       "      <td>36</td>\n",
       "      <td>unmarried</td>\n",
       "      <td>not hispanic/latino</td>\n",
       "      <td>Black/African American</td>\n",
       "      <td>English</td>\n",
       "      <td>none</td>\n",
       "      <td>yes</td>\n",
       "      <td>Medicaid/Medicare</td>\n",
       "      <td>none</td>\n",
       "      <td>none listed</td>\n",
       "      <td>employed</td>\n",
       "      <td>0</td>\n",
       "      <td>0</td>\n",
       "      <td>0</td>\n",
       "      <td>6 prior children</td>\n",
       "    </tr>\n",
       "    <tr>\n",
       "      <th>134</th>\n",
       "      <td>1</td>\n",
       "      <td>62</td>\n",
       "      <td>38</td>\n",
       "      <td>unmarried</td>\n",
       "      <td>not hispanic/latino</td>\n",
       "      <td>Black/African American</td>\n",
       "      <td>English</td>\n",
       "      <td>none</td>\n",
       "      <td>yes</td>\n",
       "      <td>Medicaid/Medicare</td>\n",
       "      <td>none</td>\n",
       "      <td>none listed</td>\n",
       "      <td>unemployed</td>\n",
       "      <td>7</td>\n",
       "      <td>0</td>\n",
       "      <td>1</td>\n",
       "      <td>3 prior children</td>\n",
       "    </tr>\n",
       "    <tr>\n",
       "      <th>135</th>\n",
       "      <td>1</td>\n",
       "      <td>63</td>\n",
       "      <td>33</td>\n",
       "      <td>unmarried</td>\n",
       "      <td>not hispanic/latino</td>\n",
       "      <td>Black/African American</td>\n",
       "      <td>English</td>\n",
       "      <td>none</td>\n",
       "      <td>yes</td>\n",
       "      <td>Medicaid/Medicare</td>\n",
       "      <td>none</td>\n",
       "      <td>high school graduate</td>\n",
       "      <td>employed</td>\n",
       "      <td>5</td>\n",
       "      <td>F32.A J45.909 A59.9</td>\n",
       "      <td>1</td>\n",
       "      <td>3 prior children</td>\n",
       "    </tr>\n",
       "    <tr>\n",
       "      <th>136</th>\n",
       "      <td>1</td>\n",
       "      <td>64</td>\n",
       "      <td>27</td>\n",
       "      <td>married</td>\n",
       "      <td>not hispanic/latino</td>\n",
       "      <td>Asian</td>\n",
       "      <td>Spanish</td>\n",
       "      <td>none</td>\n",
       "      <td>none</td>\n",
       "      <td>none</td>\n",
       "      <td>none</td>\n",
       "      <td>none listed</td>\n",
       "      <td>unemployed</td>\n",
       "      <td>6</td>\n",
       "      <td>H90.2</td>\n",
       "      <td>0</td>\n",
       "      <td>3 prior children</td>\n",
       "    </tr>\n",
       "    <tr>\n",
       "      <th>137</th>\n",
       "      <td>1</td>\n",
       "      <td>65</td>\n",
       "      <td>29</td>\n",
       "      <td>unmarried</td>\n",
       "      <td>not hispanic/latino</td>\n",
       "      <td>Black/African American</td>\n",
       "      <td>English</td>\n",
       "      <td>none</td>\n",
       "      <td>none</td>\n",
       "      <td>none</td>\n",
       "      <td>F14.10</td>\n",
       "      <td>none listed</td>\n",
       "      <td>unemployed</td>\n",
       "      <td>0</td>\n",
       "      <td>F259</td>\n",
       "      <td>1</td>\n",
       "      <td>No prior child</td>\n",
       "    </tr>\n",
       "  </tbody>\n",
       "</table>\n",
       "<p>138 rows × 17 columns</p>\n",
       "</div>"
      ],
      "text/plain": [
       "     OutofHospital  level_1  Age MaritalStatus            Ethnicity  \\\n",
       "0                0        0   34     unmarried      hispanic/latino   \n",
       "1                0        1   29       married  not hispanic/latino   \n",
       "2                0        2   30     unmarried      hispanic/latino   \n",
       "3                0        3   19     unmarried      hispanic/latino   \n",
       "4                0        4   24     unmarried      hispanic/latino   \n",
       "..             ...      ...  ...           ...                  ...   \n",
       "133              1       61   36     unmarried  not hispanic/latino   \n",
       "134              1       62   38     unmarried  not hispanic/latino   \n",
       "135              1       63   33     unmarried  not hispanic/latino   \n",
       "136              1       64   27       married  not hispanic/latino   \n",
       "137              1       65   29     unmarried  not hispanic/latino   \n",
       "\n",
       "                       Race PrimaryLanguage TranslationService PCPonFile  \\\n",
       "0                     Other         Spanish                yes      none   \n",
       "1    Black/African American            Urdu               none       yes   \n",
       "2                     Other         Spanish                yes       yes   \n",
       "3                     Other         English               none       yes   \n",
       "4                     Other         English               none      none   \n",
       "..                      ...             ...                ...       ...   \n",
       "133  Black/African American         English               none       yes   \n",
       "134  Black/African American         English               none       yes   \n",
       "135  Black/African American         English               none       yes   \n",
       "136                   Asian         Spanish               none      none   \n",
       "137  Black/African American         English               none      none   \n",
       "\n",
       "     InsuranceCoverage SubstanceUse             Education  Employment  \\\n",
       "0                 none         none           none listed  unemployed   \n",
       "1    Medicaid/Medicare         none           none listed  unemployed   \n",
       "2                 none         none           none listed  unemployed   \n",
       "3                Other         none           none listed  unemployed   \n",
       "4    Medicaid/Medicare         none           none listed  unemployed   \n",
       "..                 ...          ...                   ...         ...   \n",
       "133  Medicaid/Medicare         none           none listed    employed   \n",
       "134  Medicaid/Medicare         none           none listed  unemployed   \n",
       "135  Medicaid/Medicare         none  high school graduate    employed   \n",
       "136               none         none           none listed  unemployed   \n",
       "137               none       F14.10           none listed  unemployed   \n",
       "\n",
       "               PrenatalCareHistory  \\\n",
       "0    Yes, unknown number of visits   \n",
       "1    Yes, unknown number of visits   \n",
       "2                                8   \n",
       "3                               13   \n",
       "4                                9   \n",
       "..                             ...   \n",
       "133                              0   \n",
       "134                              7   \n",
       "135                              5   \n",
       "136                              6   \n",
       "137                              0   \n",
       "\n",
       "                                 MaternalPathologies  PregnancyComplications  \\\n",
       "0                                              O13.9                       1   \n",
       "1                                              E66.9                       0   \n",
       "2                                    J45, E11.9, I10                       0   \n",
       "3    O26.613, K83.1, A74.9, O09.899, Z28.39, O99.019                       0   \n",
       "4                              O23.40, Z86.50, E66.9                       1   \n",
       "..                                               ...                     ...   \n",
       "133                                                0                       0   \n",
       "134                                                0                       1   \n",
       "135                             F32.A J45.909 A59.9                        1   \n",
       "136                                            H90.2                       0   \n",
       "137                                             F259                       1   \n",
       "\n",
       "               Parity  \n",
       "0    2 prior children  \n",
       "1    4 prior children  \n",
       "2    3 prior children  \n",
       "3      No prior child  \n",
       "4      No prior child  \n",
       "..                ...  \n",
       "133  6 prior children  \n",
       "134  3 prior children  \n",
       "135  3 prior children  \n",
       "136  3 prior children  \n",
       "137    No prior child  \n",
       "\n",
       "[138 rows x 17 columns]"
      ]
     },
     "execution_count": 4,
     "metadata": {},
     "output_type": "execute_result"
    }
   ],
   "source": [
    "df"
   ]
  },
  {
   "attachments": {},
   "cell_type": "markdown",
   "metadata": {},
   "source": [
    "## Chi-Square Test of Independence\n",
    "\n",
    "This test is used to determine if there is a significant association between two categorical variables. In our case, we can create a Rx2 contingency table where one axis represents the location of birth (in hospital or out of hospital) and the other axis represents whether there was a birth complication (yes or no). Then, we can apply the Chi-Square Test to determine if the occurrence of birth complications is independent of the location of birth."
   ]
  },
  {
   "cell_type": "code",
   "execution_count": 5,
   "metadata": {},
   "outputs": [
    {
     "name": "stdout",
     "output_type": "stream",
     "text": [
      "Variable                  Chi-Square Value     P-Value              Degrees of Freedom  \n",
      "Race                      23.775378787878786   0.0002397868866226024 5                   \n",
      "Age                       29.67097681359045    0.32913837848747485  27                  \n",
      "PrimaryLanguage           21.2409516346847     0.011622476813629868 9                   \n",
      "Ethnicity                 16.046235992025856   6.181438337887989e-05 1                   \n",
      "Education                 3.341938364665638    0.5023150401311642   4                   \n",
      "Employment                1.3853856749311297   0.5002272231619186   2                   \n",
      "PregnancyComplications    0.06609748803827747  0.7971059642091333   1                   \n",
      "Parity                    4.21471394984326     0.7547411063634557   7                   \n"
     ]
    }
   ],
   "source": [
    "import pandas as pd\n",
    "from scipy.stats import chi2_contingency, fisher_exact\n",
    "\n",
    "# List of variables to check for association with 'OutofHospital'\n",
    "variables = [\"Race\", \"Age\", \"PrimaryLanguage\", \"Ethnicity\", \"Education\", \"Employment\", \"PregnancyComplications\", \"Parity\"]\n",
    "\n",
    "# Loop through each variable and perform the Chi-Square Test\n",
    "results = {}\n",
    "for variable in variables:\n",
    "    # Create a contingency table\n",
    "    contingency_table = pd.crosstab(df['OutofHospital'], df[variable])\n",
    "    \n",
    "    # Perform the Chi-Square Test of Independence\n",
    "    chi2, p, dof, expected = chi2_contingency(contingency_table)\n",
    "    \n",
    "    # Store the results\n",
    "    results[variable] = {'Chi-Square Value': chi2, 'P-Value': p, 'Degrees of Freedom': dof, 'Expected Frequencies Table': expected}\n",
    "\n",
    "# Output the results in a beautiful way\n",
    "print(\"{:<25} {:<20} {:<20} {:<20}\".format(\"Variable\", \"Chi-Square Value\", \"P-Value\", \"Degrees of Freedom\"))\n",
    "for variable, result in results.items():\n",
    "    print(\"{:<25} {:<20} {:<20} {:<20}\".format(variable, result['Chi-Square Value'], result['P-Value'], result['Degrees of Freedom']))\n"
   ]
  },
  {
   "attachments": {},
   "cell_type": "markdown",
   "metadata": {},
   "source": [
    "### Interpretation:\n",
    "\n",
    "* Chi-Square Value: A larger value indicates a greater difference between the observed counts and what would be expected if the variables were independent.\n",
    "\n",
    "* P-Value: Tells you whether or not the association is statistically significant. Typically, if the p-value is less than 0.05, we might conclude that there is a significant association between the variables.\n",
    "\n",
    "* Degrees of Freedom: This is equal to (number of rows - 1) x (number of columns - 1) in the contingency table. It helps in determining the critical value for the chi-square distribution.\n",
    "\n",
    "For interpretation, we would usually focus on the P-Value. If it's below a significance level (commonly 0.05), it suggests that the observed distribution is significantly different from what you'd expect if the variables were independent, indicating an association.\n",
    "\n",
    "For the variable `Race`, `Ethnicity` and `PrimaryLanguage`, the very low p-value indicates that there is a statistically significant association between race and whether the birth occurred in or out of the hospital. This suggests that race and the language might play a role in the choice or circumstances of the birth location.\n",
    "\n",
    "For the variable `PregnancyComplications`, the p-value is much greater than 0.05, suggesting that there is no statistically significant association between pregnancy complications and birth location. Pregnancy complications do not appear to be a determining factor in whether a birth occurs in or out of the hospital.\n"
   ]
  },
  {
   "cell_type": "code",
   "execution_count": 6,
   "metadata": {},
   "outputs": [
    {
     "data": {
      "application/vnd.plotly.v1+json": {
       "config": {
        "plotlyServerURL": "https://plot.ly"
       },
       "data": [
        {
         "alignmentgroup": "True",
         "bingroup": "x",
         "hovertemplate": "Out of Hospital=0<br>Primary Language=%{x}<br>count=%{y}<extra></extra>",
         "legendgroup": "0",
         "marker": {
          "color": "#636efa",
          "pattern": {
           "shape": ""
          }
         },
         "name": "0",
         "nbinsx": 10,
         "offsetgroup": "0",
         "orientation": "v",
         "showlegend": true,
         "type": "histogram",
         "x": [
          "Spanish",
          "Urdu",
          "Spanish",
          "English",
          "English",
          "Spanish",
          "English",
          "English",
          "Spanish",
          "Spanish",
          "English",
          "Spanish",
          "English",
          "English",
          "English",
          "English",
          "Spanish",
          "English",
          "Spanish",
          "Portugese",
          "Spanish",
          "English",
          "English",
          "Bengali",
          "Spanish",
          "Spanish",
          "English",
          "English",
          "Spanish",
          "English",
          "Spanish",
          "Spanish",
          "English",
          "English",
          "Spanish",
          "Spanish",
          "English",
          "Spanish",
          "Spanish",
          "Spanish",
          "Portugese",
          "Spanish",
          "English",
          "Haitian Creole",
          "Spanish",
          "French Creole",
          "Haitian Creole",
          "English",
          "English",
          "Spanish",
          "French",
          "English",
          "English",
          "Spanish",
          "English",
          "Spanish",
          "English",
          "Spanish",
          "English",
          "English",
          "Portuguese",
          "Spanish",
          "English",
          "English",
          "Spanish",
          "English",
          "Portuguese",
          "Spanish",
          "Spanish",
          "Portuguese",
          "English",
          "Spanish"
         ],
         "xaxis": "x",
         "yaxis": "y"
        },
        {
         "alignmentgroup": "True",
         "bingroup": "x",
         "hovertemplate": "Out of Hospital=1<br>Primary Language=%{x}<br>count=%{y}<extra></extra>",
         "legendgroup": "1",
         "marker": {
          "color": "#EF553B",
          "pattern": {
           "shape": ""
          }
         },
         "name": "1",
         "nbinsx": 10,
         "offsetgroup": "1",
         "orientation": "v",
         "showlegend": true,
         "type": "histogram",
         "x": [
          "English",
          "Spanish",
          "English",
          "English",
          "English",
          "English",
          "English",
          "English",
          "Haitian Creole",
          "English",
          "Spanish",
          "English",
          "English",
          "Spanish",
          "English",
          "English",
          "English",
          "English",
          "Spanish",
          "English",
          "Haitian Creole",
          "English",
          "English",
          "English",
          "English",
          "English",
          "English",
          "English",
          "English",
          "English",
          "English",
          "English",
          "English",
          "English",
          "English",
          "English",
          "Spanish",
          "English",
          "English",
          "English",
          "English",
          "Spanish",
          "English",
          "Spanish",
          "English",
          "English",
          "Spanish",
          "English",
          "English",
          "English",
          "English",
          "Spanish",
          "English",
          "English",
          "English",
          "Spanish",
          "Arabic",
          "Portuguese",
          "Haitian Creole",
          "English",
          "English",
          "English",
          "English",
          "English",
          "Spanish",
          "English"
         ],
         "xaxis": "x",
         "yaxis": "y"
        }
       ],
       "layout": {
        "barmode": "group",
        "legend": {
         "title": {
          "text": "Out of Hospital"
         },
         "tracegroupgap": 0
        },
        "template": {
         "data": {
          "bar": [
           {
            "error_x": {
             "color": "#2a3f5f"
            },
            "error_y": {
             "color": "#2a3f5f"
            },
            "marker": {
             "line": {
              "color": "#E5ECF6",
              "width": 0.5
             },
             "pattern": {
              "fillmode": "overlay",
              "size": 10,
              "solidity": 0.2
             }
            },
            "type": "bar"
           }
          ],
          "barpolar": [
           {
            "marker": {
             "line": {
              "color": "#E5ECF6",
              "width": 0.5
             },
             "pattern": {
              "fillmode": "overlay",
              "size": 10,
              "solidity": 0.2
             }
            },
            "type": "barpolar"
           }
          ],
          "carpet": [
           {
            "aaxis": {
             "endlinecolor": "#2a3f5f",
             "gridcolor": "white",
             "linecolor": "white",
             "minorgridcolor": "white",
             "startlinecolor": "#2a3f5f"
            },
            "baxis": {
             "endlinecolor": "#2a3f5f",
             "gridcolor": "white",
             "linecolor": "white",
             "minorgridcolor": "white",
             "startlinecolor": "#2a3f5f"
            },
            "type": "carpet"
           }
          ],
          "choropleth": [
           {
            "colorbar": {
             "outlinewidth": 0,
             "ticks": ""
            },
            "type": "choropleth"
           }
          ],
          "contour": [
           {
            "colorbar": {
             "outlinewidth": 0,
             "ticks": ""
            },
            "colorscale": [
             [
              0,
              "#0d0887"
             ],
             [
              0.1111111111111111,
              "#46039f"
             ],
             [
              0.2222222222222222,
              "#7201a8"
             ],
             [
              0.3333333333333333,
              "#9c179e"
             ],
             [
              0.4444444444444444,
              "#bd3786"
             ],
             [
              0.5555555555555556,
              "#d8576b"
             ],
             [
              0.6666666666666666,
              "#ed7953"
             ],
             [
              0.7777777777777778,
              "#fb9f3a"
             ],
             [
              0.8888888888888888,
              "#fdca26"
             ],
             [
              1,
              "#f0f921"
             ]
            ],
            "type": "contour"
           }
          ],
          "contourcarpet": [
           {
            "colorbar": {
             "outlinewidth": 0,
             "ticks": ""
            },
            "type": "contourcarpet"
           }
          ],
          "heatmap": [
           {
            "colorbar": {
             "outlinewidth": 0,
             "ticks": ""
            },
            "colorscale": [
             [
              0,
              "#0d0887"
             ],
             [
              0.1111111111111111,
              "#46039f"
             ],
             [
              0.2222222222222222,
              "#7201a8"
             ],
             [
              0.3333333333333333,
              "#9c179e"
             ],
             [
              0.4444444444444444,
              "#bd3786"
             ],
             [
              0.5555555555555556,
              "#d8576b"
             ],
             [
              0.6666666666666666,
              "#ed7953"
             ],
             [
              0.7777777777777778,
              "#fb9f3a"
             ],
             [
              0.8888888888888888,
              "#fdca26"
             ],
             [
              1,
              "#f0f921"
             ]
            ],
            "type": "heatmap"
           }
          ],
          "heatmapgl": [
           {
            "colorbar": {
             "outlinewidth": 0,
             "ticks": ""
            },
            "colorscale": [
             [
              0,
              "#0d0887"
             ],
             [
              0.1111111111111111,
              "#46039f"
             ],
             [
              0.2222222222222222,
              "#7201a8"
             ],
             [
              0.3333333333333333,
              "#9c179e"
             ],
             [
              0.4444444444444444,
              "#bd3786"
             ],
             [
              0.5555555555555556,
              "#d8576b"
             ],
             [
              0.6666666666666666,
              "#ed7953"
             ],
             [
              0.7777777777777778,
              "#fb9f3a"
             ],
             [
              0.8888888888888888,
              "#fdca26"
             ],
             [
              1,
              "#f0f921"
             ]
            ],
            "type": "heatmapgl"
           }
          ],
          "histogram": [
           {
            "marker": {
             "pattern": {
              "fillmode": "overlay",
              "size": 10,
              "solidity": 0.2
             }
            },
            "type": "histogram"
           }
          ],
          "histogram2d": [
           {
            "colorbar": {
             "outlinewidth": 0,
             "ticks": ""
            },
            "colorscale": [
             [
              0,
              "#0d0887"
             ],
             [
              0.1111111111111111,
              "#46039f"
             ],
             [
              0.2222222222222222,
              "#7201a8"
             ],
             [
              0.3333333333333333,
              "#9c179e"
             ],
             [
              0.4444444444444444,
              "#bd3786"
             ],
             [
              0.5555555555555556,
              "#d8576b"
             ],
             [
              0.6666666666666666,
              "#ed7953"
             ],
             [
              0.7777777777777778,
              "#fb9f3a"
             ],
             [
              0.8888888888888888,
              "#fdca26"
             ],
             [
              1,
              "#f0f921"
             ]
            ],
            "type": "histogram2d"
           }
          ],
          "histogram2dcontour": [
           {
            "colorbar": {
             "outlinewidth": 0,
             "ticks": ""
            },
            "colorscale": [
             [
              0,
              "#0d0887"
             ],
             [
              0.1111111111111111,
              "#46039f"
             ],
             [
              0.2222222222222222,
              "#7201a8"
             ],
             [
              0.3333333333333333,
              "#9c179e"
             ],
             [
              0.4444444444444444,
              "#bd3786"
             ],
             [
              0.5555555555555556,
              "#d8576b"
             ],
             [
              0.6666666666666666,
              "#ed7953"
             ],
             [
              0.7777777777777778,
              "#fb9f3a"
             ],
             [
              0.8888888888888888,
              "#fdca26"
             ],
             [
              1,
              "#f0f921"
             ]
            ],
            "type": "histogram2dcontour"
           }
          ],
          "mesh3d": [
           {
            "colorbar": {
             "outlinewidth": 0,
             "ticks": ""
            },
            "type": "mesh3d"
           }
          ],
          "parcoords": [
           {
            "line": {
             "colorbar": {
              "outlinewidth": 0,
              "ticks": ""
             }
            },
            "type": "parcoords"
           }
          ],
          "pie": [
           {
            "automargin": true,
            "type": "pie"
           }
          ],
          "scatter": [
           {
            "fillpattern": {
             "fillmode": "overlay",
             "size": 10,
             "solidity": 0.2
            },
            "type": "scatter"
           }
          ],
          "scatter3d": [
           {
            "line": {
             "colorbar": {
              "outlinewidth": 0,
              "ticks": ""
             }
            },
            "marker": {
             "colorbar": {
              "outlinewidth": 0,
              "ticks": ""
             }
            },
            "type": "scatter3d"
           }
          ],
          "scattercarpet": [
           {
            "marker": {
             "colorbar": {
              "outlinewidth": 0,
              "ticks": ""
             }
            },
            "type": "scattercarpet"
           }
          ],
          "scattergeo": [
           {
            "marker": {
             "colorbar": {
              "outlinewidth": 0,
              "ticks": ""
             }
            },
            "type": "scattergeo"
           }
          ],
          "scattergl": [
           {
            "marker": {
             "colorbar": {
              "outlinewidth": 0,
              "ticks": ""
             }
            },
            "type": "scattergl"
           }
          ],
          "scattermapbox": [
           {
            "marker": {
             "colorbar": {
              "outlinewidth": 0,
              "ticks": ""
             }
            },
            "type": "scattermapbox"
           }
          ],
          "scatterpolar": [
           {
            "marker": {
             "colorbar": {
              "outlinewidth": 0,
              "ticks": ""
             }
            },
            "type": "scatterpolar"
           }
          ],
          "scatterpolargl": [
           {
            "marker": {
             "colorbar": {
              "outlinewidth": 0,
              "ticks": ""
             }
            },
            "type": "scatterpolargl"
           }
          ],
          "scatterternary": [
           {
            "marker": {
             "colorbar": {
              "outlinewidth": 0,
              "ticks": ""
             }
            },
            "type": "scatterternary"
           }
          ],
          "surface": [
           {
            "colorbar": {
             "outlinewidth": 0,
             "ticks": ""
            },
            "colorscale": [
             [
              0,
              "#0d0887"
             ],
             [
              0.1111111111111111,
              "#46039f"
             ],
             [
              0.2222222222222222,
              "#7201a8"
             ],
             [
              0.3333333333333333,
              "#9c179e"
             ],
             [
              0.4444444444444444,
              "#bd3786"
             ],
             [
              0.5555555555555556,
              "#d8576b"
             ],
             [
              0.6666666666666666,
              "#ed7953"
             ],
             [
              0.7777777777777778,
              "#fb9f3a"
             ],
             [
              0.8888888888888888,
              "#fdca26"
             ],
             [
              1,
              "#f0f921"
             ]
            ],
            "type": "surface"
           }
          ],
          "table": [
           {
            "cells": {
             "fill": {
              "color": "#EBF0F8"
             },
             "line": {
              "color": "white"
             }
            },
            "header": {
             "fill": {
              "color": "#C8D4E3"
             },
             "line": {
              "color": "white"
             }
            },
            "type": "table"
           }
          ]
         },
         "layout": {
          "annotationdefaults": {
           "arrowcolor": "#2a3f5f",
           "arrowhead": 0,
           "arrowwidth": 1
          },
          "autotypenumbers": "strict",
          "coloraxis": {
           "colorbar": {
            "outlinewidth": 0,
            "ticks": ""
           }
          },
          "colorscale": {
           "diverging": [
            [
             0,
             "#8e0152"
            ],
            [
             0.1,
             "#c51b7d"
            ],
            [
             0.2,
             "#de77ae"
            ],
            [
             0.3,
             "#f1b6da"
            ],
            [
             0.4,
             "#fde0ef"
            ],
            [
             0.5,
             "#f7f7f7"
            ],
            [
             0.6,
             "#e6f5d0"
            ],
            [
             0.7,
             "#b8e186"
            ],
            [
             0.8,
             "#7fbc41"
            ],
            [
             0.9,
             "#4d9221"
            ],
            [
             1,
             "#276419"
            ]
           ],
           "sequential": [
            [
             0,
             "#0d0887"
            ],
            [
             0.1111111111111111,
             "#46039f"
            ],
            [
             0.2222222222222222,
             "#7201a8"
            ],
            [
             0.3333333333333333,
             "#9c179e"
            ],
            [
             0.4444444444444444,
             "#bd3786"
            ],
            [
             0.5555555555555556,
             "#d8576b"
            ],
            [
             0.6666666666666666,
             "#ed7953"
            ],
            [
             0.7777777777777778,
             "#fb9f3a"
            ],
            [
             0.8888888888888888,
             "#fdca26"
            ],
            [
             1,
             "#f0f921"
            ]
           ],
           "sequentialminus": [
            [
             0,
             "#0d0887"
            ],
            [
             0.1111111111111111,
             "#46039f"
            ],
            [
             0.2222222222222222,
             "#7201a8"
            ],
            [
             0.3333333333333333,
             "#9c179e"
            ],
            [
             0.4444444444444444,
             "#bd3786"
            ],
            [
             0.5555555555555556,
             "#d8576b"
            ],
            [
             0.6666666666666666,
             "#ed7953"
            ],
            [
             0.7777777777777778,
             "#fb9f3a"
            ],
            [
             0.8888888888888888,
             "#fdca26"
            ],
            [
             1,
             "#f0f921"
            ]
           ]
          },
          "colorway": [
           "#636efa",
           "#EF553B",
           "#00cc96",
           "#ab63fa",
           "#FFA15A",
           "#19d3f3",
           "#FF6692",
           "#B6E880",
           "#FF97FF",
           "#FECB52"
          ],
          "font": {
           "color": "#2a3f5f"
          },
          "geo": {
           "bgcolor": "white",
           "lakecolor": "white",
           "landcolor": "#E5ECF6",
           "showlakes": true,
           "showland": true,
           "subunitcolor": "white"
          },
          "hoverlabel": {
           "align": "left"
          },
          "hovermode": "closest",
          "mapbox": {
           "style": "light"
          },
          "paper_bgcolor": "white",
          "plot_bgcolor": "#E5ECF6",
          "polar": {
           "angularaxis": {
            "gridcolor": "white",
            "linecolor": "white",
            "ticks": ""
           },
           "bgcolor": "#E5ECF6",
           "radialaxis": {
            "gridcolor": "white",
            "linecolor": "white",
            "ticks": ""
           }
          },
          "scene": {
           "xaxis": {
            "backgroundcolor": "#E5ECF6",
            "gridcolor": "white",
            "gridwidth": 2,
            "linecolor": "white",
            "showbackground": true,
            "ticks": "",
            "zerolinecolor": "white"
           },
           "yaxis": {
            "backgroundcolor": "#E5ECF6",
            "gridcolor": "white",
            "gridwidth": 2,
            "linecolor": "white",
            "showbackground": true,
            "ticks": "",
            "zerolinecolor": "white"
           },
           "zaxis": {
            "backgroundcolor": "#E5ECF6",
            "gridcolor": "white",
            "gridwidth": 2,
            "linecolor": "white",
            "showbackground": true,
            "ticks": "",
            "zerolinecolor": "white"
           }
          },
          "shapedefaults": {
           "line": {
            "color": "#2a3f5f"
           }
          },
          "ternary": {
           "aaxis": {
            "gridcolor": "white",
            "linecolor": "white",
            "ticks": ""
           },
           "baxis": {
            "gridcolor": "white",
            "linecolor": "white",
            "ticks": ""
           },
           "bgcolor": "#E5ECF6",
           "caxis": {
            "gridcolor": "white",
            "linecolor": "white",
            "ticks": ""
           }
          },
          "title": {
           "x": 0.05
          },
          "xaxis": {
           "automargin": true,
           "gridcolor": "white",
           "linecolor": "white",
           "ticks": "",
           "title": {
            "standoff": 15
           },
           "zerolinecolor": "white",
           "zerolinewidth": 2
          },
          "yaxis": {
           "automargin": true,
           "gridcolor": "white",
           "linecolor": "white",
           "ticks": "",
           "title": {
            "standoff": 15
           },
           "zerolinecolor": "white",
           "zerolinewidth": 2
          }
         }
        },
        "title": {
         "text": "Number of Births In and Out of Hospital by Primary Language"
        },
        "xaxis": {
         "anchor": "y",
         "domain": [
          0,
          1
         ],
         "title": {
          "text": "Primary Language"
         }
        },
        "yaxis": {
         "anchor": "x",
         "domain": [
          0,
          1
         ],
         "title": {
          "text": "count"
         }
        }
       }
      }
     },
     "metadata": {},
     "output_type": "display_data"
    },
    {
     "data": {
      "application/vnd.plotly.v1+json": {
       "config": {
        "plotlyServerURL": "https://plot.ly"
       },
       "data": [
        {
         "alignmentgroup": "True",
         "bingroup": "x",
         "hovertemplate": "Out of Hospital=0<br>Ethnicity=%{x}<br>count=%{y}<extra></extra>",
         "legendgroup": "0",
         "marker": {
          "color": "#636efa",
          "pattern": {
           "shape": ""
          }
         },
         "name": "0",
         "nbinsx": 2,
         "offsetgroup": "0",
         "orientation": "v",
         "showlegend": true,
         "type": "histogram",
         "x": [
          "hispanic/latino",
          "not hispanic/latino",
          "hispanic/latino",
          "hispanic/latino",
          "hispanic/latino",
          "hispanic/latino",
          "not hispanic/latino",
          "not hispanic/latino",
          "hispanic/latino",
          "hispanic/latino",
          "not hispanic/latino",
          "hispanic/latino",
          "hispanic/latino",
          "not hispanic/latino",
          "hispanic/latino",
          "not hispanic/latino",
          "hispanic/latino",
          "not hispanic/latino",
          "hispanic/latino",
          "not hispanic/latino",
          "hispanic/latino",
          "not hispanic/latino",
          "not hispanic/latino",
          "not hispanic/latino",
          "hispanic/latino",
          "hispanic/latino",
          "hispanic/latino",
          "not hispanic/latino",
          "hispanic/latino",
          "not hispanic/latino",
          "hispanic/latino",
          "hispanic/latino",
          "hispanic/latino",
          "not hispanic/latino",
          "hispanic/latino",
          "hispanic/latino",
          "not hispanic/latino",
          "hispanic/latino",
          "not hispanic/latino",
          "hispanic/latino",
          "hispanic/latino",
          "hispanic/latino",
          "hispanic/latino",
          "not hispanic/latino",
          "hispanic/latino",
          "not hispanic/latino",
          "not hispanic/latino",
          "hispanic/latino",
          "not hispanic/latino",
          "hispanic/latino",
          "not hispanic/latino",
          "hispanic/latino",
          "not hispanic/latino",
          "hispanic/latino",
          "not hispanic/latino",
          "hispanic/latino",
          "not hispanic/latino",
          "hispanic/latino",
          "not hispanic/latino",
          "not hispanic/latino",
          "hispanic/latino",
          "hispanic/latino",
          "not hispanic/latino",
          "hispanic/latino",
          "hispanic/latino",
          "hispanic/latino",
          "hispanic/latino",
          "hispanic/latino",
          "hispanic/latino",
          "hispanic/latino",
          "not hispanic/latino",
          "hispanic/latino"
         ],
         "xaxis": "x",
         "yaxis": "y"
        },
        {
         "alignmentgroup": "True",
         "bingroup": "x",
         "hovertemplate": "Out of Hospital=1<br>Ethnicity=%{x}<br>count=%{y}<extra></extra>",
         "legendgroup": "1",
         "marker": {
          "color": "#EF553B",
          "pattern": {
           "shape": ""
          }
         },
         "name": "1",
         "nbinsx": 2,
         "offsetgroup": "1",
         "orientation": "v",
         "showlegend": true,
         "type": "histogram",
         "x": [
          "not hispanic/latino",
          "hispanic/latino",
          "not hispanic/latino",
          "not hispanic/latino",
          "not hispanic/latino",
          "not hispanic/latino",
          "not hispanic/latino",
          "not hispanic/latino",
          "not hispanic/latino",
          "hispanic/latino",
          "hispanic/latino",
          "hispanic/latino",
          "not hispanic/latino",
          "hispanic/latino",
          "not hispanic/latino",
          "hispanic/latino",
          "not hispanic/latino",
          "not hispanic/latino",
          "hispanic/latino",
          "not hispanic/latino",
          "not hispanic/latino",
          "not hispanic/latino",
          "not hispanic/latino",
          "not hispanic/latino",
          "not hispanic/latino",
          "not hispanic/latino",
          "not hispanic/latino",
          "hispanic/latino",
          "not hispanic/latino",
          "not hispanic/latino",
          "not hispanic/latino",
          "not hispanic/latino",
          "not hispanic/latino",
          "not hispanic/latino",
          "not hispanic/latino",
          "not hispanic/latino",
          "hispanic/latino",
          "hispanic/latino",
          "not hispanic/latino",
          "not hispanic/latino",
          "not hispanic/latino",
          "hispanic/latino",
          "not hispanic/latino",
          "hispanic/latino",
          "not hispanic/latino",
          "not hispanic/latino",
          "hispanic/latino",
          "not hispanic/latino",
          "not hispanic/latino",
          "not hispanic/latino",
          "not hispanic/latino",
          "hispanic/latino",
          "not hispanic/latino",
          "hispanic/latino",
          "not hispanic/latino",
          "hispanic/latino",
          "not hispanic/latino",
          "hispanic/latino",
          "not hispanic/latino",
          "not hispanic/latino",
          "not hispanic/latino",
          "not hispanic/latino",
          "not hispanic/latino",
          "not hispanic/latino",
          "not hispanic/latino",
          "not hispanic/latino"
         ],
         "xaxis": "x",
         "yaxis": "y"
        }
       ],
       "layout": {
        "barmode": "group",
        "legend": {
         "title": {
          "text": "Out of Hospital"
         },
         "tracegroupgap": 0
        },
        "template": {
         "data": {
          "bar": [
           {
            "error_x": {
             "color": "#2a3f5f"
            },
            "error_y": {
             "color": "#2a3f5f"
            },
            "marker": {
             "line": {
              "color": "#E5ECF6",
              "width": 0.5
             },
             "pattern": {
              "fillmode": "overlay",
              "size": 10,
              "solidity": 0.2
             }
            },
            "type": "bar"
           }
          ],
          "barpolar": [
           {
            "marker": {
             "line": {
              "color": "#E5ECF6",
              "width": 0.5
             },
             "pattern": {
              "fillmode": "overlay",
              "size": 10,
              "solidity": 0.2
             }
            },
            "type": "barpolar"
           }
          ],
          "carpet": [
           {
            "aaxis": {
             "endlinecolor": "#2a3f5f",
             "gridcolor": "white",
             "linecolor": "white",
             "minorgridcolor": "white",
             "startlinecolor": "#2a3f5f"
            },
            "baxis": {
             "endlinecolor": "#2a3f5f",
             "gridcolor": "white",
             "linecolor": "white",
             "minorgridcolor": "white",
             "startlinecolor": "#2a3f5f"
            },
            "type": "carpet"
           }
          ],
          "choropleth": [
           {
            "colorbar": {
             "outlinewidth": 0,
             "ticks": ""
            },
            "type": "choropleth"
           }
          ],
          "contour": [
           {
            "colorbar": {
             "outlinewidth": 0,
             "ticks": ""
            },
            "colorscale": [
             [
              0,
              "#0d0887"
             ],
             [
              0.1111111111111111,
              "#46039f"
             ],
             [
              0.2222222222222222,
              "#7201a8"
             ],
             [
              0.3333333333333333,
              "#9c179e"
             ],
             [
              0.4444444444444444,
              "#bd3786"
             ],
             [
              0.5555555555555556,
              "#d8576b"
             ],
             [
              0.6666666666666666,
              "#ed7953"
             ],
             [
              0.7777777777777778,
              "#fb9f3a"
             ],
             [
              0.8888888888888888,
              "#fdca26"
             ],
             [
              1,
              "#f0f921"
             ]
            ],
            "type": "contour"
           }
          ],
          "contourcarpet": [
           {
            "colorbar": {
             "outlinewidth": 0,
             "ticks": ""
            },
            "type": "contourcarpet"
           }
          ],
          "heatmap": [
           {
            "colorbar": {
             "outlinewidth": 0,
             "ticks": ""
            },
            "colorscale": [
             [
              0,
              "#0d0887"
             ],
             [
              0.1111111111111111,
              "#46039f"
             ],
             [
              0.2222222222222222,
              "#7201a8"
             ],
             [
              0.3333333333333333,
              "#9c179e"
             ],
             [
              0.4444444444444444,
              "#bd3786"
             ],
             [
              0.5555555555555556,
              "#d8576b"
             ],
             [
              0.6666666666666666,
              "#ed7953"
             ],
             [
              0.7777777777777778,
              "#fb9f3a"
             ],
             [
              0.8888888888888888,
              "#fdca26"
             ],
             [
              1,
              "#f0f921"
             ]
            ],
            "type": "heatmap"
           }
          ],
          "heatmapgl": [
           {
            "colorbar": {
             "outlinewidth": 0,
             "ticks": ""
            },
            "colorscale": [
             [
              0,
              "#0d0887"
             ],
             [
              0.1111111111111111,
              "#46039f"
             ],
             [
              0.2222222222222222,
              "#7201a8"
             ],
             [
              0.3333333333333333,
              "#9c179e"
             ],
             [
              0.4444444444444444,
              "#bd3786"
             ],
             [
              0.5555555555555556,
              "#d8576b"
             ],
             [
              0.6666666666666666,
              "#ed7953"
             ],
             [
              0.7777777777777778,
              "#fb9f3a"
             ],
             [
              0.8888888888888888,
              "#fdca26"
             ],
             [
              1,
              "#f0f921"
             ]
            ],
            "type": "heatmapgl"
           }
          ],
          "histogram": [
           {
            "marker": {
             "pattern": {
              "fillmode": "overlay",
              "size": 10,
              "solidity": 0.2
             }
            },
            "type": "histogram"
           }
          ],
          "histogram2d": [
           {
            "colorbar": {
             "outlinewidth": 0,
             "ticks": ""
            },
            "colorscale": [
             [
              0,
              "#0d0887"
             ],
             [
              0.1111111111111111,
              "#46039f"
             ],
             [
              0.2222222222222222,
              "#7201a8"
             ],
             [
              0.3333333333333333,
              "#9c179e"
             ],
             [
              0.4444444444444444,
              "#bd3786"
             ],
             [
              0.5555555555555556,
              "#d8576b"
             ],
             [
              0.6666666666666666,
              "#ed7953"
             ],
             [
              0.7777777777777778,
              "#fb9f3a"
             ],
             [
              0.8888888888888888,
              "#fdca26"
             ],
             [
              1,
              "#f0f921"
             ]
            ],
            "type": "histogram2d"
           }
          ],
          "histogram2dcontour": [
           {
            "colorbar": {
             "outlinewidth": 0,
             "ticks": ""
            },
            "colorscale": [
             [
              0,
              "#0d0887"
             ],
             [
              0.1111111111111111,
              "#46039f"
             ],
             [
              0.2222222222222222,
              "#7201a8"
             ],
             [
              0.3333333333333333,
              "#9c179e"
             ],
             [
              0.4444444444444444,
              "#bd3786"
             ],
             [
              0.5555555555555556,
              "#d8576b"
             ],
             [
              0.6666666666666666,
              "#ed7953"
             ],
             [
              0.7777777777777778,
              "#fb9f3a"
             ],
             [
              0.8888888888888888,
              "#fdca26"
             ],
             [
              1,
              "#f0f921"
             ]
            ],
            "type": "histogram2dcontour"
           }
          ],
          "mesh3d": [
           {
            "colorbar": {
             "outlinewidth": 0,
             "ticks": ""
            },
            "type": "mesh3d"
           }
          ],
          "parcoords": [
           {
            "line": {
             "colorbar": {
              "outlinewidth": 0,
              "ticks": ""
             }
            },
            "type": "parcoords"
           }
          ],
          "pie": [
           {
            "automargin": true,
            "type": "pie"
           }
          ],
          "scatter": [
           {
            "fillpattern": {
             "fillmode": "overlay",
             "size": 10,
             "solidity": 0.2
            },
            "type": "scatter"
           }
          ],
          "scatter3d": [
           {
            "line": {
             "colorbar": {
              "outlinewidth": 0,
              "ticks": ""
             }
            },
            "marker": {
             "colorbar": {
              "outlinewidth": 0,
              "ticks": ""
             }
            },
            "type": "scatter3d"
           }
          ],
          "scattercarpet": [
           {
            "marker": {
             "colorbar": {
              "outlinewidth": 0,
              "ticks": ""
             }
            },
            "type": "scattercarpet"
           }
          ],
          "scattergeo": [
           {
            "marker": {
             "colorbar": {
              "outlinewidth": 0,
              "ticks": ""
             }
            },
            "type": "scattergeo"
           }
          ],
          "scattergl": [
           {
            "marker": {
             "colorbar": {
              "outlinewidth": 0,
              "ticks": ""
             }
            },
            "type": "scattergl"
           }
          ],
          "scattermapbox": [
           {
            "marker": {
             "colorbar": {
              "outlinewidth": 0,
              "ticks": ""
             }
            },
            "type": "scattermapbox"
           }
          ],
          "scatterpolar": [
           {
            "marker": {
             "colorbar": {
              "outlinewidth": 0,
              "ticks": ""
             }
            },
            "type": "scatterpolar"
           }
          ],
          "scatterpolargl": [
           {
            "marker": {
             "colorbar": {
              "outlinewidth": 0,
              "ticks": ""
             }
            },
            "type": "scatterpolargl"
           }
          ],
          "scatterternary": [
           {
            "marker": {
             "colorbar": {
              "outlinewidth": 0,
              "ticks": ""
             }
            },
            "type": "scatterternary"
           }
          ],
          "surface": [
           {
            "colorbar": {
             "outlinewidth": 0,
             "ticks": ""
            },
            "colorscale": [
             [
              0,
              "#0d0887"
             ],
             [
              0.1111111111111111,
              "#46039f"
             ],
             [
              0.2222222222222222,
              "#7201a8"
             ],
             [
              0.3333333333333333,
              "#9c179e"
             ],
             [
              0.4444444444444444,
              "#bd3786"
             ],
             [
              0.5555555555555556,
              "#d8576b"
             ],
             [
              0.6666666666666666,
              "#ed7953"
             ],
             [
              0.7777777777777778,
              "#fb9f3a"
             ],
             [
              0.8888888888888888,
              "#fdca26"
             ],
             [
              1,
              "#f0f921"
             ]
            ],
            "type": "surface"
           }
          ],
          "table": [
           {
            "cells": {
             "fill": {
              "color": "#EBF0F8"
             },
             "line": {
              "color": "white"
             }
            },
            "header": {
             "fill": {
              "color": "#C8D4E3"
             },
             "line": {
              "color": "white"
             }
            },
            "type": "table"
           }
          ]
         },
         "layout": {
          "annotationdefaults": {
           "arrowcolor": "#2a3f5f",
           "arrowhead": 0,
           "arrowwidth": 1
          },
          "autotypenumbers": "strict",
          "coloraxis": {
           "colorbar": {
            "outlinewidth": 0,
            "ticks": ""
           }
          },
          "colorscale": {
           "diverging": [
            [
             0,
             "#8e0152"
            ],
            [
             0.1,
             "#c51b7d"
            ],
            [
             0.2,
             "#de77ae"
            ],
            [
             0.3,
             "#f1b6da"
            ],
            [
             0.4,
             "#fde0ef"
            ],
            [
             0.5,
             "#f7f7f7"
            ],
            [
             0.6,
             "#e6f5d0"
            ],
            [
             0.7,
             "#b8e186"
            ],
            [
             0.8,
             "#7fbc41"
            ],
            [
             0.9,
             "#4d9221"
            ],
            [
             1,
             "#276419"
            ]
           ],
           "sequential": [
            [
             0,
             "#0d0887"
            ],
            [
             0.1111111111111111,
             "#46039f"
            ],
            [
             0.2222222222222222,
             "#7201a8"
            ],
            [
             0.3333333333333333,
             "#9c179e"
            ],
            [
             0.4444444444444444,
             "#bd3786"
            ],
            [
             0.5555555555555556,
             "#d8576b"
            ],
            [
             0.6666666666666666,
             "#ed7953"
            ],
            [
             0.7777777777777778,
             "#fb9f3a"
            ],
            [
             0.8888888888888888,
             "#fdca26"
            ],
            [
             1,
             "#f0f921"
            ]
           ],
           "sequentialminus": [
            [
             0,
             "#0d0887"
            ],
            [
             0.1111111111111111,
             "#46039f"
            ],
            [
             0.2222222222222222,
             "#7201a8"
            ],
            [
             0.3333333333333333,
             "#9c179e"
            ],
            [
             0.4444444444444444,
             "#bd3786"
            ],
            [
             0.5555555555555556,
             "#d8576b"
            ],
            [
             0.6666666666666666,
             "#ed7953"
            ],
            [
             0.7777777777777778,
             "#fb9f3a"
            ],
            [
             0.8888888888888888,
             "#fdca26"
            ],
            [
             1,
             "#f0f921"
            ]
           ]
          },
          "colorway": [
           "#636efa",
           "#EF553B",
           "#00cc96",
           "#ab63fa",
           "#FFA15A",
           "#19d3f3",
           "#FF6692",
           "#B6E880",
           "#FF97FF",
           "#FECB52"
          ],
          "font": {
           "color": "#2a3f5f"
          },
          "geo": {
           "bgcolor": "white",
           "lakecolor": "white",
           "landcolor": "#E5ECF6",
           "showlakes": true,
           "showland": true,
           "subunitcolor": "white"
          },
          "hoverlabel": {
           "align": "left"
          },
          "hovermode": "closest",
          "mapbox": {
           "style": "light"
          },
          "paper_bgcolor": "white",
          "plot_bgcolor": "#E5ECF6",
          "polar": {
           "angularaxis": {
            "gridcolor": "white",
            "linecolor": "white",
            "ticks": ""
           },
           "bgcolor": "#E5ECF6",
           "radialaxis": {
            "gridcolor": "white",
            "linecolor": "white",
            "ticks": ""
           }
          },
          "scene": {
           "xaxis": {
            "backgroundcolor": "#E5ECF6",
            "gridcolor": "white",
            "gridwidth": 2,
            "linecolor": "white",
            "showbackground": true,
            "ticks": "",
            "zerolinecolor": "white"
           },
           "yaxis": {
            "backgroundcolor": "#E5ECF6",
            "gridcolor": "white",
            "gridwidth": 2,
            "linecolor": "white",
            "showbackground": true,
            "ticks": "",
            "zerolinecolor": "white"
           },
           "zaxis": {
            "backgroundcolor": "#E5ECF6",
            "gridcolor": "white",
            "gridwidth": 2,
            "linecolor": "white",
            "showbackground": true,
            "ticks": "",
            "zerolinecolor": "white"
           }
          },
          "shapedefaults": {
           "line": {
            "color": "#2a3f5f"
           }
          },
          "ternary": {
           "aaxis": {
            "gridcolor": "white",
            "linecolor": "white",
            "ticks": ""
           },
           "baxis": {
            "gridcolor": "white",
            "linecolor": "white",
            "ticks": ""
           },
           "bgcolor": "#E5ECF6",
           "caxis": {
            "gridcolor": "white",
            "linecolor": "white",
            "ticks": ""
           }
          },
          "title": {
           "x": 0.05
          },
          "xaxis": {
           "automargin": true,
           "gridcolor": "white",
           "linecolor": "white",
           "ticks": "",
           "title": {
            "standoff": 15
           },
           "zerolinecolor": "white",
           "zerolinewidth": 2
          },
          "yaxis": {
           "automargin": true,
           "gridcolor": "white",
           "linecolor": "white",
           "ticks": "",
           "title": {
            "standoff": 15
           },
           "zerolinecolor": "white",
           "zerolinewidth": 2
          }
         }
        },
        "title": {
         "text": "Number of Births In and Out of Hospital by Ethnicity"
        },
        "xaxis": {
         "anchor": "y",
         "domain": [
          0,
          1
         ],
         "title": {
          "text": "Ethnicity"
         }
        },
        "yaxis": {
         "anchor": "x",
         "domain": [
          0,
          1
         ],
         "title": {
          "text": "count"
         }
        }
       }
      }
     },
     "metadata": {},
     "output_type": "display_data"
    }
   ],
   "source": [
    "import pandas as pd\n",
    "import plotly.express as px\n",
    "\n",
    "# Assuming your dataframe is named df, and has columns 'OutofHospital', 'PrimaryLanguage' and 'Ethnicity'\n",
    "\n",
    "# Plot for PrimaryLanguage\n",
    "fig1 = px.histogram(df, x=\"PrimaryLanguage\", color=\"OutofHospital\",\n",
    "                    barmode=\"group\", nbins=len(df[\"PrimaryLanguage\"].unique()),\n",
    "                    labels={\"PrimaryLanguage\": \"Primary Language\", \"OutofHospital\": \"Out of Hospital\"},\n",
    "                    title=\"Number of Births In and Out of Hospital by Primary Language\")\n",
    "\n",
    "fig1.show()\n",
    "\n",
    "\n",
    "# Plot for Ethnicity\n",
    "fig2 = px.histogram(df, x=\"Ethnicity\", color=\"OutofHospital\",\n",
    "                    barmode=\"group\", nbins=len(df[\"Ethnicity\"].unique()),\n",
    "                    labels={\"Ethnicity\": \"Ethnicity\", \"OutofHospital\": \"Out of Hospital\"},\n",
    "                    title=\"Number of Births In and Out of Hospital by Ethnicity\",\n",
    ")\n",
    "\n",
    "fig2.show()\n",
    "\n",
    "# export plotly figures to html\n",
    "import plotly.io as pio\n",
    "pio.write_html(fig1, file='fig1.html', auto_open=False)\n",
    "pio.write_html(fig2, file='fig2.html', auto_open=False)\n"
   ]
  },
  {
   "cell_type": "code",
   "execution_count": 7,
   "metadata": {},
   "outputs": [
    {
     "data": {
      "application/vnd.plotly.v1+json": {
       "config": {
        "plotlyServerURL": "https://plot.ly"
       },
       "data": [
        {
         "name": "Out of Hospital",
         "type": "bar",
         "visible": false,
         "x": [
          "Asian",
          "Black/African American",
          "Caucasian/White",
          "Other"
         ],
         "y": [
          2,
          45,
          2,
          17
         ]
        },
        {
         "name": "In Hospital",
         "type": "bar",
         "visible": false,
         "x": [
          0,
          "American Indian",
          "Asian",
          "Black/African American",
          "Other"
         ],
         "y": [
          3,
          1,
          1,
          24,
          43
         ]
        },
        {
         "name": "Out of Hospital",
         "type": "bar",
         "visible": false,
         "x": [
          16,
          18,
          19,
          20,
          21,
          22,
          23,
          24,
          25,
          26,
          27,
          28,
          29,
          30,
          31,
          32,
          33,
          34,
          35,
          36,
          38,
          39,
          40,
          42
         ],
         "y": [
          3,
          1,
          1,
          1,
          2,
          5,
          3,
          3,
          3,
          7,
          5,
          4,
          2,
          3,
          7,
          1,
          3,
          2,
          2,
          4,
          1,
          1,
          1,
          1
         ]
        },
        {
         "name": "In Hospital",
         "type": "bar",
         "visible": false,
         "x": [
          15,
          16,
          18,
          19,
          20,
          21,
          22,
          23,
          24,
          25,
          26,
          27,
          28,
          29,
          30,
          33,
          34,
          35,
          36,
          37,
          38,
          43,
          44
         ],
         "y": [
          1,
          1,
          1,
          3,
          5,
          2,
          6,
          3,
          4,
          5,
          4,
          3,
          3,
          5,
          5,
          4,
          4,
          5,
          1,
          2,
          2,
          1,
          2
         ]
        },
        {
         "name": "Out of Hospital",
         "type": "bar",
         "visible": false,
         "x": [
          "Arabic",
          "English",
          "Haitian Creole",
          "Portuguese",
          "Spanish"
         ],
         "y": [
          1,
          50,
          3,
          1,
          11
         ]
        },
        {
         "name": "In Hospital",
         "type": "bar",
         "visible": false,
         "x": [
          "Bengali",
          "English",
          "French",
          "French Creole",
          "Haitian Creole",
          "Portugese",
          "Portuguese",
          "Spanish",
          "Urdu"
         ],
         "y": [
          1,
          31,
          1,
          1,
          2,
          2,
          3,
          30,
          1
         ]
        },
        {
         "name": "Out of Hospital",
         "type": "bar",
         "visible": true,
         "x": [
          "hispanic/latino",
          "not hispanic/latino"
         ],
         "y": [
          17,
          49
         ]
        },
        {
         "name": "In Hospital",
         "type": "bar",
         "visible": true,
         "x": [
          "hispanic/latino",
          "not hispanic/latino"
         ],
         "y": [
          44,
          28
         ]
        },
        {
         "name": "Out of Hospital",
         "type": "bar",
         "visible": false,
         "x": [
          "Bachelor and above",
          "high school graduate",
          "less than high school",
          "none listed",
          "some college"
         ],
         "y": [
          4,
          9,
          4,
          48,
          1
         ]
        },
        {
         "name": "In Hospital",
         "type": "bar",
         "visible": false,
         "x": [
          "Bachelor and above",
          "high school graduate",
          "less than high school",
          "none listed",
          "some college"
         ],
         "y": [
          3,
          17,
          7,
          44,
          1
         ]
        },
        {
         "name": "Out of Hospital",
         "type": "bar",
         "visible": false,
         "x": [
          "employed",
          "not listed",
          "unemployed"
         ],
         "y": [
          17,
          16,
          33
         ]
        },
        {
         "name": "In Hospital",
         "type": "bar",
         "visible": false,
         "x": [
          "employed",
          "not listed",
          "unemployed"
         ],
         "y": [
          13,
          17,
          42
         ]
        },
        {
         "name": "Out of Hospital",
         "type": "bar",
         "visible": false,
         "x": [
          0,
          1
         ],
         "y": [
          17,
          49
         ]
        },
        {
         "name": "In Hospital",
         "type": "bar",
         "visible": false,
         "x": [
          0,
          1
         ],
         "y": [
          21,
          51
         ]
        },
        {
         "name": "Out of Hospital",
         "type": "bar",
         "visible": false,
         "x": [
          "2 prior children",
          "3 prior children",
          "4 prior children",
          "5 prior children",
          "6 prior children",
          "9 prior children",
          "No prior child"
         ],
         "y": [
          18,
          11,
          7,
          3,
          2,
          1,
          24
         ]
        },
        {
         "name": "In Hospital",
         "type": "bar",
         "visible": false,
         "x": [
          "2 prior children",
          "3 prior children",
          "4 prior children",
          "5 prior children",
          "6 prior children",
          "8 prior children",
          "No prior child"
         ],
         "y": [
          14,
          12,
          7,
          2,
          2,
          1,
          34
         ]
        }
       ],
       "layout": {
        "barmode": "group",
        "template": {
         "data": {
          "bar": [
           {
            "error_x": {
             "color": "#2a3f5f"
            },
            "error_y": {
             "color": "#2a3f5f"
            },
            "marker": {
             "line": {
              "color": "#E5ECF6",
              "width": 0.5
             },
             "pattern": {
              "fillmode": "overlay",
              "size": 10,
              "solidity": 0.2
             }
            },
            "type": "bar"
           }
          ],
          "barpolar": [
           {
            "marker": {
             "line": {
              "color": "#E5ECF6",
              "width": 0.5
             },
             "pattern": {
              "fillmode": "overlay",
              "size": 10,
              "solidity": 0.2
             }
            },
            "type": "barpolar"
           }
          ],
          "carpet": [
           {
            "aaxis": {
             "endlinecolor": "#2a3f5f",
             "gridcolor": "white",
             "linecolor": "white",
             "minorgridcolor": "white",
             "startlinecolor": "#2a3f5f"
            },
            "baxis": {
             "endlinecolor": "#2a3f5f",
             "gridcolor": "white",
             "linecolor": "white",
             "minorgridcolor": "white",
             "startlinecolor": "#2a3f5f"
            },
            "type": "carpet"
           }
          ],
          "choropleth": [
           {
            "colorbar": {
             "outlinewidth": 0,
             "ticks": ""
            },
            "type": "choropleth"
           }
          ],
          "contour": [
           {
            "colorbar": {
             "outlinewidth": 0,
             "ticks": ""
            },
            "colorscale": [
             [
              0,
              "#0d0887"
             ],
             [
              0.1111111111111111,
              "#46039f"
             ],
             [
              0.2222222222222222,
              "#7201a8"
             ],
             [
              0.3333333333333333,
              "#9c179e"
             ],
             [
              0.4444444444444444,
              "#bd3786"
             ],
             [
              0.5555555555555556,
              "#d8576b"
             ],
             [
              0.6666666666666666,
              "#ed7953"
             ],
             [
              0.7777777777777778,
              "#fb9f3a"
             ],
             [
              0.8888888888888888,
              "#fdca26"
             ],
             [
              1,
              "#f0f921"
             ]
            ],
            "type": "contour"
           }
          ],
          "contourcarpet": [
           {
            "colorbar": {
             "outlinewidth": 0,
             "ticks": ""
            },
            "type": "contourcarpet"
           }
          ],
          "heatmap": [
           {
            "colorbar": {
             "outlinewidth": 0,
             "ticks": ""
            },
            "colorscale": [
             [
              0,
              "#0d0887"
             ],
             [
              0.1111111111111111,
              "#46039f"
             ],
             [
              0.2222222222222222,
              "#7201a8"
             ],
             [
              0.3333333333333333,
              "#9c179e"
             ],
             [
              0.4444444444444444,
              "#bd3786"
             ],
             [
              0.5555555555555556,
              "#d8576b"
             ],
             [
              0.6666666666666666,
              "#ed7953"
             ],
             [
              0.7777777777777778,
              "#fb9f3a"
             ],
             [
              0.8888888888888888,
              "#fdca26"
             ],
             [
              1,
              "#f0f921"
             ]
            ],
            "type": "heatmap"
           }
          ],
          "heatmapgl": [
           {
            "colorbar": {
             "outlinewidth": 0,
             "ticks": ""
            },
            "colorscale": [
             [
              0,
              "#0d0887"
             ],
             [
              0.1111111111111111,
              "#46039f"
             ],
             [
              0.2222222222222222,
              "#7201a8"
             ],
             [
              0.3333333333333333,
              "#9c179e"
             ],
             [
              0.4444444444444444,
              "#bd3786"
             ],
             [
              0.5555555555555556,
              "#d8576b"
             ],
             [
              0.6666666666666666,
              "#ed7953"
             ],
             [
              0.7777777777777778,
              "#fb9f3a"
             ],
             [
              0.8888888888888888,
              "#fdca26"
             ],
             [
              1,
              "#f0f921"
             ]
            ],
            "type": "heatmapgl"
           }
          ],
          "histogram": [
           {
            "marker": {
             "pattern": {
              "fillmode": "overlay",
              "size": 10,
              "solidity": 0.2
             }
            },
            "type": "histogram"
           }
          ],
          "histogram2d": [
           {
            "colorbar": {
             "outlinewidth": 0,
             "ticks": ""
            },
            "colorscale": [
             [
              0,
              "#0d0887"
             ],
             [
              0.1111111111111111,
              "#46039f"
             ],
             [
              0.2222222222222222,
              "#7201a8"
             ],
             [
              0.3333333333333333,
              "#9c179e"
             ],
             [
              0.4444444444444444,
              "#bd3786"
             ],
             [
              0.5555555555555556,
              "#d8576b"
             ],
             [
              0.6666666666666666,
              "#ed7953"
             ],
             [
              0.7777777777777778,
              "#fb9f3a"
             ],
             [
              0.8888888888888888,
              "#fdca26"
             ],
             [
              1,
              "#f0f921"
             ]
            ],
            "type": "histogram2d"
           }
          ],
          "histogram2dcontour": [
           {
            "colorbar": {
             "outlinewidth": 0,
             "ticks": ""
            },
            "colorscale": [
             [
              0,
              "#0d0887"
             ],
             [
              0.1111111111111111,
              "#46039f"
             ],
             [
              0.2222222222222222,
              "#7201a8"
             ],
             [
              0.3333333333333333,
              "#9c179e"
             ],
             [
              0.4444444444444444,
              "#bd3786"
             ],
             [
              0.5555555555555556,
              "#d8576b"
             ],
             [
              0.6666666666666666,
              "#ed7953"
             ],
             [
              0.7777777777777778,
              "#fb9f3a"
             ],
             [
              0.8888888888888888,
              "#fdca26"
             ],
             [
              1,
              "#f0f921"
             ]
            ],
            "type": "histogram2dcontour"
           }
          ],
          "mesh3d": [
           {
            "colorbar": {
             "outlinewidth": 0,
             "ticks": ""
            },
            "type": "mesh3d"
           }
          ],
          "parcoords": [
           {
            "line": {
             "colorbar": {
              "outlinewidth": 0,
              "ticks": ""
             }
            },
            "type": "parcoords"
           }
          ],
          "pie": [
           {
            "automargin": true,
            "type": "pie"
           }
          ],
          "scatter": [
           {
            "fillpattern": {
             "fillmode": "overlay",
             "size": 10,
             "solidity": 0.2
            },
            "type": "scatter"
           }
          ],
          "scatter3d": [
           {
            "line": {
             "colorbar": {
              "outlinewidth": 0,
              "ticks": ""
             }
            },
            "marker": {
             "colorbar": {
              "outlinewidth": 0,
              "ticks": ""
             }
            },
            "type": "scatter3d"
           }
          ],
          "scattercarpet": [
           {
            "marker": {
             "colorbar": {
              "outlinewidth": 0,
              "ticks": ""
             }
            },
            "type": "scattercarpet"
           }
          ],
          "scattergeo": [
           {
            "marker": {
             "colorbar": {
              "outlinewidth": 0,
              "ticks": ""
             }
            },
            "type": "scattergeo"
           }
          ],
          "scattergl": [
           {
            "marker": {
             "colorbar": {
              "outlinewidth": 0,
              "ticks": ""
             }
            },
            "type": "scattergl"
           }
          ],
          "scattermapbox": [
           {
            "marker": {
             "colorbar": {
              "outlinewidth": 0,
              "ticks": ""
             }
            },
            "type": "scattermapbox"
           }
          ],
          "scatterpolar": [
           {
            "marker": {
             "colorbar": {
              "outlinewidth": 0,
              "ticks": ""
             }
            },
            "type": "scatterpolar"
           }
          ],
          "scatterpolargl": [
           {
            "marker": {
             "colorbar": {
              "outlinewidth": 0,
              "ticks": ""
             }
            },
            "type": "scatterpolargl"
           }
          ],
          "scatterternary": [
           {
            "marker": {
             "colorbar": {
              "outlinewidth": 0,
              "ticks": ""
             }
            },
            "type": "scatterternary"
           }
          ],
          "surface": [
           {
            "colorbar": {
             "outlinewidth": 0,
             "ticks": ""
            },
            "colorscale": [
             [
              0,
              "#0d0887"
             ],
             [
              0.1111111111111111,
              "#46039f"
             ],
             [
              0.2222222222222222,
              "#7201a8"
             ],
             [
              0.3333333333333333,
              "#9c179e"
             ],
             [
              0.4444444444444444,
              "#bd3786"
             ],
             [
              0.5555555555555556,
              "#d8576b"
             ],
             [
              0.6666666666666666,
              "#ed7953"
             ],
             [
              0.7777777777777778,
              "#fb9f3a"
             ],
             [
              0.8888888888888888,
              "#fdca26"
             ],
             [
              1,
              "#f0f921"
             ]
            ],
            "type": "surface"
           }
          ],
          "table": [
           {
            "cells": {
             "fill": {
              "color": "#EBF0F8"
             },
             "line": {
              "color": "white"
             }
            },
            "header": {
             "fill": {
              "color": "#C8D4E3"
             },
             "line": {
              "color": "white"
             }
            },
            "type": "table"
           }
          ]
         },
         "layout": {
          "annotationdefaults": {
           "arrowcolor": "#2a3f5f",
           "arrowhead": 0,
           "arrowwidth": 1
          },
          "autotypenumbers": "strict",
          "coloraxis": {
           "colorbar": {
            "outlinewidth": 0,
            "ticks": ""
           }
          },
          "colorscale": {
           "diverging": [
            [
             0,
             "#8e0152"
            ],
            [
             0.1,
             "#c51b7d"
            ],
            [
             0.2,
             "#de77ae"
            ],
            [
             0.3,
             "#f1b6da"
            ],
            [
             0.4,
             "#fde0ef"
            ],
            [
             0.5,
             "#f7f7f7"
            ],
            [
             0.6,
             "#e6f5d0"
            ],
            [
             0.7,
             "#b8e186"
            ],
            [
             0.8,
             "#7fbc41"
            ],
            [
             0.9,
             "#4d9221"
            ],
            [
             1,
             "#276419"
            ]
           ],
           "sequential": [
            [
             0,
             "#0d0887"
            ],
            [
             0.1111111111111111,
             "#46039f"
            ],
            [
             0.2222222222222222,
             "#7201a8"
            ],
            [
             0.3333333333333333,
             "#9c179e"
            ],
            [
             0.4444444444444444,
             "#bd3786"
            ],
            [
             0.5555555555555556,
             "#d8576b"
            ],
            [
             0.6666666666666666,
             "#ed7953"
            ],
            [
             0.7777777777777778,
             "#fb9f3a"
            ],
            [
             0.8888888888888888,
             "#fdca26"
            ],
            [
             1,
             "#f0f921"
            ]
           ],
           "sequentialminus": [
            [
             0,
             "#0d0887"
            ],
            [
             0.1111111111111111,
             "#46039f"
            ],
            [
             0.2222222222222222,
             "#7201a8"
            ],
            [
             0.3333333333333333,
             "#9c179e"
            ],
            [
             0.4444444444444444,
             "#bd3786"
            ],
            [
             0.5555555555555556,
             "#d8576b"
            ],
            [
             0.6666666666666666,
             "#ed7953"
            ],
            [
             0.7777777777777778,
             "#fb9f3a"
            ],
            [
             0.8888888888888888,
             "#fdca26"
            ],
            [
             1,
             "#f0f921"
            ]
           ]
          },
          "colorway": [
           "#636efa",
           "#EF553B",
           "#00cc96",
           "#ab63fa",
           "#FFA15A",
           "#19d3f3",
           "#FF6692",
           "#B6E880",
           "#FF97FF",
           "#FECB52"
          ],
          "font": {
           "color": "#2a3f5f"
          },
          "geo": {
           "bgcolor": "white",
           "lakecolor": "white",
           "landcolor": "#E5ECF6",
           "showlakes": true,
           "showland": true,
           "subunitcolor": "white"
          },
          "hoverlabel": {
           "align": "left"
          },
          "hovermode": "closest",
          "mapbox": {
           "style": "light"
          },
          "paper_bgcolor": "white",
          "plot_bgcolor": "#E5ECF6",
          "polar": {
           "angularaxis": {
            "gridcolor": "white",
            "linecolor": "white",
            "ticks": ""
           },
           "bgcolor": "#E5ECF6",
           "radialaxis": {
            "gridcolor": "white",
            "linecolor": "white",
            "ticks": ""
           }
          },
          "scene": {
           "xaxis": {
            "backgroundcolor": "#E5ECF6",
            "gridcolor": "white",
            "gridwidth": 2,
            "linecolor": "white",
            "showbackground": true,
            "ticks": "",
            "zerolinecolor": "white"
           },
           "yaxis": {
            "backgroundcolor": "#E5ECF6",
            "gridcolor": "white",
            "gridwidth": 2,
            "linecolor": "white",
            "showbackground": true,
            "ticks": "",
            "zerolinecolor": "white"
           },
           "zaxis": {
            "backgroundcolor": "#E5ECF6",
            "gridcolor": "white",
            "gridwidth": 2,
            "linecolor": "white",
            "showbackground": true,
            "ticks": "",
            "zerolinecolor": "white"
           }
          },
          "shapedefaults": {
           "line": {
            "color": "#2a3f5f"
           }
          },
          "ternary": {
           "aaxis": {
            "gridcolor": "white",
            "linecolor": "white",
            "ticks": ""
           },
           "baxis": {
            "gridcolor": "white",
            "linecolor": "white",
            "ticks": ""
           },
           "bgcolor": "#E5ECF6",
           "caxis": {
            "gridcolor": "white",
            "linecolor": "white",
            "ticks": ""
           }
          },
          "title": {
           "x": 0.05
          },
          "xaxis": {
           "automargin": true,
           "gridcolor": "white",
           "linecolor": "white",
           "ticks": "",
           "title": {
            "standoff": 15
           },
           "zerolinecolor": "white",
           "zerolinewidth": 2
          },
          "yaxis": {
           "automargin": true,
           "gridcolor": "white",
           "linecolor": "white",
           "ticks": "",
           "title": {
            "standoff": 15
           },
           "zerolinecolor": "white",
           "zerolinewidth": 2
          }
         }
        },
        "title": {
         "text": "Number of Births In and Out of Hospital by Ethnicity"
        },
        "updatemenus": [
         {
          "active": 3,
          "buttons": [
           {
            "args": [
             {
              "visible": [
               true,
               true,
               false,
               false,
               false,
               false,
               false,
               false,
               false,
               false,
               false,
               false,
               false,
               false,
               false,
               false
              ]
             },
             {
              "title": "Number of Births In and Out of Hospital by Race",
              "xaxis": {
               "title": "Race"
              },
              "yaxis": {
               "title": "Number of Births"
              }
             }
            ],
            "label": "Race",
            "method": "update"
           },
           {
            "args": [
             {
              "visible": [
               false,
               false,
               true,
               true,
               false,
               false,
               false,
               false,
               false,
               false,
               false,
               false,
               false,
               false,
               false,
               false
              ]
             },
             {
              "title": "Number of Births In and Out of Hospital by Age",
              "xaxis": {
               "title": "Age"
              },
              "yaxis": {
               "title": "Number of Births"
              }
             }
            ],
            "label": "Age",
            "method": "update"
           },
           {
            "args": [
             {
              "visible": [
               false,
               false,
               false,
               false,
               true,
               true,
               false,
               false,
               false,
               false,
               false,
               false,
               false,
               false,
               false,
               false
              ]
             },
             {
              "title": "Number of Births In and Out of Hospital by PrimaryLanguage",
              "xaxis": {
               "title": "PrimaryLanguage"
              },
              "yaxis": {
               "title": "Number of Births"
              }
             }
            ],
            "label": "PrimaryLanguage",
            "method": "update"
           },
           {
            "args": [
             {
              "visible": [
               false,
               false,
               false,
               false,
               false,
               false,
               true,
               true,
               false,
               false,
               false,
               false,
               false,
               false,
               false,
               false
              ]
             },
             {
              "title": "Number of Births In and Out of Hospital by Ethnicity",
              "xaxis": {
               "title": "Ethnicity"
              },
              "yaxis": {
               "title": "Number of Births"
              }
             }
            ],
            "label": "Ethnicity",
            "method": "update"
           },
           {
            "args": [
             {
              "visible": [
               false,
               false,
               false,
               false,
               false,
               false,
               false,
               false,
               true,
               true,
               false,
               false,
               false,
               false,
               false,
               false
              ]
             },
             {
              "title": "Number of Births In and Out of Hospital by Education",
              "xaxis": {
               "title": "Education"
              },
              "yaxis": {
               "title": "Number of Births"
              }
             }
            ],
            "label": "Education",
            "method": "update"
           },
           {
            "args": [
             {
              "visible": [
               false,
               false,
               false,
               false,
               false,
               false,
               false,
               false,
               false,
               false,
               true,
               true,
               false,
               false,
               false,
               false
              ]
             },
             {
              "title": "Number of Births In and Out of Hospital by Employment",
              "xaxis": {
               "title": "Employment"
              },
              "yaxis": {
               "title": "Number of Births"
              }
             }
            ],
            "label": "Employment",
            "method": "update"
           },
           {
            "args": [
             {
              "visible": [
               false,
               false,
               false,
               false,
               false,
               false,
               false,
               false,
               false,
               false,
               false,
               false,
               true,
               true,
               false,
               false
              ]
             },
             {
              "title": "Number of Births In and Out of Hospital by PregnancyComplications",
              "xaxis": {
               "title": "PregnancyComplications"
              },
              "yaxis": {
               "title": "Number of Births"
              }
             }
            ],
            "label": "PregnancyComplications",
            "method": "update"
           },
           {
            "args": [
             {
              "visible": [
               false,
               false,
               false,
               false,
               false,
               false,
               false,
               false,
               false,
               false,
               false,
               false,
               false,
               false,
               true,
               true
              ]
             },
             {
              "title": "Number of Births In and Out of Hospital by Parity",
              "xaxis": {
               "title": "Parity"
              },
              "yaxis": {
               "title": "Number of Births"
              }
             }
            ],
            "label": "Parity",
            "method": "update"
           }
          ],
          "direction": "down",
          "pad": {
           "r": 10,
           "t": 10
          },
          "showactive": true,
          "x": 0.1,
          "xanchor": "left",
          "y": 1.1,
          "yanchor": "top"
         }
        ]
       }
      }
     },
     "metadata": {},
     "output_type": "display_data"
    }
   ],
   "source": [
    "import pandas as pd\n",
    "import plotly.graph_objects as go\n",
    "import plotly.io as pio\n",
    "\n",
    "# Assuming your dataframe is named df, and has columns 'OutofHospital', 'Race', 'Age', 'PrimaryLanguage', 'Ethnicity', 'Education', 'Employment', 'PregnancyComplications', 'Parity'\n",
    "\n",
    "# List of variables to plot\n",
    "variables = [\"Race\", \"Age\", \"PrimaryLanguage\", \"Ethnicity\", \"Education\", \"Employment\", \"PregnancyComplications\", \"Parity\"]\n",
    "\n",
    "# Function to create bar chart for a specific variable\n",
    "def create_trace(variable):\n",
    "    count_data = df.groupby([variable, 'OutofHospital']).size().reset_index(name='count')\n",
    "    return {\n",
    "        'x': count_data[count_data['OutofHospital'] == 1][variable],\n",
    "        'y': count_data[count_data['OutofHospital'] == 1]['count'],\n",
    "        'name': 'Out of Hospital',\n",
    "        'type': 'bar'\n",
    "    }, {\n",
    "        'x': count_data[count_data['OutofHospital'] == 0][variable],\n",
    "        'y': count_data[count_data['OutofHospital'] == 0]['count'],\n",
    "        'name': 'In Hospital',\n",
    "        'type': 'bar'\n",
    "    }\n",
    "\n",
    "# Create figure\n",
    "fig = go.Figure()\n",
    "\n",
    "# Add traces for each variable\n",
    "for var in variables:\n",
    "    trace1, trace2 = create_trace(var)\n",
    "    fig.add_trace(trace1)\n",
    "    fig.add_trace(trace2)\n",
    "\n",
    "# Create a dropdown menu\n",
    "buttons = []\n",
    "for i, var in enumerate(variables):\n",
    "    visibility = [False] * len(variables) * 2\n",
    "    visibility[i*2] = True\n",
    "    visibility[i*2 + 1] = True\n",
    "    buttons.append(dict(label=var,\n",
    "                        method=\"update\",\n",
    "                        args=[{\"visible\": visibility},\n",
    "                              {\"title\": f\"Number of Births In and Out of Hospital by {var}\",\n",
    "                               \"xaxis\": {\"title\": var},\n",
    "                               \"yaxis\": {\"title\": \"Number of Births\"}}]))\n",
    "\n",
    "# Update layout with dropdown\n",
    "fig.update_layout(\n",
    "    updatemenus=[\n",
    "        go.layout.Updatemenu(\n",
    "            active=3,  # Set default view to 'Ethnicity'\n",
    "            buttons=buttons,\n",
    "            direction=\"down\",\n",
    "            pad={\"r\": 10, \"t\": 10},\n",
    "            showactive=True,\n",
    "            x=0.1,\n",
    "            xanchor=\"left\",\n",
    "            y=1.1,\n",
    "            yanchor=\"top\"\n",
    "        ),\n",
    "    ],\n",
    "    barmode=\"group\"\n",
    ")\n",
    "\n",
    "# Set initial title\n",
    "fig.update_layout(title=f\"Number of Births In and Out of Hospital by Ethnicity\")\n",
    "\n",
    "# Set initial visibility\n",
    "visibility = [False] * len(variables) * 2\n",
    "visibility[3*2] = True\n",
    "visibility[3*2 + 1] = True\n",
    "fig.update_traces(visible=False)\n",
    "fig.data[3*2].visible = True\n",
    "fig.data[3*2 + 1].visible = True\n",
    "\n",
    "# Show figure\n",
    "fig.show()\n",
    "\n",
    "# Write to HTML\n",
    "pio.write_html(fig, file='fig.html', auto_open=False)"
   ]
  },
  {
   "attachments": {},
   "cell_type": "markdown",
   "metadata": {},
   "source": [
    "## Logistic Regresion"
   ]
  },
  {
   "cell_type": "code",
   "execution_count": 19,
   "metadata": {},
   "outputs": [
    {
     "data": {
      "text/plain": [
       "0                       Other\n",
       "1      Black/African American\n",
       "2                       Other\n",
       "3                       Other\n",
       "4                       Other\n",
       "                ...          \n",
       "133    Black/African American\n",
       "134    Black/African American\n",
       "135    Black/African American\n",
       "136                     Asian\n",
       "137    Black/African American\n",
       "Name: Race, Length: 138, dtype: object"
      ]
     },
     "execution_count": 19,
     "metadata": {},
     "output_type": "execute_result"
    }
   ],
   "source": []
  },
  {
   "cell_type": "code",
   "execution_count": 32,
   "metadata": {},
   "outputs": [
    {
     "data": {
      "text/plain": [
       "array(['Spanish', 'Urdu', 'English', 'Portugese', 'Bengali',\n",
       "       'Haitian Creole', 'French Creole', 'French', 'Portuguese',\n",
       "       'Arabic'], dtype=object)"
      ]
     },
     "execution_count": 32,
     "metadata": {},
     "output_type": "execute_result"
    }
   ],
   "source": [
    "df.PrimaryLanguage.unique()"
   ]
  },
  {
   "cell_type": "code",
   "execution_count": 54,
   "metadata": {},
   "outputs": [
    {
     "name": "stdout",
     "output_type": "stream",
     "text": [
      "Best Parameters:\n",
      "{'C': 0.1, 'penalty': 'l2'}\n",
      "F1 Score (Test Set): 0.70\n"
     ]
    },
    {
     "name": "stderr",
     "output_type": "stream",
     "text": [
      "/Users/raphael.attias/data analysis/.venv/lib/python3.11/site-packages/sklearn/model_selection/_validation.py:378: FitFailedWarning:\n",
      "\n",
      "\n",
      "25 fits failed out of a total of 50.\n",
      "The score on these train-test partitions for these parameters will be set to nan.\n",
      "If these failures are not expected, you can try to debug them by setting error_score='raise'.\n",
      "\n",
      "Below are more details about the failures:\n",
      "--------------------------------------------------------------------------------\n",
      "25 fits failed with the following error:\n",
      "Traceback (most recent call last):\n",
      "  File \"/Users/raphael.attias/data analysis/.venv/lib/python3.11/site-packages/sklearn/model_selection/_validation.py\", line 686, in _fit_and_score\n",
      "    estimator.fit(X_train, y_train, **fit_params)\n",
      "  File \"/Users/raphael.attias/data analysis/.venv/lib/python3.11/site-packages/sklearn/linear_model/_logistic.py\", line 1162, in fit\n",
      "    solver = _check_solver(self.solver, self.penalty, self.dual)\n",
      "             ^^^^^^^^^^^^^^^^^^^^^^^^^^^^^^^^^^^^^^^^^^^^^^^^^^^\n",
      "  File \"/Users/raphael.attias/data analysis/.venv/lib/python3.11/site-packages/sklearn/linear_model/_logistic.py\", line 54, in _check_solver\n",
      "    raise ValueError(\n",
      "ValueError: Solver lbfgs supports only 'l2' or 'none' penalties, got l1 penalty.\n",
      "\n",
      "\n",
      "/Users/raphael.attias/data analysis/.venv/lib/python3.11/site-packages/sklearn/model_selection/_search.py:952: UserWarning:\n",
      "\n",
      "One or more of the test scores are non-finite: [       nan 0.15238095        nan 0.66005938        nan 0.67612454\n",
      "        nan 0.64644033        nan 0.64662027]\n",
      "\n"
     ]
    }
   ],
   "source": [
    "import pandas as pd\n",
    "import numpy as np\n",
    "from sklearn.model_selection import train_test_split\n",
    "from sklearn.linear_model import LogisticRegression\n",
    "from sklearn.preprocessing import OneHotEncoder, StandardScaler\n",
    "\n",
    "# Load data\n",
    "# Assuming that the dataframe is already loaded in variable df\n",
    "\n",
    "# Preprocessing\n",
    "# Select variables of interest\n",
    "variables_of_interest = [\"Race\", \"Age\", \"PrimaryLanguage\", \"Ethnicity\", \"Education\"]\n",
    "X = df[variables_of_interest]\n",
    "\n",
    "# One hot encoding for categorical variables\n",
    "categorical_vars = [\"Race\", \"PrimaryLanguage\", \"Ethnicity\", \"Education\"]\n",
    "one_hot_encoder = OneHotEncoder(drop='first')\n",
    "one_hot_encoded = one_hot_encoder.fit_transform(X[categorical_vars])\n",
    "encoded_features = one_hot_encoder.get_feature_names_out(categorical_vars)\n",
    "encoded_df = pd.DataFrame(one_hot_encoded.toarray(), columns=encoded_features)\n",
    "\n",
    "# Combine the one-hot-encoded variables with the numeric variables\n",
    "X = pd.concat([X.drop(categorical_vars, axis=1), encoded_df], axis=1)\n",
    "\n",
    "# Standardize numerical features\n",
    "scaler = StandardScaler()\n",
    "X[['Age']] = scaler.fit_transform(X[['Age']])\n",
    "\n",
    "# Target variable\n",
    "y = df['OutofHospital']\n",
    "\n",
    "# Split the data into training and testing sets\n",
    "X_train, X_test, y_train, y_test = train_test_split(X, y, test_size=0.2, random_state=42)\n",
    "\n",
    "# Logistic regression\n",
    "log_reg = LogisticRegression(max_iter=1000)\n",
    "log_reg.fit(X_train, y_train)\n",
    "\n",
    "# Evaluate feature importance\n",
    "feature_importance = pd.DataFrame({\"Feature\": X.columns, \"Coefficient\": log_reg.coef_[0]})\n",
    "feature_importance = feature_importance.sort_values(by=\"Coefficient\", key=abs, ascending=False)\n",
    "\n",
    "print(\"Feature Importances:\")\n",
    "print(feature_importance)\n",
    "\n",
    "from sklearn.metrics import accuracy_score, precision_score, recall_score, f1_score, confusion_matrix\n",
    "\n",
    "# Predictions on the test set\n",
    "y_pred = log_reg.predict(X_test)\n",
    "\n",
    "# Calculate metrics\n",
    "accuracy = accuracy_score(y_test, y_pred)\n",
    "precision = precision_score(y_test, y_pred)\n",
    "recall = recall_score(y_test, y_pred)\n",
    "f1 = f1_score(y_test, y_pred)\n",
    "conf_matrix = confusion_matrix(y_test, y_pred)\n",
    "\n",
    "# Print metrics\n",
    "print(f'Accuracy: {accuracy:.2f}')\n",
    "print(f'Precision: {precision:.2f}')\n",
    "print(f'Recall: {recall:.2f}')\n",
    "print(f'F1 Score: {f1:.2f}')"
   ]
  },
  {
   "cell_type": "code",
   "execution_count": null,
   "metadata": {},
   "outputs": [],
   "source": [
    "import pandas as pd\n",
    "import numpy as np\n",
    "from sklearn.model_selection import train_test_split, cross_val_score, GridSearchCV\n",
    "from sklearn.linear_model import LogisticRegression\n",
    "from sklearn.preprocessing import OneHotEncoder, StandardScaler\n",
    "from sklearn.metrics import make_scorer, f1_score\n",
    "\n",
    "# Load data\n",
    "# Assuming that the dataframe is already loaded in variable df\n",
    "\n",
    "# Preprocessing\n",
    "# Select variables of interest\n",
    "variables_of_interest = [\"Race\", \"Age\", \"PrimaryLanguage\", \"Ethnicity\", \"Education\"]\n",
    "X = df[variables_of_interest]\n",
    "\n",
    "# One hot encoding for categorical variables\n",
    "categorical_vars = [\"Race\", \"PrimaryLanguage\", \"Ethnicity\", \"Education\"]\n",
    "one_hot_encoder = OneHotEncoder(drop='first')\n",
    "one_hot_encoded = one_hot_encoder.fit_transform(X[categorical_vars])\n",
    "encoded_features = one_hot_encoder.get_feature_names_out(categorical_vars)\n",
    "encoded_df = pd.DataFrame(one_hot_encoded.toarray(), columns=encoded_features)\n",
    "\n",
    "# Combine the one-hot-encoded variables with the numeric variables\n",
    "X = pd.concat([X.drop(categorical_vars, axis=1), encoded_df], axis=1)\n",
    "\n",
    "# Standardize numerical features\n",
    "scaler = StandardScaler()\n",
    "X[['Age']] = scaler.fit_transform(X[['Age']])\n",
    "\n",
    "# Target variable\n",
    "y = df['OutofHospital']\n",
    "\n",
    "# Split the data into training and testing sets\n",
    "X_train, X_test, y_train, y_test = train_test_split(X, y, test_size=0.2, random_state=42)\n",
    "\n",
    "# Define logistic regression model\n",
    "log_reg = LogisticRegression(max_iter=1000)\n",
    "\n",
    "# Define parameter grid for grid search\n",
    "param_grid = {\n",
    "    'C': [0.001, 0.01, 0.1, 1, 10],\n",
    "    'penalty': ['l1', 'l2']\n",
    "}\n",
    "\n",
    "# Define scoring metric\n",
    "scorer = make_scorer(f1_score)\n",
    "\n",
    "# Perform grid search with cross-validation\n",
    "grid_search = GridSearchCV(log_reg, param_grid=param_grid, cv=5, scoring=scorer)\n",
    "grid_search.fit(X_train, y_train)\n",
    "\n",
    "# Get the best model and its parameters\n",
    "best_model = grid_search.best_estimator_\n",
    "best_params = grid_search.best_params_\n",
    "\n",
    "print(\"Best Parameters:\")\n",
    "print(best_params)\n",
    "\n",
    "# Evaluate the best model on the test set\n",
    "y_pred = best_model.predict(X_test)\n",
    "f1 = f1_score(y_test, y_pred)\n",
    "\n",
    "print(f'F1 Score (Test Set): {f1:.2f}')\n"
   ]
  }
 ],
 "metadata": {
  "kernelspec": {
   "display_name": ".venv",
   "language": "python",
   "name": "python3"
  },
  "language_info": {
   "codemirror_mode": {
    "name": "ipython",
    "version": 3
   },
   "file_extension": ".py",
   "mimetype": "text/x-python",
   "name": "python",
   "nbconvert_exporter": "python",
   "pygments_lexer": "ipython3",
   "version": "3.11.3"
  },
  "orig_nbformat": 4
 },
 "nbformat": 4,
 "nbformat_minor": 2
}
